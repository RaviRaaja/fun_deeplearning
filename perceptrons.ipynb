{
 "cells": [
  {
   "cell_type": "code",
   "execution_count": 1,
   "metadata": {
    "collapsed": true
   },
   "outputs": [],
   "source": [
    "import numpy as np\n",
    "import scipy"
   ]
  },
  {
   "cell_type": "code",
   "execution_count": 2,
   "metadata": {},
   "outputs": [
    {
     "name": "stdout",
     "output_type": "stream",
     "text": [
      "X is \n",
      " [[0 0]\n",
      " [0 1]\n",
      " [1 0]\n",
      " [1 1]] \n",
      " its shape is (4, 2)\n",
      "Y_AND is \n",
      " [[0]\n",
      " [0]\n",
      " [0]\n",
      " [1]] \n",
      " its shape is (4, 1)\n",
      "Y_OR is \n",
      " [[0]\n",
      " [1]\n",
      " [1]\n",
      " [1]] \n",
      " its shape is (4, 1)\n",
      "Y_XOR is \n",
      " [[0]\n",
      " [1]\n",
      " [1]\n",
      " [0]] \n",
      " its shape is (4, 1)\n"
     ]
    }
   ],
   "source": [
    "X = np.array([[0,0],[0,1],[1,0],[1,1]])\n",
    "\n",
    "Y_AND = np.array([0,0,0,1]).reshape((4,1))\n",
    "Y_OR = np.array([0,1,1,1]).reshape((4,1))\n",
    "Y_XOR = np.array([0,1,1,0]).reshape((4,1))\n",
    "\n",
    "print (\"X is \\n {} \\n its shape is {}\". format(X,X.shape))\n",
    "print (\"Y_AND is \\n {} \\n its shape is {}\".format(Y_AND,Y_AND.shape))\n",
    "print (\"Y_OR is \\n {} \\n its shape is {}\".format(Y_OR,Y_OR.shape))\n",
    "print (\"Y_XOR is \\n {} \\n its shape is {}\".format(Y_XOR,Y_XOR.shape))"
   ]
  },
  {
   "cell_type": "code",
   "execution_count": 74,
   "metadata": {},
   "outputs": [],
   "source": [
    "def init_weights():\n",
    "    W = np.random.rand(1,2)\n",
    "    b = 1\n",
    "    return W, b\n",
    "#print (\"Random weights are initialized as W = {}\".format(W))"
   ]
  },
  {
   "cell_type": "code",
   "execution_count": 75,
   "metadata": {},
   "outputs": [],
   "source": [
    "def step(z):\n",
    "    return np.heaviside(z,1)\n",
    "\n",
    "#print step([1, -3, 1, 4.3, -1, 0, 1],1)"
   ]
  },
  {
   "cell_type": "code",
   "execution_count": 76,
   "metadata": {},
   "outputs": [],
   "source": [
    "def propagate(W,b,X,Y):\n",
    "    A = step((np.dot(X,W.T) + b))\n",
    "    Error = Y - A\n",
    "    return Error\n",
    "\n",
    "#print(propagate(W,b,X,Y_OR))"
   ]
  },
  {
   "cell_type": "code",
   "execution_count": 92,
   "metadata": {},
   "outputs": [],
   "source": [
    "def optimize(W,b,X,Y,num_iterations, learning_rate):\n",
    "    \n",
    "    for i in range(num_iterations):\n",
    "        Error = propagate(W,b,X,Y)\n",
    "        #print (\"Error is {} for iteration {}\".format(Error, i+1))\n",
    "        W = W + np.multiply(learning_rate , (np.dot(Error.T,X))) \n",
    "        b = b + np.multiply(learning_rate , Error)\n",
    "    params = {\"W\" : W, \"b\" : b}\n",
    "    return params\n",
    "\n",
    "#print optimize(W,b,X,Y_OR,100,0.1)       "
   ]
  },
  {
   "cell_type": "code",
   "execution_count": 107,
   "metadata": {},
   "outputs": [
    {
     "name": "stdout",
     "output_type": "stream",
     "text": [
      "('W is', array([[ 0.63877672,  0.29257892]]))\n",
      "('b is ', 1)\n",
      "{'b': array([[ -8.81239526e-16],\n",
      "       [  1.00000000e+00],\n",
      "       [  1.00000000e+00],\n",
      "       [  3.56000000e-01]]), 'W': array([[-0.00522328, -0.35142108]])}\n"
     ]
    }
   ],
   "source": [
    "def model(X,Y,num_iterations,learning_rate):\n",
    "    W, b = init_weights()\n",
    "    #print (\"Initial W is {} and b is {}\".format(W,b))\n",
    "    params = optimize(W,b,X,Y,num_iterations, learning_rate)\n",
    "    #print (\"Final W is {} and b is {}\".format(params[\"W\"],params[\"b\"]))\n",
    "    print (\"W is\" ,W)\n",
    "    print (\"b is \",b)\n",
    "    return params  \n",
    "\n",
    "print (model(X,Y_XOR,2000,0.001))\n",
    "#print (model(X,Y_AND,1000,0.001))"
   ]
  },
  {
   "cell_type": "code",
   "execution_count": 108,
   "metadata": {},
   "outputs": [],
   "source": [
    "def validation(X,params):\n",
    "    W = params[\"W\"]\n",
    "    b = params[\"b\"]\n",
    "    print W\n",
    "    print b\n",
    "    A = step((np.dot(X,W.T) + b))\n",
    "    return  A"
   ]
  },
  {
   "cell_type": "code",
   "execution_count": 110,
   "metadata": {},
   "outputs": [
    {
     "name": "stdout",
     "output_type": "stream",
     "text": [
      "('W is', array([[ 0.07584091,  0.49615044]]))\n",
      "('b is ', 1)\n",
      "[[-0.52415909 -0.10384956]]\n",
      "[[-0.1]\n",
      " [ 1. ]\n",
      " [ 1. ]\n",
      " [ 0.4]]\n"
     ]
    },
    {
     "data": {
      "text/plain": [
       "array([[ 0.],\n",
       "       [ 1.],\n",
       "       [ 1.],\n",
       "       [ 0.]])"
      ]
     },
     "execution_count": 110,
     "metadata": {},
     "output_type": "execute_result"
    }
   ],
   "source": [
    "X = np.array([[0,0],[0,1],[1,0],[1,1]])\n",
    "validation(X,model(X,Y_XOR,2000,0.1))"
   ]
  },
  {
   "cell_type": "code",
   "execution_count": 166,
   "metadata": {},
   "outputs": [
    {
     "name": "stdout",
     "output_type": "stream",
     "text": [
      "[0 0]: -0.073006392609 -> 0\n",
      "[0 1]: 0.442366524624 -> 1\n",
      "[1 0]: 0.492394899458 -> 1\n",
      "[1 1]: 1.00776781669 -> 1\n"
     ]
    }
   ],
   "source": [
    "#\n",
    "\n",
    "\n",
    "# importing libraries\n",
    "from random import choice\n",
    "from numpy import array, dot, random\n",
    "\n",
    "# heaviside step function \n",
    "unit_step = lambda x: 0 if x < 0 else 1\n",
    "\n",
    "\n",
    "training_data = [\n",
    "    (array([0,0,1]), 0),\n",
    "    (array([0,1,1]), 1),\n",
    "    (array([1,0,1]), 1),\n",
    "    (array([1,1,1]), 1),\n",
    "]\n",
    "\n",
    "w = random.rand(3)\n",
    "\n",
    "errors = []\n",
    "eta = 0.2\n",
    "n = 100\n",
    "\n",
    "for i in xrange(n):\n",
    "    x, expected = choice(training_data)\n",
    "    result = dot(w, x)\n",
    "    error = expected - unit_step(result)\n",
    "    errors.append(error)\n",
    "    \n",
    "    w += eta * error * x\n",
    "    \n",
    "\n",
    "for x, _ in training_data:\n",
    "    result = dot(x, w)\n",
    "    print(\"{}: {} -> {}\".format(x[:2], result, unit_step(result)))"
   ]
  }
 ],
 "metadata": {
  "kernelspec": {
   "display_name": "Python 2",
   "language": "python",
   "name": "python2"
  },
  "language_info": {
   "codemirror_mode": {
    "name": "ipython",
    "version": 2
   },
   "file_extension": ".py",
   "mimetype": "text/x-python",
   "name": "python",
   "nbconvert_exporter": "python",
   "pygments_lexer": "ipython2",
   "version": "2.7.13"
  }
 },
 "nbformat": 4,
 "nbformat_minor": 2
}
