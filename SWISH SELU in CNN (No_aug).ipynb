{
 "cells": [
  {
   "cell_type": "code",
   "execution_count": 1,
   "metadata": {
    "ExecuteTime": {
     "end_time": "2018-03-02T09:06:11.152788Z",
     "start_time": "2018-03-02T09:06:08.712628Z"
    }
   },
   "outputs": [
    {
     "name": "stderr",
     "output_type": "stream",
     "text": [
      "Using TensorFlow backend.\n"
     ]
    }
   ],
   "source": [
    "import pandas as pd\n",
    "import numpy as np\n",
    "import matplotlib.pyplot as plt\n",
    "import os\n",
    "import itertools\n",
    "from keras.datasets import mnist\n",
    "from keras.preprocessing.image import ImageDataGenerator\n",
    "\n",
    "from keras.models import Sequential\n",
    "from keras.layers import Dense, Dropout, Flatten, Activation,BatchNormalization\n",
    "from keras.layers.convolutional import Conv2D, MaxPooling2D\n",
    "\n",
    "from keras.utils.generic_utils import get_custom_objects\n",
    "from keras.optimizers import RMSprop, adam\n",
    "\n",
    "from keras.utils import np_utils, plot_model\n",
    "from keras.callbacks import ReduceLROnPlateau, CSVLogger,TensorBoard, ModelCheckpoint\n",
    "\n",
    "from keras import backend as K\n",
    "\n",
    "from sklearn.model_selection import train_test_split\n",
    "from sklearn.metrics import confusion_matrix"
   ]
  },
  {
   "cell_type": "code",
   "execution_count": 2,
   "metadata": {
    "ExecuteTime": {
     "end_time": "2018-03-02T09:06:11.506660Z",
     "start_time": "2018-03-02T09:06:11.226971Z"
    },
    "collapsed": true
   },
   "outputs": [],
   "source": [
    "(X_train, y_train),(X_test,y_test) = mnist.load_data()\n",
    "\n",
    "X_train = X_train.reshape(X_train.shape[0],28,28,1).astype('float32')\n",
    "X_test = X_test.reshape(X_test.shape[0],28,28,1).astype('float32')\n",
    "\n",
    "y_train = np_utils.to_categorical(y_train)\n",
    "y_test = np_utils.to_categorical(y_test)\n",
    "\n",
    "num_classes = y_test.shape[1]"
   ]
  },
  {
   "cell_type": "code",
   "execution_count": 3,
   "metadata": {
    "ExecuteTime": {
     "end_time": "2018-03-02T09:06:11.902110Z",
     "start_time": "2018-03-02T09:06:11.846935Z"
    },
    "collapsed": true
   },
   "outputs": [],
   "source": [
    "#Normalization\n",
    "X_train = X_train/255.0\n",
    "X_test = X_test/255.0"
   ]
  },
  {
   "cell_type": "code",
   "execution_count": 4,
   "metadata": {
    "ExecuteTime": {
     "end_time": "2018-03-02T09:06:12.659146Z",
     "start_time": "2018-03-02T09:06:12.655451Z"
    },
    "collapsed": true
   },
   "outputs": [],
   "source": [
    "seed = 7"
   ]
  },
  {
   "cell_type": "code",
   "execution_count": 5,
   "metadata": {
    "ExecuteTime": {
     "end_time": "2018-03-02T09:06:16.272732Z",
     "start_time": "2018-03-02T09:06:16.206511Z"
    }
   },
   "outputs": [
    {
     "name": "stdout",
     "output_type": "stream",
     "text": [
      "(48000, 28, 28, 1)\n",
      "(12000, 28, 28, 1)\n",
      "(48000, 10)\n",
      "(10000, 10)\n"
     ]
    }
   ],
   "source": [
    "X_train, X_val, y_train, y_val = train_test_split(X_train,y_train,\n",
    "                                                  test_size=0.2,                    \n",
    "                                                  random_state=seed)\n",
    "print(X_train.shape)\n",
    "print(X_val.shape)\n",
    "print(y_train.shape)\n",
    "print(y_test.shape)"
   ]
  },
  {
   "cell_type": "code",
   "execution_count": 6,
   "metadata": {
    "ExecuteTime": {
     "end_time": "2018-03-02T09:06:17.206115Z",
     "start_time": "2018-03-02T09:06:17.197805Z"
    }
   },
   "outputs": [],
   "source": [
    "class Swish(Activation):\n",
    "    \n",
    "    def __init__(self, activation, **kwargs):\n",
    "        super(Swish, self).__init__(activation, **kwargs)\n",
    "        self.__name__ = 'Swish_s'\n",
    "\n",
    "def swish(x):\n",
    "    return K.sigmoid(x)*x"
   ]
  },
  {
   "cell_type": "code",
   "execution_count": 7,
   "metadata": {
    "ExecuteTime": {
     "end_time": "2018-03-02T09:06:18.245645Z",
     "start_time": "2018-03-02T09:06:18.198764Z"
    },
    "collapsed": true
   },
   "outputs": [],
   "source": [
    "def cnn_model():\n",
    "    model = Sequential()\n",
    "    get_custom_objects().update({'Swish_s': Swish(swish)})\n",
    "    model.add(Conv2D(32,(7,7), input_shape=(28,28,1), kernel_initializer='he_uniform',activation='Swish_s'))\n",
    "    model.add(BatchNormalization())\n",
    "    \n",
    "    model.add(MaxPooling2D(pool_size=(2,2),padding='same'))\n",
    "    \n",
    "    model.add(Conv2D(32,(5,5), kernel_initializer='he_uniform',activation='Swish_s'))\n",
    "    model.add(BatchNormalization())\n",
    "    \n",
    "    model.add(MaxPooling2D(pool_size=(2,2),padding='same'))\n",
    "    \n",
    "    model.add(Conv2D(32,(3,3), kernel_initializer='he_uniform',activation='Swish_s'))\n",
    "    model.add(BatchNormalization())\n",
    "    \n",
    "    model.add(MaxPooling2D(pool_size=(2,2),padding='same'))\n",
    "    \n",
    "    model.add(Flatten())\n",
    "    \n",
    "    model.add(Dense(128, activation='selu',kernel_initializer='he_normal'))\n",
    "    model.add(Dense(10,activation='selu',kernel_initializer='he_normal'))\n",
    "    model.add(Dense(num_classes,activation='softmax'))\n",
    "    \n",
    "    model.compile(loss='categorical_crossentropy', optimizer='adam',metrics=['accuracy'])\n",
    "    return model"
   ]
  },
  {
   "cell_type": "code",
   "execution_count": 8,
   "metadata": {
    "ExecuteTime": {
     "end_time": "2018-03-02T09:06:19.043748Z",
     "start_time": "2018-03-02T09:06:18.730987Z"
    }
   },
   "outputs": [
    {
     "name": "stdout",
     "output_type": "stream",
     "text": [
      "_________________________________________________________________\n",
      "Layer (type)                 Output Shape              Param #   \n",
      "=================================================================\n",
      "conv2d_1 (Conv2D)            (None, 22, 22, 32)        1600      \n",
      "_________________________________________________________________\n",
      "batch_normalization_1 (Batch (None, 22, 22, 32)        128       \n",
      "_________________________________________________________________\n",
      "max_pooling2d_1 (MaxPooling2 (None, 11, 11, 32)        0         \n",
      "_________________________________________________________________\n",
      "conv2d_2 (Conv2D)            (None, 7, 7, 32)          25632     \n",
      "_________________________________________________________________\n",
      "batch_normalization_2 (Batch (None, 7, 7, 32)          128       \n",
      "_________________________________________________________________\n",
      "max_pooling2d_2 (MaxPooling2 (None, 4, 4, 32)          0         \n",
      "_________________________________________________________________\n",
      "conv2d_3 (Conv2D)            (None, 2, 2, 32)          9248      \n",
      "_________________________________________________________________\n",
      "batch_normalization_3 (Batch (None, 2, 2, 32)          128       \n",
      "_________________________________________________________________\n",
      "max_pooling2d_3 (MaxPooling2 (None, 1, 1, 32)          0         \n",
      "_________________________________________________________________\n",
      "flatten_1 (Flatten)          (None, 32)                0         \n",
      "_________________________________________________________________\n",
      "dense_1 (Dense)              (None, 128)               4224      \n",
      "_________________________________________________________________\n",
      "dense_2 (Dense)              (None, 10)                1290      \n",
      "_________________________________________________________________\n",
      "dense_3 (Dense)              (None, 10)                110       \n",
      "=================================================================\n",
      "Total params: 42,488\n",
      "Trainable params: 42,296\n",
      "Non-trainable params: 192\n",
      "_________________________________________________________________\n",
      "None\n"
     ]
    }
   ],
   "source": [
    "cnn_model = cnn_model()\n",
    "print(cnn_model.summary())\n",
    "plot_model(cnn_model, to_file='swish_activation_cnn.png')"
   ]
  },
  {
   "cell_type": "code",
   "execution_count": 9,
   "metadata": {
    "ExecuteTime": {
     "end_time": "2018-03-02T09:06:21.748669Z",
     "start_time": "2018-03-02T09:06:21.728044Z"
    },
    "collapsed": true
   },
   "outputs": [],
   "source": [
    "if not (os.path.isdir(\"logs\")):\n",
    "    os.makedirs('logs')\n",
    "\n",
    "\n",
    "tb = TensorBoard(log_dir='logs', \n",
    "                 histogram_freq=0.2, \n",
    "                 batch_size=32, \n",
    "                 write_graph=True, \n",
    "                 write_grads=True, \n",
    "                 write_images=True, \n",
    "                 embeddings_freq=0, \n",
    "                 embeddings_layer_names=None, \n",
    "                 embeddings_metadata=None)\n",
    "\n",
    "csv_logger = CSVLogger('log.csv', append=True, separator=',')\n",
    "\n",
    "checkpointer = ModelCheckpoint(filepath='swish_activation_conv2d_weights.hdf5',verbose=1, save_best_only=True)\n",
    "\n",
    "learning_rate_reduction = ReduceLROnPlateau(monitor='val_acc',\n",
    "                                           patience=3,\n",
    "                                           verbose=1,\n",
    "                                           factor=0.2,\n",
    "                                           min_lr=0.001)"
   ]
  },
  {
   "cell_type": "code",
   "execution_count": 10,
   "metadata": {
    "ExecuteTime": {
     "end_time": "2018-03-02T09:57:56.096578Z",
     "start_time": "2018-03-02T09:06:24.217212Z"
    }
   },
   "outputs": [
    {
     "name": "stdout",
     "output_type": "stream",
     "text": [
      "Train on 48000 samples, validate on 12000 samples\n",
      "Epoch 1/100\n",
      "47936/48000 [============================>.] - ETA: 0s - loss: 0.2301 - acc: 0.9342Epoch 00000: val_loss improved from inf to 0.08459, saving model to swish_activation_conv2d_weights.hdf5\n",
      "48000/48000 [==============================] - 44s - loss: 0.2299 - acc: 0.9342 - val_loss: 0.0846 - val_acc: 0.9748\n",
      "Epoch 2/100\n",
      "47936/48000 [============================>.] - ETA: 0s - loss: 0.0665 - acc: 0.9797Epoch 00001: val_loss improved from 0.08459 to 0.06712, saving model to swish_activation_conv2d_weights.hdf5\n",
      "48000/48000 [==============================] - 30s - loss: 0.0665 - acc: 0.9798 - val_loss: 0.0671 - val_acc: 0.9807\n",
      "Epoch 3/100\n",
      "47936/48000 [============================>.] - ETA: 0s - loss: 0.0456 - acc: 0.9865Epoch 00002: val_loss improved from 0.06712 to 0.05220, saving model to swish_activation_conv2d_weights.hdf5\n",
      "48000/48000 [==============================] - 30s - loss: 0.0456 - acc: 0.9865 - val_loss: 0.0522 - val_acc: 0.9855\n",
      "Epoch 4/100\n",
      "47936/48000 [============================>.] - ETA: 0s - loss: 0.0332 - acc: 0.9893Epoch 00003: val_loss improved from 0.05220 to 0.04892, saving model to swish_activation_conv2d_weights.hdf5\n",
      "48000/48000 [==============================] - 30s - loss: 0.0332 - acc: 0.9893 - val_loss: 0.0489 - val_acc: 0.9856\n",
      "Epoch 5/100\n",
      "47936/48000 [============================>.] - ETA: 0s - loss: 0.0279 - acc: 0.9912Epoch 00004: val_loss did not improve\n",
      "48000/48000 [==============================] - 30s - loss: 0.0280 - acc: 0.9911 - val_loss: 0.0527 - val_acc: 0.9854\n",
      "Epoch 6/100\n",
      "47936/48000 [============================>.] - ETA: 0s - loss: 0.0222 - acc: 0.9925Epoch 00005: val_loss did not improve\n",
      "48000/48000 [==============================] - 30s - loss: 0.0222 - acc: 0.9925 - val_loss: 0.0519 - val_acc: 0.9859\n",
      "Epoch 7/100\n",
      "47936/48000 [============================>.] - ETA: 0s - loss: 0.0179 - acc: 0.9941Epoch 00006: val_loss improved from 0.04892 to 0.04754, saving model to swish_activation_conv2d_weights.hdf5\n",
      "48000/48000 [==============================] - 31s - loss: 0.0179 - acc: 0.9941 - val_loss: 0.0475 - val_acc: 0.9868\n",
      "Epoch 8/100\n",
      "47936/48000 [============================>.] - ETA: 0s - loss: 0.0167 - acc: 0.9945Epoch 00007: val_loss improved from 0.04754 to 0.04748, saving model to swish_activation_conv2d_weights.hdf5\n",
      "48000/48000 [==============================] - 31s - loss: 0.0167 - acc: 0.9944 - val_loss: 0.0475 - val_acc: 0.9872\n",
      "Epoch 9/100\n",
      "47936/48000 [============================>.] - ETA: 0s - loss: 0.0141 - acc: 0.9953Epoch 00008: val_loss did not improve\n",
      "48000/48000 [==============================] - 30s - loss: 0.0141 - acc: 0.9954 - val_loss: 0.0519 - val_acc: 0.9876\n",
      "Epoch 10/100\n",
      "47936/48000 [============================>.] - ETA: 0s - loss: 0.0160 - acc: 0.9947Epoch 00009: val_loss did not improve\n",
      "48000/48000 [==============================] - 30s - loss: 0.0159 - acc: 0.9947 - val_loss: 0.0537 - val_acc: 0.9863\n",
      "Epoch 11/100\n",
      "47936/48000 [============================>.] - ETA: 0s - loss: 0.0113 - acc: 0.9962Epoch 00010: val_loss improved from 0.04748 to 0.04417, saving model to swish_activation_conv2d_weights.hdf5\n",
      "48000/48000 [==============================] - 30s - loss: 0.0113 - acc: 0.9962 - val_loss: 0.0442 - val_acc: 0.9878\n",
      "Epoch 12/100\n",
      "47936/48000 [============================>.] - ETA: 0s - loss: 0.0095 - acc: 0.9966Epoch 00011: val_loss did not improve\n",
      "48000/48000 [==============================] - 30s - loss: 0.0095 - acc: 0.9966 - val_loss: 0.0701 - val_acc: 0.9839\n",
      "Epoch 13/100\n",
      "47936/48000 [============================>.] - ETA: 0s - loss: 0.0100 - acc: 0.9971Epoch 00012: val_loss did not improve\n",
      "48000/48000 [==============================] - 30s - loss: 0.0100 - acc: 0.9971 - val_loss: 0.0539 - val_acc: 0.9873\n",
      "Epoch 14/100\n",
      "47936/48000 [============================>.] - ETA: 0s - loss: 0.0115 - acc: 0.9959Epoch 00013: val_loss did not improve\n",
      "48000/48000 [==============================] - 30s - loss: 0.0115 - acc: 0.9959 - val_loss: 0.0853 - val_acc: 0.9813\n",
      "Epoch 15/100\n",
      "47936/48000 [============================>.] - ETA: 0s - loss: 0.0079 - acc: 0.9974Epoch 00014: val_loss did not improve\n",
      "48000/48000 [==============================] - 30s - loss: 0.0079 - acc: 0.9973 - val_loss: 0.0525 - val_acc: 0.9873\n",
      "Epoch 16/100\n",
      "47936/48000 [============================>.] - ETA: 0s - loss: 0.0087 - acc: 0.9972Epoch 00015: val_loss did not improve\n",
      "48000/48000 [==============================] - 30s - loss: 0.0087 - acc: 0.9972 - val_loss: 0.0599 - val_acc: 0.9868\n",
      "Epoch 17/100\n",
      "47936/48000 [============================>.] - ETA: 0s - loss: 0.0085 - acc: 0.9971Epoch 00016: val_loss did not improve\n",
      "48000/48000 [==============================] - 30s - loss: 0.0085 - acc: 0.9971 - val_loss: 0.0581 - val_acc: 0.9872\n",
      "Epoch 18/100\n",
      "47936/48000 [============================>.] - ETA: 0s - loss: 0.0062 - acc: 0.9979Epoch 00017: val_loss did not improve\n",
      "48000/48000 [==============================] - 30s - loss: 0.0062 - acc: 0.9979 - val_loss: 0.0659 - val_acc: 0.9867\n",
      "Epoch 19/100\n",
      "47936/48000 [============================>.] - ETA: 0s - loss: 0.0062 - acc: 0.9979Epoch 00018: val_loss did not improve\n",
      "48000/48000 [==============================] - 30s - loss: 0.0062 - acc: 0.9979 - val_loss: 0.0592 - val_acc: 0.9876\n",
      "Epoch 20/100\n",
      "47936/48000 [============================>.] - ETA: 0s - loss: 0.0064 - acc: 0.9980Epoch 00019: val_loss did not improve\n",
      "48000/48000 [==============================] - 30s - loss: 0.0064 - acc: 0.9980 - val_loss: 0.0483 - val_acc: 0.9890\n",
      "Epoch 21/100\n",
      "47872/48000 [============================>.] - ETA: 0s - loss: 0.0057 - acc: 0.9980Epoch 00020: val_loss did not improve\n",
      "48000/48000 [==============================] - 31s - loss: 0.0057 - acc: 0.9980 - val_loss: 0.0541 - val_acc: 0.9884\n",
      "Epoch 22/100\n",
      "47936/48000 [============================>.] - ETA: 0s - loss: 0.0065 - acc: 0.9976Epoch 00021: val_loss did not improve\n",
      "48000/48000 [==============================] - 31s - loss: 0.0065 - acc: 0.9976 - val_loss: 0.0666 - val_acc: 0.9877\n",
      "Epoch 23/100\n",
      "47936/48000 [============================>.] - ETA: 0s - loss: 0.0065 - acc: 0.9977Epoch 00022: val_loss did not improve\n",
      "48000/48000 [==============================] - 31s - loss: 0.0065 - acc: 0.9977 - val_loss: 0.0509 - val_acc: 0.9891\n",
      "Epoch 24/100\n",
      "47936/48000 [============================>.] - ETA: 0s - loss: 0.0062 - acc: 0.9979Epoch 00023: val_loss did not improve\n",
      "48000/48000 [==============================] - 31s - loss: 0.0061 - acc: 0.9979 - val_loss: 0.0514 - val_acc: 0.9890\n",
      "Epoch 25/100\n",
      "47936/48000 [============================>.] - ETA: 0s - loss: 0.0036 - acc: 0.9988Epoch 00024: val_loss did not improve\n",
      "48000/48000 [==============================] - 31s - loss: 0.0036 - acc: 0.9988 - val_loss: 0.0606 - val_acc: 0.9880\n",
      "Epoch 26/100\n",
      "47936/48000 [============================>.] - ETA: 0s - loss: 0.0052 - acc: 0.9983Epoch 00025: val_loss did not improve\n",
      "48000/48000 [==============================] - 30s - loss: 0.0051 - acc: 0.9983 - val_loss: 0.0600 - val_acc: 0.9888\n",
      "Epoch 27/100\n",
      "47936/48000 [============================>.] - ETA: 0s - loss: 0.0054 - acc: 0.9982Epoch 00026: val_loss did not improve\n",
      "48000/48000 [==============================] - 30s - loss: 0.0054 - acc: 0.9982 - val_loss: 0.0460 - val_acc: 0.9908\n",
      "Epoch 28/100\n",
      "47936/48000 [============================>.] - ETA: 0s - loss: 0.0025 - acc: 0.9992Epoch 00027: val_loss did not improve\n",
      "48000/48000 [==============================] - 30s - loss: 0.0025 - acc: 0.9992 - val_loss: 0.0506 - val_acc: 0.9905\n",
      "Epoch 29/100\n",
      "47936/48000 [============================>.] - ETA: 0s - loss: 0.0045 - acc: 0.9986Epoch 00028: val_loss did not improve\n",
      "48000/48000 [==============================] - 30s - loss: 0.0045 - acc: 0.9986 - val_loss: 0.0655 - val_acc: 0.9881\n",
      "Epoch 30/100\n",
      "47936/48000 [============================>.] - ETA: 0s - loss: 0.0083 - acc: 0.9976Epoch 00029: val_loss did not improve\n",
      "48000/48000 [==============================] - 30s - loss: 0.0084 - acc: 0.9976 - val_loss: 0.0522 - val_acc: 0.9891\n",
      "Epoch 31/100\n",
      "47936/48000 [============================>.] - ETA: 0s - loss: 0.0037 - acc: 0.9988Epoch 00030: val_loss did not improve\n"
     ]
    },
    {
     "name": "stdout",
     "output_type": "stream",
     "text": [
      "48000/48000 [==============================] - 30s - loss: 0.0037 - acc: 0.9988 - val_loss: 0.0507 - val_acc: 0.9902\n",
      "Epoch 32/100\n",
      "47936/48000 [============================>.] - ETA: 0s - loss: 0.0039 - acc: 0.9988Epoch 00031: val_loss did not improve\n",
      "48000/48000 [==============================] - 30s - loss: 0.0039 - acc: 0.9988 - val_loss: 0.0577 - val_acc: 0.9892\n",
      "Epoch 33/100\n",
      "47872/48000 [============================>.] - ETA: 0s - loss: 0.0044 - acc: 0.9987Epoch 00032: val_loss did not improve\n",
      "48000/48000 [==============================] - 30s - loss: 0.0044 - acc: 0.9987 - val_loss: 0.0743 - val_acc: 0.9858\n",
      "Epoch 34/100\n",
      "47936/48000 [============================>.] - ETA: 0s - loss: 0.0050 - acc: 0.9983Epoch 00033: val_loss did not improve\n",
      "48000/48000 [==============================] - 30s - loss: 0.0050 - acc: 0.9983 - val_loss: 0.0517 - val_acc: 0.9911\n",
      "Epoch 35/100\n",
      "47936/48000 [============================>.] - ETA: 0s - loss: 0.0048 - acc: 0.9985Epoch 00034: val_loss did not improve\n",
      "48000/48000 [==============================] - 30s - loss: 0.0048 - acc: 0.9985 - val_loss: 0.0532 - val_acc: 0.9888\n",
      "Epoch 36/100\n",
      "47936/48000 [============================>.] - ETA: 0s - loss: 0.0033 - acc: 0.9989Epoch 00035: val_loss did not improve\n",
      "48000/48000 [==============================] - 30s - loss: 0.0033 - acc: 0.9989 - val_loss: 0.0555 - val_acc: 0.9897\n",
      "Epoch 37/100\n",
      "47936/48000 [============================>.] - ETA: 0s - loss: 0.0035 - acc: 0.9989Epoch 00036: val_loss did not improve\n",
      "48000/48000 [==============================] - 30s - loss: 0.0035 - acc: 0.9989 - val_loss: 0.0544 - val_acc: 0.9894\n",
      "Epoch 38/100\n",
      "47936/48000 [============================>.] - ETA: 0s - loss: 0.0042 - acc: 0.9988Epoch 00037: val_loss did not improve\n",
      "48000/48000 [==============================] - 30s - loss: 0.0042 - acc: 0.9988 - val_loss: 0.0582 - val_acc: 0.9890\n",
      "Epoch 39/100\n",
      "47936/48000 [============================>.] - ETA: 0s - loss: 0.0034 - acc: 0.9989Epoch 00038: val_loss did not improve\n",
      "48000/48000 [==============================] - 30s - loss: 0.0034 - acc: 0.9989 - val_loss: 0.0636 - val_acc: 0.9887\n",
      "Epoch 40/100\n",
      "47936/48000 [============================>.] - ETA: 0s - loss: 0.0033 - acc: 0.9989Epoch 00039: val_loss did not improve\n",
      "48000/48000 [==============================] - 30s - loss: 0.0033 - acc: 0.9989 - val_loss: 0.0574 - val_acc: 0.9886\n",
      "Epoch 41/100\n",
      "47936/48000 [============================>.] - ETA: 0s - loss: 0.0025 - acc: 0.9993Epoch 00040: val_loss did not improve\n",
      "48000/48000 [==============================] - 30s - loss: 0.0025 - acc: 0.9993 - val_loss: 0.0665 - val_acc: 0.9888\n",
      "Epoch 42/100\n",
      "47936/48000 [============================>.] - ETA: 0s - loss: 0.0047 - acc: 0.9985Epoch 00041: val_loss did not improve\n",
      "48000/48000 [==============================] - 30s - loss: 0.0047 - acc: 0.9985 - val_loss: 0.0603 - val_acc: 0.9883\n",
      "Epoch 43/100\n",
      "47936/48000 [============================>.] - ETA: 0s - loss: 0.0031 - acc: 0.9990Epoch 00042: val_loss did not improve\n",
      "48000/48000 [==============================] - 30s - loss: 0.0031 - acc: 0.9990 - val_loss: 0.0480 - val_acc: 0.9906\n",
      "Epoch 44/100\n",
      "47936/48000 [============================>.] - ETA: 0s - loss: 0.0029 - acc: 0.9991Epoch 00043: val_loss did not improve\n",
      "48000/48000 [==============================] - 30s - loss: 0.0029 - acc: 0.9991 - val_loss: 0.0503 - val_acc: 0.9907\n",
      "Epoch 45/100\n",
      "47936/48000 [============================>.] - ETA: 0s - loss: 0.0035 - acc: 0.9990Epoch 00044: val_loss did not improve\n",
      "48000/48000 [==============================] - 30s - loss: 0.0035 - acc: 0.9990 - val_loss: 0.0886 - val_acc: 0.9855\n",
      "Epoch 46/100\n",
      "47936/48000 [============================>.] - ETA: 0s - loss: 0.0027 - acc: 0.9992Epoch 00045: val_loss did not improve\n",
      "48000/48000 [==============================] - 30s - loss: 0.0027 - acc: 0.9992 - val_loss: 0.0481 - val_acc: 0.9915\n",
      "Epoch 47/100\n",
      "47936/48000 [============================>.] - ETA: 0s - loss: 0.0037 - acc: 0.9987Epoch 00046: val_loss did not improve\n",
      "48000/48000 [==============================] - 30s - loss: 0.0037 - acc: 0.9987 - val_loss: 0.0522 - val_acc: 0.9914\n",
      "Epoch 48/100\n",
      "47936/48000 [============================>.] - ETA: 0s - loss: 0.0040 - acc: 0.9988Epoch 00047: val_loss did not improve\n",
      "48000/48000 [==============================] - 30s - loss: 0.0040 - acc: 0.9988 - val_loss: 0.0695 - val_acc: 0.9870\n",
      "Epoch 49/100\n",
      "47936/48000 [============================>.] - ETA: 0s - loss: 0.0022 - acc: 0.9992Epoch 00048: val_loss did not improve\n",
      "48000/48000 [==============================] - 30s - loss: 0.0022 - acc: 0.9992 - val_loss: 0.0525 - val_acc: 0.9918\n",
      "Epoch 50/100\n",
      "47936/48000 [============================>.] - ETA: 0s - loss: 0.0029 - acc: 0.9990Epoch 00049: val_loss did not improve\n",
      "48000/48000 [==============================] - 30s - loss: 0.0029 - acc: 0.9990 - val_loss: 0.0784 - val_acc: 0.9883\n",
      "Epoch 51/100\n",
      "47936/48000 [============================>.] - ETA: 0s - loss: 0.0034 - acc: 0.9990Epoch 00050: val_loss did not improve\n",
      "48000/48000 [==============================] - 30s - loss: 0.0034 - acc: 0.9990 - val_loss: 0.0517 - val_acc: 0.9913\n",
      "Epoch 52/100\n",
      "47936/48000 [============================>.] - ETA: 0s - loss: 0.0016 - acc: 0.9994Epoch 00051: val_loss did not improve\n",
      "48000/48000 [==============================] - 30s - loss: 0.0016 - acc: 0.9994 - val_loss: 0.0625 - val_acc: 0.9894\n",
      "Epoch 53/100\n",
      "47936/48000 [============================>.] - ETA: 0s - loss: 0.0029 - acc: 0.9991Epoch 00052: val_loss did not improve\n",
      "48000/48000 [==============================] - 30s - loss: 0.0029 - acc: 0.9991 - val_loss: 0.0557 - val_acc: 0.9909\n",
      "Epoch 54/100\n",
      "47936/48000 [============================>.] - ETA: 0s - loss: 0.0023 - acc: 0.9992Epoch 00053: val_loss did not improve\n",
      "48000/48000 [==============================] - 30s - loss: 0.0023 - acc: 0.9992 - val_loss: 0.0579 - val_acc: 0.9910\n",
      "Epoch 55/100\n",
      "47872/48000 [============================>.] - ETA: 0s - loss: 0.0022 - acc: 0.9991Epoch 00054: val_loss did not improve\n",
      "48000/48000 [==============================] - 32s - loss: 0.0022 - acc: 0.9991 - val_loss: 0.0749 - val_acc: 0.9888\n",
      "Epoch 56/100\n",
      "47936/48000 [============================>.] - ETA: 0s - loss: 0.0051 - acc: 0.9985Epoch 00055: val_loss did not improve\n",
      "48000/48000 [==============================] - 32s - loss: 0.0051 - acc: 0.9985 - val_loss: 0.0548 - val_acc: 0.9908\n",
      "Epoch 57/100\n",
      "47936/48000 [============================>.] - ETA: 0s - loss: 0.0016 - acc: 0.9995Epoch 00056: val_loss did not improve\n",
      "48000/48000 [==============================] - 32s - loss: 0.0016 - acc: 0.9995 - val_loss: 0.0656 - val_acc: 0.9906\n",
      "Epoch 58/100\n",
      "47936/48000 [============================>.] - ETA: 0s - loss: 0.0031 - acc: 0.9991Epoch 00057: val_loss did not improve\n",
      "48000/48000 [==============================] - 30s - loss: 0.0031 - acc: 0.9991 - val_loss: 0.0815 - val_acc: 0.9865\n",
      "Epoch 59/100\n",
      "47936/48000 [============================>.] - ETA: 0s - loss: 0.0039 - acc: 0.9988Epoch 00058: val_loss did not improve\n",
      "48000/48000 [==============================] - 30s - loss: 0.0039 - acc: 0.9988 - val_loss: 0.0597 - val_acc: 0.9908\n",
      "Epoch 60/100\n",
      "47936/48000 [============================>.] - ETA: 0s - loss: 0.0031 - acc: 0.9991Epoch 00059: val_loss did not improve\n",
      "48000/48000 [==============================] - 30s - loss: 0.0031 - acc: 0.9991 - val_loss: 0.0664 - val_acc: 0.9884\n",
      "Epoch 61/100\n",
      "47936/48000 [============================>.] - ETA: 0s - loss: 0.0020 - acc: 0.9994Epoch 00060: val_loss did not improve\n",
      "48000/48000 [==============================] - 31s - loss: 0.0020 - acc: 0.9994 - val_loss: 0.0615 - val_acc: 0.9901\n",
      "Epoch 62/100\n",
      "47936/48000 [============================>.] - ETA: 0s - loss: 0.0016 - acc: 0.9995Epoch 00061: val_loss did not improve\n",
      "48000/48000 [==============================] - 30s - loss: 0.0016 - acc: 0.9995 - val_loss: 0.0561 - val_acc: 0.9906\n",
      "Epoch 63/100\n",
      "47936/48000 [============================>.] - ETA: 0s - loss: 0.0033 - acc: 0.9989Epoch 00062: val_loss did not improve\n",
      "48000/48000 [==============================] - 30s - loss: 0.0033 - acc: 0.9989 - val_loss: 0.0662 - val_acc: 0.9895\n",
      "Epoch 64/100\n"
     ]
    },
    {
     "name": "stdout",
     "output_type": "stream",
     "text": [
      "47936/48000 [============================>.] - ETA: 0s - loss: 0.0023 - acc: 0.9993Epoch 00063: val_loss did not improve\n",
      "48000/48000 [==============================] - 31s - loss: 0.0022 - acc: 0.9993 - val_loss: 0.0560 - val_acc: 0.9907\n",
      "Epoch 65/100\n",
      "47936/48000 [============================>.] - ETA: 0s - loss: 0.0030 - acc: 0.9991Epoch 00064: val_loss did not improve\n",
      "48000/48000 [==============================] - 31s - loss: 0.0030 - acc: 0.9991 - val_loss: 0.0587 - val_acc: 0.9905\n",
      "Epoch 66/100\n",
      "47936/48000 [============================>.] - ETA: 0s - loss: 0.0024 - acc: 0.9992Epoch 00065: val_loss did not improve\n",
      "48000/48000 [==============================] - 30s - loss: 0.0024 - acc: 0.9992 - val_loss: 0.0573 - val_acc: 0.9911\n",
      "Epoch 67/100\n",
      "47936/48000 [============================>.] - ETA: 0s - loss: 0.0015 - acc: 0.9995Epoch 00066: val_loss did not improve\n",
      "48000/48000 [==============================] - 30s - loss: 0.0015 - acc: 0.9995 - val_loss: 0.0528 - val_acc: 0.9921\n",
      "Epoch 68/100\n",
      "47936/48000 [============================>.] - ETA: 0s - loss: 0.0015 - acc: 0.9997Epoch 00067: val_loss did not improve\n",
      "48000/48000 [==============================] - 30s - loss: 0.0015 - acc: 0.9997 - val_loss: 0.0643 - val_acc: 0.9902\n",
      "Epoch 69/100\n",
      "47936/48000 [============================>.] - ETA: 0s - loss: 0.0023 - acc: 0.9993Epoch 00068: val_loss did not improve\n",
      "48000/48000 [==============================] - 30s - loss: 0.0023 - acc: 0.9993 - val_loss: 0.0713 - val_acc: 0.9892\n",
      "Epoch 70/100\n",
      "47936/48000 [============================>.] - ETA: 0s - loss: 0.0028 - acc: 0.9992Epoch 00069: val_loss did not improve\n",
      "48000/48000 [==============================] - 30s - loss: 0.0028 - acc: 0.9992 - val_loss: 0.0710 - val_acc: 0.9880\n",
      "Epoch 71/100\n",
      "47936/48000 [============================>.] - ETA: 0s - loss: 0.0031 - acc: 0.9989Epoch 00070: val_loss did not improve\n",
      "48000/48000 [==============================] - 30s - loss: 0.0031 - acc: 0.9989 - val_loss: 0.0627 - val_acc: 0.9896\n",
      "Epoch 72/100\n",
      "47936/48000 [============================>.] - ETA: 0s - loss: 0.0027 - acc: 0.9992Epoch 00071: val_loss did not improve\n",
      "48000/48000 [==============================] - 30s - loss: 0.0027 - acc: 0.9992 - val_loss: 0.0585 - val_acc: 0.9909\n",
      "Epoch 73/100\n",
      "47936/48000 [============================>.] - ETA: 0s - loss: 0.0023 - acc: 0.9993Epoch 00072: val_loss did not improve\n",
      "48000/48000 [==============================] - 30s - loss: 0.0023 - acc: 0.9993 - val_loss: 0.0579 - val_acc: 0.9914\n",
      "Epoch 74/100\n",
      "47936/48000 [============================>.] - ETA: 0s - loss: 0.0025 - acc: 0.9993Epoch 00073: val_loss did not improve\n",
      "48000/48000 [==============================] - 30s - loss: 0.0025 - acc: 0.9993 - val_loss: 0.0567 - val_acc: 0.9908\n",
      "Epoch 75/100\n",
      "47936/48000 [============================>.] - ETA: 0s - loss: 0.0011 - acc: 0.9997Epoch 00074: val_loss did not improve\n",
      "48000/48000 [==============================] - 30s - loss: 0.0010 - acc: 0.9997 - val_loss: 0.0522 - val_acc: 0.9910\n",
      "Epoch 76/100\n",
      "47936/48000 [============================>.] - ETA: 0s - loss: 7.0992e-04 - acc: 0.9997Epoch 00075: val_loss did not improve\n",
      "48000/48000 [==============================] - 30s - loss: 7.0900e-04 - acc: 0.9997 - val_loss: 0.0524 - val_acc: 0.9916\n",
      "Epoch 77/100\n",
      "47936/48000 [============================>.] - ETA: 0s - loss: 0.0015 - acc: 0.9996Epoch 00076: val_loss did not improve\n",
      "48000/48000 [==============================] - 30s - loss: 0.0015 - acc: 0.9996 - val_loss: 0.0704 - val_acc: 0.9886\n",
      "Epoch 78/100\n",
      "47936/48000 [============================>.] - ETA: 0s - loss: 0.0039 - acc: 0.9989Epoch 00077: val_loss did not improve\n",
      "48000/48000 [==============================] - 30s - loss: 0.0039 - acc: 0.9989 - val_loss: 0.0582 - val_acc: 0.9906\n",
      "Epoch 79/100\n",
      "47936/48000 [============================>.] - ETA: 0s - loss: 0.0025 - acc: 0.9990Epoch 00078: val_loss did not improve\n",
      "48000/48000 [==============================] - 30s - loss: 0.0025 - acc: 0.9990 - val_loss: 0.0628 - val_acc: 0.9899\n",
      "Epoch 80/100\n",
      "47936/48000 [============================>.] - ETA: 0s - loss: 0.0012 - acc: 0.9995Epoch 00079: val_loss did not improve\n",
      "48000/48000 [==============================] - 30s - loss: 0.0012 - acc: 0.9995 - val_loss: 0.0639 - val_acc: 0.9904\n",
      "Epoch 81/100\n",
      "47936/48000 [============================>.] - ETA: 0s - loss: 0.0012 - acc: 0.9997Epoch 00080: val_loss did not improve\n",
      "48000/48000 [==============================] - 30s - loss: 0.0012 - acc: 0.9997 - val_loss: 0.0636 - val_acc: 0.9900\n",
      "Epoch 82/100\n",
      "47936/48000 [============================>.] - ETA: 0s - loss: 0.0028 - acc: 0.9992Epoch 00081: val_loss did not improve\n",
      "48000/48000 [==============================] - 30s - loss: 0.0027 - acc: 0.9992 - val_loss: 0.0598 - val_acc: 0.9910\n",
      "Epoch 83/100\n",
      "47936/48000 [============================>.] - ETA: 0s - loss: 0.0023 - acc: 0.9991Epoch 00082: val_loss did not improve\n",
      "48000/48000 [==============================] - 30s - loss: 0.0023 - acc: 0.9991 - val_loss: 0.0553 - val_acc: 0.9908\n",
      "Epoch 84/100\n",
      "47936/48000 [============================>.] - ETA: 0s - loss: 0.0025 - acc: 0.9992Epoch 00083: val_loss did not improve\n",
      "48000/48000 [==============================] - 30s - loss: 0.0025 - acc: 0.9992 - val_loss: 0.0615 - val_acc: 0.9905\n",
      "Epoch 85/100\n",
      "47936/48000 [============================>.] - ETA: 0s - loss: 0.0011 - acc: 0.9996Epoch 00084: val_loss did not improve\n",
      "48000/48000 [==============================] - 30s - loss: 0.0011 - acc: 0.9996 - val_loss: 0.0519 - val_acc: 0.9920\n",
      "Epoch 86/100\n",
      "47936/48000 [============================>.] - ETA: 0s - loss: 0.0014 - acc: 0.9994Epoch 00085: val_loss did not improve\n",
      "48000/48000 [==============================] - 30s - loss: 0.0014 - acc: 0.9994 - val_loss: 0.0581 - val_acc: 0.9908\n",
      "Epoch 87/100\n",
      "47936/48000 [============================>.] - ETA: 0s - loss: 0.0025 - acc: 0.9993Epoch 00086: val_loss did not improve\n",
      "48000/48000 [==============================] - 30s - loss: 0.0025 - acc: 0.9993 - val_loss: 0.0600 - val_acc: 0.9915\n",
      "Epoch 88/100\n",
      "47936/48000 [============================>.] - ETA: 0s - loss: 0.0019 - acc: 0.9994Epoch 00087: val_loss did not improve\n",
      "48000/48000 [==============================] - 30s - loss: 0.0019 - acc: 0.9994 - val_loss: 0.0591 - val_acc: 0.9912\n",
      "Epoch 89/100\n",
      "47936/48000 [============================>.] - ETA: 0s - loss: 0.0013 - acc: 0.9996Epoch 00088: val_loss did not improve\n",
      "48000/48000 [==============================] - 30s - loss: 0.0013 - acc: 0.9996 - val_loss: 0.0624 - val_acc: 0.9909\n",
      "Epoch 90/100\n",
      "47872/48000 [============================>.] - ETA: 0s - loss: 0.0026 - acc: 0.9992Epoch 00089: val_loss did not improve\n",
      "48000/48000 [==============================] - 30s - loss: 0.0027 - acc: 0.9992 - val_loss: 0.0774 - val_acc: 0.9890\n",
      "Epoch 91/100\n",
      "47936/48000 [============================>.] - ETA: 0s - loss: 0.0014 - acc: 0.9996Epoch 00090: val_loss did not improve\n",
      "48000/48000 [==============================] - 30s - loss: 0.0014 - acc: 0.9996 - val_loss: 0.0554 - val_acc: 0.9914\n",
      "Epoch 92/100\n",
      "47936/48000 [============================>.] - ETA: 0s - loss: 0.0012 - acc: 0.9997Epoch 00091: val_loss did not improve\n",
      "48000/48000 [==============================] - 30s - loss: 0.0012 - acc: 0.9997 - val_loss: 0.0753 - val_acc: 0.9882\n",
      "Epoch 93/100\n",
      "47936/48000 [============================>.] - ETA: 0s - loss: 0.0024 - acc: 0.9994Epoch 00092: val_loss did not improve\n",
      "48000/48000 [==============================] - 30s - loss: 0.0024 - acc: 0.9994 - val_loss: 0.0714 - val_acc: 0.9905\n",
      "Epoch 94/100\n",
      "47936/48000 [============================>.] - ETA: 0s - loss: 0.0021 - acc: 0.9992Epoch 00093: val_loss did not improve\n",
      "48000/48000 [==============================] - 30s - loss: 0.0021 - acc: 0.9992 - val_loss: 0.0742 - val_acc: 0.9898\n",
      "Epoch 95/100\n",
      "47936/48000 [============================>.] - ETA: 0s - loss: 0.0010 - acc: 0.9997Epoch 00094: val_loss did not improve\n",
      "48000/48000 [==============================] - 31s - loss: 0.0010 - acc: 0.9997 - val_loss: 0.0589 - val_acc: 0.9914\n",
      "Epoch 96/100\n",
      "47936/48000 [============================>.] - ETA: 0s - loss: 0.0013 - acc: 0.9996Epoch 00095: val_loss did not improve\n"
     ]
    },
    {
     "name": "stdout",
     "output_type": "stream",
     "text": [
      "48000/48000 [==============================] - 30s - loss: 0.0013 - acc: 0.9996 - val_loss: 0.0628 - val_acc: 0.9902\n",
      "Epoch 97/100\n",
      "47936/48000 [============================>.] - ETA: 0s - loss: 0.0024 - acc: 0.9993Epoch 00096: val_loss did not improve\n",
      "48000/48000 [==============================] - 30s - loss: 0.0024 - acc: 0.9993 - val_loss: 0.0593 - val_acc: 0.9903\n",
      "Epoch 98/100\n",
      "47936/48000 [============================>.] - ETA: 0s - loss: 0.0026 - acc: 0.9993Epoch 00097: val_loss did not improve\n",
      "48000/48000 [==============================] - 30s - loss: 0.0026 - acc: 0.9993 - val_loss: 0.0701 - val_acc: 0.9897\n",
      "Epoch 99/100\n",
      "47936/48000 [============================>.] - ETA: 0s - loss: 0.0011 - acc: 0.9996Epoch 00098: val_loss did not improve\n",
      "48000/48000 [==============================] - 30s - loss: 0.0011 - acc: 0.9996 - val_loss: 0.0631 - val_acc: 0.9918\n",
      "Epoch 100/100\n",
      "47936/48000 [============================>.] - ETA: 0s - loss: 0.0018 - acc: 0.9994Epoch 00099: val_loss did not improve\n",
      "48000/48000 [==============================] - 30s - loss: 0.0018 - acc: 0.9994 - val_loss: 0.0732 - val_acc: 0.9904\n"
     ]
    }
   ],
   "source": [
    "#with out data augmentation\n",
    "\n",
    "history = cnn_model.fit(X_train, y_train,\n",
    "          batch_size=64, \n",
    "          epochs=100, \n",
    "          verbose=1, \n",
    "          validation_data=(X_val, y_val),\n",
    "          callbacks=[csv_logger,tb,checkpointer,learning_rate_reduction])"
   ]
  },
  {
   "cell_type": "code",
   "execution_count": 11,
   "metadata": {
    "ExecuteTime": {
     "end_time": "2018-03-02T09:57:56.932899Z",
     "start_time": "2018-03-02T09:57:56.606079Z"
    }
   },
   "outputs": [
    {
     "data": {
      "image/png": "[encoded data removed]",
      "text/plain": [
       "<matplotlib.figure.Figure at 0x7fbf29d24c18>"
      ]
     },
     "metadata": {},
     "output_type": "display_data"
    },
    {
     "data": {
      "image/png": "[encoded data removed]",
      "text/plain": [
       "<matplotlib.figure.Figure at 0x7fbea66ac940>"
      ]
     },
     "metadata": {},
     "output_type": "display_data"
    }
   ],
   "source": [
    "plt.plot(history.history['acc'],color='r')\n",
    "plt.plot(history.history['val_acc'],color='g')\n",
    "plt.title('model accuracy')\n",
    "plt.ylabel('accuracy')\n",
    "plt.xlabel('epoch')\n",
    "plt.legend(['train', 'validation'], loc='upper left')\n",
    "plt.show()\n",
    "\n",
    "plt.plot(history.history['loss'],color='r')\n",
    "plt.plot(history.history['val_loss'],color='g')\n",
    "plt.title('model loss')\n",
    "plt.ylabel('loss')\n",
    "plt.xlabel('epoch')\n",
    "plt.legend(['train', 'validation'], loc='upper left')\n",
    "plt.show()"
   ]
  },
  {
   "cell_type": "code",
   "execution_count": 12,
   "metadata": {
    "ExecuteTime": {
     "end_time": "2018-03-02T09:58:00.563903Z",
     "start_time": "2018-03-02T09:57:57.460842Z"
    },
    "scrolled": true
   },
   "outputs": [
    {
     "name": "stdout",
     "output_type": "stream",
     "text": [
      "(12000, 28, 28, 1) (12000,) (12000,)\n"
     ]
    }
   ],
   "source": [
    "y_pred_onehotencoded = cnn_model.predict(X_val)\n",
    "y_pred = np.argmax(y_pred_onehotencoded,axis=1)\n",
    "y_true = np.argmax(y_val,axis=1)\n",
    "print(X_val.shape,y_pred.shape,y_true.shape)"
   ]
  },
  {
   "cell_type": "code",
   "execution_count": 13,
   "metadata": {
    "ExecuteTime": {
     "end_time": "2018-03-02T09:58:01.084210Z",
     "start_time": "2018-03-02T09:58:01.070891Z"
    }
   },
   "outputs": [
    {
     "name": "stdout",
     "output_type": "stream",
     "text": [
      "[[1139    1    0    1    0    0    3    0    0    0]\n",
      " [   1 1334    1    2    0    1    1    3    0    0]\n",
      " [   1    2 1118    2    1    0    0    2    3    0]\n",
      " [   0    0    0 1236    0    6    0    0    0    2]\n",
      " [   1    5    0    0 1186    0    3    2    0    1]\n",
      " [   1    0    0    1    0 1099    2    0    0    8]\n",
      " [   1    1    1    1    1    4 1192    0    0    0]\n",
      " [   0    2    0    0    2    0    0 1286    0    3]\n",
      " [   2    7    0    3    0    6    0    0 1176    7]\n",
      " [   3    0    1    1    8    0    0    2    2 1119]]\n"
     ]
    }
   ],
   "source": [
    "confusion_mtx = confusion_matrix(y_true,y_pred)\n",
    "print (confusion_mtx)"
   ]
  },
  {
   "cell_type": "code",
   "execution_count": 14,
   "metadata": {
    "ExecuteTime": {
     "end_time": "2018-03-02T09:58:03.971038Z",
     "start_time": "2018-03-02T09:58:01.596689Z"
    }
   },
   "outputs": [
    {
     "name": "stdout",
     "output_type": "stream",
     "text": [
      "[[ 976    0    0    0    0    0    2    1    1    0]\n",
      " [   2 1129    0    3    0    0    0    1    0    0]\n",
      " [   1    2 1020    0    2    0    0    6    1    0]\n",
      " [   0    0    0 1004    0    5    0    1    0    0]\n",
      " [   0    0    0    0  976    0    3    0    0    3]\n",
      " [   0    0    0    3    0  883    2    0    0    4]\n",
      " [   3    1    0    1    1    1  950    0    1    0]\n",
      " [   0    3    1    0    1    0    0 1017    0    6]\n",
      " [   0    0    0    3    1    1    0    3  965    1]\n",
      " [   1    0    0    0    6    2    0    1    0  999]]\n"
     ]
    }
   ],
   "source": [
    "results = cnn_model.predict(X_test)\n",
    "results = np.argmax(results, axis=1)\n",
    "y_test_ = np.argmax(y_test,axis=1)\n",
    "res_confusion_mtx = confusion_matrix(y_test_,results)\n",
    "print(res_confusion_mtx)"
   ]
  },
  {
   "cell_type": "code",
   "execution_count": 21,
   "metadata": {
    "ExecuteTime": {
     "end_time": "2018-03-02T10:01:16.628067Z",
     "start_time": "2018-03-02T10:01:14.109941Z"
    }
   },
   "outputs": [
    {
     "name": "stdout",
     "output_type": "stream",
     "text": [
      " 9984/10000 [============================>.] - ETA: 0s\n",
      "TEST ACCURACY IS 99.19%\n"
     ]
    }
   ],
   "source": [
    "print(\"\\nTEST ACCURACY IS {}%\".format(cnn_model.evaluate(X_test,y_test)[1]*100))"
   ]
  }
 ],
 "metadata": {
  "kernelspec": {
   "display_name": "Python 3",
   "language": "python",
   "name": "python3"
  },
  "language_info": {
   "codemirror_mode": {
    "name": "ipython",
    "version": 3
   },
   "file_extension": ".py",
   "mimetype": "text/x-python",
   "name": "python",
   "nbconvert_exporter": "python",
   "pygments_lexer": "ipython3",
   "version": "3.5.4"
  },
  "varInspector": {
   "cols": {
    "lenName": 16,
    "lenType": 16,
    "lenVar": 40
   },
   "kernels_config": {
    "python": {
     "delete_cmd_postfix": "",
     "delete_cmd_prefix": "del ",
     "library": "var_list.py",
     "varRefreshCmd": "print(var_dic_list())"
    },
    "r": {
     "delete_cmd_postfix": ") ",
     "delete_cmd_prefix": "rm(",
     "library": "var_list.r",
     "varRefreshCmd": "cat(var_dic_list()) "
    }
   },
   "types_to_exclude": [
    "module",
    "function",
    "builtin_function_or_method",
    "instance",
    "_Feature"
   ],
   "window_display": false
  }
 },
 "nbformat": 4,
 "nbformat_minor": 2
}
