{
 "cells": [
  {
   "cell_type": "code",
   "execution_count": null,
   "metadata": {
    "ExecuteTime": {
     "end_time": "2018-02-27T14:25:43.940943Z",
     "start_time": "2018-02-27T14:25:42.631200Z"
    }
   },
   "outputs": [],
   "source": [
    "from keras.datasets import mnist\n",
    "from keras.preprocessing.image import ImageDataGenerator\n",
    "from keras import backend as K\n",
    "from keras.models import Sequential,Model\n",
    "from keras.layers import Dropout,Dense,Flatten,BatchNormalization,Activation,Input\n",
    "from keras.layers.convolutional import Conv2D, MaxPooling2D\n",
    "from keras.utils.vis_utils import plot_model\n",
    "from keras.utils import np_utils\n",
    "from matplotlib import pyplot\n",
    "K.set_image_dim_ordering('tf')\n",
    "\n",
    "(X_train,y_train),(X_test,y_test) = mnist.load_data()\n",
    "\n",
    "X_train = X_train.reshape(X_train.shape[0],28,28,1).astype('float32')\n",
    "X_test = X_test.reshape(X_test.shape[0],28,28,1).astype('float32')\n",
    "\n",
    "X_train = X_train/255\n",
    "X_test = X_test/255\n",
    "\n",
    "y_train = np_utils.to_categorical(y_train)\n",
    "y_test = np_utils.to_categorical(y_test)\n",
    "\n",
    "num_classes = y_test.shape[1]\n",
    "print(\"Number of classes \" ,num_classes)\n",
    "\n",
    "def cnn_model():\n",
    "    model = Sequential()\n",
    "    \n",
    "    model.add(Conv2D(32,(7,7), input_shape=(28,28,1), kernel_initializer='he_uniform'))\n",
    "    model.add(Activation('tanh'))\n",
    "    model.add(BatchNormalization())\n",
    "    \n",
    "    model.add(MaxPooling2D(pool_size=(2,2),padding='same'))\n",
    "    \n",
    "    model.add(Conv2D(32,(5,5), kernel_initializer='he_uniform'))\n",
    "    model.add(Activation('relu'))\n",
    "    model.add(BatchNormalization())\n",
    "    \n",
    "    model.add(MaxPooling2D(pool_size=(2,2),padding='same'))\n",
    "    \n",
    "    model.add(Conv2D(32,(3,3), kernel_initializer='he_uniform'))\n",
    "    model.add(Activation('tanh'))\n",
    "    model.add(BatchNormalization())\n",
    "    \n",
    "    model.add(MaxPooling2D(pool_size=(2,2),padding='same'))\n",
    "    \n",
    "    model.add(Flatten())\n",
    "    \n",
    "    model.add(Dense(128, activation='relu',kernel_initializer='glorot_uniform'))\n",
    "    model.add(Dropout(0.2))\n",
    "    model.add(Dense(10,activation='relu',kernel_initializer='he_normal'))\n",
    "    model.add(Dropout(0.1))\n",
    "    model.add(Dense(num_classes,activation='softmax'))\n",
    "    \n",
    "    model.compile(loss='categorical_crossentropy', optimizer='adam',metrics=['accuracy'])\n",
    "    return model\n",
    "\n",
    "def ann_model():\n",
    "    Images = Input(shape=(28,28,1))\n",
    "    flat_n = Flatten()(Images)\n",
    "    dense1 = Dense(100,activation='relu',kernel_initializer='glorot_uniform')(flat_n)\n",
    "    dense2 = Dense(2000, activation='relu',kernel_initializer='he_normal')(dense1)\n",
    "    dense3 = Dense(100,activation='relu')(dense2)\n",
    "    dense4 = Dense(10,activation='relu')(dense3)\n",
    "    dropout = Dropout(0.3)(dense4)\n",
    "    dense5 = Dense(num_classes,activation='softmax')(dropout)\n",
    "    model = Model(inputs=Images,outputs=dense5)\n",
    "    model.compile(loss='categorical_crossentropy',optimizer='adam', metrics=['accuracy'])\n",
    "    return model\n",
    "\n",
    "cnn_model = cnn_model()\n",
    "ann_model = ann_model()\n",
    "\n",
    "plot_model(cnn_model, to_file='cnn_model_plot.png', show_shapes=True, show_layer_names=True)\n",
    "plot_model(ann_model, to_file='ann_model_plot.png', show_shapes=True, show_layer_names=True)"
   ]
  },
  {
   "cell_type": "code",
   "execution_count": null,
   "metadata": {
    "ExecuteTime": {
     "end_time": "2018-02-27T18:14:49.143527Z",
     "start_time": "2018-02-27T14:53:49.206856Z"
    }
   },
   "outputs": [],
   "source": [
    "datagen = ImageDataGenerator(featurewise_center=True,\n",
    "                            featurewise_std_normalization=True,\n",
    "                            #zca_whitening=True,\n",
    "                            rotation_range=30,\n",
    "                            width_shift_range=0.1,\n",
    "                            height_shift_range=0.1,\n",
    "                            horizontal_flip=True, \n",
    "                            vertical_flip=False\n",
    "                            )\n",
    "train_gen = datagen.flow(X_train,y_train,batch_size=32)\n",
    "cnn_model.fit_generator(train_gen,\n",
    "                        steps_per_epoch=60000,\n",
    "                        epochs=500,\n",
    "                        validation_data = (X_test,y_test))\n",
    "cnn_model.save_weights(\"cnn_model.h5\")\n",
    "ann_model.fit_generator(train_gen,\n",
    "                        steps_per_epoch=60000,\n",
    "                        epochs=500,\n",
    "                        validation_data = (X_test,y_test))\n",
    "ann_model.save_weights(\"ann_model.h5\")"
   ]
  }
 ],
 "metadata": {
  "kernelspec": {
   "display_name": "Python 3",
   "language": "python",
   "name": "python3"
  },
  "language_info": {
   "codemirror_mode": {
    "name": "ipython",
    "version": 3
   },
   "file_extension": ".py",
   "mimetype": "text/x-python",
   "name": "python",
   "nbconvert_exporter": "python",
   "pygments_lexer": "ipython3",
   "version": "3.5.4"
  },
  "varInspector": {
   "cols": {
    "lenName": 16,
    "lenType": 16,
    "lenVar": 40
   },
   "kernels_config": {
    "python": {
     "delete_cmd_postfix": "",
     "delete_cmd_prefix": "del ",
     "library": "var_list.py",
     "varRefreshCmd": "print(var_dic_list())"
    },
    "r": {
     "delete_cmd_postfix": ") ",
     "delete_cmd_prefix": "rm(",
     "library": "var_list.r",
     "varRefreshCmd": "cat(var_dic_list()) "
    }
   },
   "types_to_exclude": [
    "module",
    "function",
    "builtin_function_or_method",
    "instance",
    "_Feature"
   ],
   "window_display": false
  }
 },
 "nbformat": 4,
 "nbformat_minor": 2
}
