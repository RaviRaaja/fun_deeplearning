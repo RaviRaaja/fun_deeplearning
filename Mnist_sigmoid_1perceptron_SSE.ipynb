{
 "cells": [
  {
   "cell_type": "code",
   "execution_count": 1,
   "metadata": {
    "collapsed": true
   },
   "outputs": [],
   "source": [
    "import glob\n",
    "import numpy as np\n",
    "from PIL import Image\n",
    "from sklearn.preprocessing import StandardScaler\n",
    "import matplotlib.pyplot as plt"
   ]
  },
  {
   "cell_type": "code",
   "execution_count": 2,
   "metadata": {
    "collapsed": true
   },
   "outputs": [],
   "source": [
    "def load_dataset(validation=False):\n",
    "    if (validation):\n",
    "        filelist_1 = glob.glob('test/1/*.jpg')\n",
    "        x_test_1 = np.array([np.array(Image.open(fname)) for fname in filelist_1])\n",
    "        y_test_1 = np.ones((500,1))\n",
    "        flatten = x_test_1.shape[1]*x_test_1.shape[2]\n",
    "        x_test_1 = x_test_1.reshape(x_test_1.shape[0], flatten)\n",
    "        filelist_0 = glob.glob('test/0/*.jpg')\n",
    "        x_test_0 = np.array([np.array(Image.open(fname)) for fname in filelist_0])\n",
    "        y_test_0 = np.ones((500,1))\n",
    "        flatten = x_test_0.shape[1]*x_test_0.shape[2]\n",
    "        x_test_0 = x_test_0.reshape(x_test_0.shape[0], flatten)\n",
    "        x_test = np.concatenate((x_test_0,x_test_1))\n",
    "        y_test = np.concatenate((y_test_0,y_test_1))\n",
    "        return x_test,y_test\n",
    "    else:\n",
    "        filelist_1 = glob.glob('train/1/*.jpg')\n",
    "        x_train_1 = np.array([np.array(Image.open(fname)) for fname in filelist_1])\n",
    "        y_train_1 = np.ones((500,1))\n",
    "        flatten = x_train_1.shape[1]*x_train_1.shape[2]\n",
    "        x_train_1 = x_train_1.reshape(x_train_1.shape[0], flatten)\n",
    "        filelist_0 = glob.glob('train/0/*.jpg')\n",
    "        x_train_0 = np.array([np.array(Image.open(fname)) for fname in filelist_0])\n",
    "        y_train_0 = np.zeros((500,1))\n",
    "        flatten = x_train_0.shape[1]*x_train_0.shape[2]\n",
    "        x_train_0 = x_train_0.reshape(x_train_0.shape[0], flatten)\n",
    "        x_train = np.concatenate((x_train_0,x_train_1))\n",
    "        y_train = np.concatenate((y_train_0,y_train_1))\n",
    "        return x_train, y_train"
   ]
  },
  {
   "cell_type": "code",
   "execution_count": 3,
   "metadata": {
    "collapsed": true
   },
   "outputs": [],
   "source": [
    "def normalize_data(X):\n",
    "    sc = StandardScaler()\n",
    "    return sc.fit_transform(X)"
   ]
  },
  {
   "cell_type": "code",
   "execution_count": 4,
   "metadata": {
    "collapsed": true
   },
   "outputs": [],
   "source": [
    "def sigmoid(x,derivative=False):\n",
    "    if(derivative):\n",
    "        return x*(1-x)\n",
    "    return 1./(1+np.exp(-x))"
   ]
  },
  {
   "cell_type": "code",
   "execution_count": 5,
   "metadata": {
    "collapsed": true
   },
   "outputs": [],
   "source": [
    "#Function for initializing random weights\n",
    "def init_weights(X):\n",
    "    W = np.random.rand(1,X.shape[1])*0.01\n",
    "    b = 0\n",
    "    return W, b"
   ]
  },
  {
   "cell_type": "code",
   "execution_count": 6,
   "metadata": {
    "collapsed": true
   },
   "outputs": [],
   "source": [
    "def compute_cost(A,Y):\n",
    "    m = Y.shape[0]\n",
    "    cost = (1.0/m)*np.sum((Y-A)**2)\n",
    "    return cost"
   ]
  },
  {
   "cell_type": "code",
   "execution_count": 7,
   "metadata": {
    "collapsed": true
   },
   "outputs": [],
   "source": [
    "def compute_grad(X,A,Y):\n",
    "    m = Y.shape[0]\n",
    "    dW = (-1.0/m)*np.dot(((Y-A)*(A)*(1-A)).T,X)\n",
    "    db = (-1.0/m)*np.sum((Y-A)*(1-A)*A)\n",
    "    return dW,db  "
   ]
  },
  {
   "cell_type": "code",
   "execution_count": 8,
   "metadata": {
    "collapsed": true
   },
   "outputs": [],
   "source": [
    "def update_parameters(W,b,dW,db,eta):\n",
    "    W -= eta*dW\n",
    "    b -= eta*db\n",
    "    return W,b"
   ]
  },
  {
   "cell_type": "code",
   "execution_count": 9,
   "metadata": {
    "collapsed": true
   },
   "outputs": [],
   "source": [
    "def validation(W,b,x_test):\n",
    "    yhat = np.round(sigmoid(np.dot(x_test,W.T)+b))\n",
    "    return yhat"
   ]
  },
  {
   "cell_type": "code",
   "execution_count": 10,
   "metadata": {
    "collapsed": true
   },
   "outputs": [],
   "source": [
    "def main(X,y,number_of_iter = 10000):\n",
    "    W,b = init_weights(X)\n",
    "    lr = 1\n",
    "    l_cost=[]\n",
    "       \n",
    "    for j in range(number_of_iter):\n",
    "        A = sigmoid(np.dot(X,W.T)+b)\n",
    "        \n",
    "        cost_ = compute_cost(A,y)\n",
    "        l_cost.append(cost_)\n",
    "        \n",
    "        \n",
    "        if j%100 is 0:\n",
    "            print (\"Cost is {}\".format(cost_))\n",
    "            \n",
    "        \n",
    "        dW, db = compute_grad(X,A,y)\n",
    "        W, b = update_parameters(W,b,dW,db,lr)\n",
    "    return W,b,l_cost"
   ]
  },
  {
   "cell_type": "code",
   "execution_count": 11,
   "metadata": {},
   "outputs": [
    {
     "name": "stderr",
     "output_type": "stream",
     "text": [
      "/home/stan/anaconda2/envs/tensorflow/lib/python3.5/site-packages/sklearn/utils/validation.py:475: DataConversionWarning: Data with input dtype uint8 was converted to float64 by StandardScaler.\n",
      "  warnings.warn(msg, DataConversionWarning)\n"
     ]
    }
   ],
   "source": [
    "X, y = load_dataset()\n",
    "X = normalize_data(X)"
   ]
  },
  {
   "cell_type": "code",
   "execution_count": 14,
   "metadata": {},
   "outputs": [
    {
     "name": "stdout",
     "output_type": "stream",
     "text": [
      "Cost is 0.29405007503084785\n",
      "Cost is 0.0029989595792551016\n",
      "Cost is 0.0015320720368164756\n",
      "Cost is 0.0010135287442776123\n",
      "Cost is 0.0007517361025273913\n",
      "Cost is 0.0005949947991795702\n",
      "Cost is 0.0004911027111398961\n",
      "Cost is 0.00041740038486044024\n",
      "Cost is 0.0003625075930775726\n",
      "Cost is 0.0003200996367913526\n"
     ]
    },
    {
     "data": {
      "image/png": "[encoded data removed]",
      "text/plain": [
       "<matplotlib.figure.Figure at 0x7f3318403ba8>"
      ]
     },
     "metadata": {},
     "output_type": "display_data"
    }
   ],
   "source": [
    "no_of_iter = 1000\n",
    "final_W , final_b , l_cost= main(X,y,no_of_iter)\n",
    "plt.title(\"Cost - sinlge perceptron and sigmoid activation\")\n",
    "plt.plot(l_cost[:25])\n",
    "plt.show()"
   ]
  },
  {
   "cell_type": "code",
   "execution_count": 15,
   "metadata": {},
   "outputs": [
    {
     "name": "stdout",
     "output_type": "stream",
     "text": [
      "Accuracy is 49.6%\n"
     ]
    },
    {
     "name": "stderr",
     "output_type": "stream",
     "text": [
      "/home/stan/anaconda2/envs/tensorflow/lib/python3.5/site-packages/sklearn/utils/validation.py:475: DataConversionWarning: Data with input dtype uint8 was converted to float64 by StandardScaler.\n",
      "  warnings.warn(msg, DataConversionWarning)\n"
     ]
    }
   ],
   "source": [
    "x_test, y_test = load_dataset(validation=True)\n",
    "x_test = normalize_data(x_test)\n",
    "predictions = validation(final_W,final_b,x_test)\n",
    "acc = np.mean(y_test==predictions)\n",
    "print (\"Accuracy is {}%\".format(acc*100))"
   ]
  }
 ],
 "metadata": {
  "kernelspec": {
   "display_name": "Python 3",
   "language": "python",
   "name": "python3"
  },
  "language_info": {
   "codemirror_mode": {
    "name": "ipython",
    "version": 3
   },
   "file_extension": ".py",
   "mimetype": "text/x-python",
   "name": "python",
   "nbconvert_exporter": "python",
   "pygments_lexer": "ipython3",
   "version": "3.5.4"
  }
 },
 "nbformat": 4,
 "nbformat_minor": 2
}
