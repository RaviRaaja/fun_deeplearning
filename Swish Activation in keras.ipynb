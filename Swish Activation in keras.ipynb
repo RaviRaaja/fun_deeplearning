{
 "cells": [
  {
   "cell_type": "code",
   "execution_count": 1,
   "metadata": {
    "ExecuteTime": {
     "end_time": "2018-02-28T11:55:03.920405Z",
     "start_time": "2018-02-28T11:55:01.991983Z"
    }
   },
   "outputs": [
    {
     "name": "stderr",
     "output_type": "stream",
     "text": [
      "Using TensorFlow backend.\n"
     ]
    }
   ],
   "source": [
    "from keras.datasets import mnist\n",
    "from keras.preprocessing.image import ImageDataGenerator\n",
    "from keras import backend as K\n",
    "from keras.models import Sequential,Model\n",
    "from keras.layers import Dropout,Dense,Flatten,BatchNormalization,Activation,Input\n",
    "from keras.layers.convolutional import Conv2D, MaxPooling2D\n",
    "from keras.utils.vis_utils import plot_model\n",
    "from keras.utils import np_utils\n",
    "from matplotlib import pyplot\n",
    "K.set_image_dim_ordering('tf')"
   ]
  },
  {
   "cell_type": "code",
   "execution_count": 2,
   "metadata": {
    "ExecuteTime": {
     "end_time": "2018-02-28T11:55:04.248773Z",
     "start_time": "2018-02-28T11:55:03.922163Z"
    }
   },
   "outputs": [
    {
     "name": "stdout",
     "output_type": "stream",
     "text": [
      "Number of classes  10\n"
     ]
    }
   ],
   "source": [
    "(X_train,y_train),(X_test,y_test) = mnist.load_data()\n",
    "\n",
    "X_train = X_train.reshape(X_train.shape[0],28,28,1).astype('float32')\n",
    "X_test = X_test.reshape(X_test.shape[0],28,28,1).astype('float32')\n",
    "\n",
    "X_train = X_train/255\n",
    "X_test = X_test/255\n",
    "\n",
    "y_train = np_utils.to_categorical(y_train)\n",
    "y_test = np_utils.to_categorical(y_test)\n",
    "\n",
    "num_classes = y_test.shape[1]\n",
    "print(\"Number of classes \" ,num_classes)"
   ]
  },
  {
   "cell_type": "code",
   "execution_count": 3,
   "metadata": {
    "ExecuteTime": {
     "end_time": "2018-02-28T11:55:04.270371Z",
     "start_time": "2018-02-28T11:55:04.250340Z"
    },
    "collapsed": true
   },
   "outputs": [],
   "source": [
    "def r_ann_model():\n",
    "    Images = Input(shape=(28,28,1))\n",
    "    flat_n = Flatten()(Images)\n",
    "    dense1 = Dense(100,activation='relu',kernel_initializer='glorot_uniform')(flat_n)\n",
    "    drp1 = Dropout(0.3)(dense1)\n",
    "    dense2 = Dense(200, activation='relu')(drp1)\n",
    "    drp2 = Dropout(0.3)(dense2)\n",
    "    dense3 = Dense(100,activation='relu')(drp2)\n",
    "    drp3 = Dropout(0.3)(dense3)\n",
    "    dense4 = Dense(10,activation='relu')(drp3)\n",
    "    dropout = Dropout(0.3)(dense4)\n",
    "    dense5 = Dense(num_classes,activation='softmax')(dropout)\n",
    "    model = Model(inputs=Images,outputs=dense5)\n",
    "    model.compile(loss='categorical_crossentropy',optimizer='adam', metrics=['accuracy'])\n",
    "    return model"
   ]
  },
  {
   "cell_type": "code",
   "execution_count": 4,
   "metadata": {
    "ExecuteTime": {
     "end_time": "2018-02-28T11:55:04.496565Z",
     "start_time": "2018-02-28T11:55:04.271940Z"
    }
   },
   "outputs": [
    {
     "name": "stdout",
     "output_type": "stream",
     "text": [
      "_________________________________________________________________\n",
      "Layer (type)                 Output Shape              Param #   \n",
      "=================================================================\n",
      "input_1 (InputLayer)         (None, 28, 28, 1)         0         \n",
      "_________________________________________________________________\n",
      "flatten_1 (Flatten)          (None, 784)               0         \n",
      "_________________________________________________________________\n",
      "dense_1 (Dense)              (None, 100)               78500     \n",
      "_________________________________________________________________\n",
      "dropout_1 (Dropout)          (None, 100)               0         \n",
      "_________________________________________________________________\n",
      "dense_2 (Dense)              (None, 200)               20200     \n",
      "_________________________________________________________________\n",
      "dropout_2 (Dropout)          (None, 200)               0         \n",
      "_________________________________________________________________\n",
      "dense_3 (Dense)              (None, 100)               20100     \n",
      "_________________________________________________________________\n",
      "dropout_3 (Dropout)          (None, 100)               0         \n",
      "_________________________________________________________________\n",
      "dense_4 (Dense)              (None, 10)                1010      \n",
      "_________________________________________________________________\n",
      "dropout_4 (Dropout)          (None, 10)                0         \n",
      "_________________________________________________________________\n",
      "dense_5 (Dense)              (None, 10)                110       \n",
      "=================================================================\n",
      "Total params: 119,920\n",
      "Trainable params: 119,920\n",
      "Non-trainable params: 0\n",
      "_________________________________________________________________\n",
      "None\n"
     ]
    }
   ],
   "source": [
    "reluu = r_ann_model()\n",
    "print(reluu.summary())"
   ]
  },
  {
   "cell_type": "code",
   "execution_count": 5,
   "metadata": {
    "ExecuteTime": {
     "end_time": "2018-02-28T11:59:14.333412Z",
     "start_time": "2018-02-28T11:55:04.498141Z"
    },
    "scrolled": true
   },
   "outputs": [
    {
     "name": "stdout",
     "output_type": "stream",
     "text": [
      "Train on 48000 samples, validate on 12000 samples\n",
      "Epoch 1/100\n",
      "48000/48000 [==============================] - 2s - loss: 1.0581 - acc: 0.6299 - val_loss: 0.3082 - val_acc: 0.9243\n",
      "Epoch 2/100\n",
      "48000/48000 [==============================] - 2s - loss: 0.5881 - acc: 0.8099 - val_loss: 0.2149 - val_acc: 0.9466\n",
      "Epoch 3/100\n",
      "48000/48000 [==============================] - 2s - loss: 0.5100 - acc: 0.8365 - val_loss: 0.1837 - val_acc: 0.9560\n",
      "Epoch 4/100\n",
      "48000/48000 [==============================] - 2s - loss: 0.4508 - acc: 0.8595 - val_loss: 0.1762 - val_acc: 0.9583\n",
      "Epoch 5/100\n",
      "48000/48000 [==============================] - 2s - loss: 0.4254 - acc: 0.8658 - val_loss: 0.1779 - val_acc: 0.9598\n",
      "Epoch 6/100\n",
      "48000/48000 [==============================] - 2s - loss: 0.3870 - acc: 0.8828 - val_loss: 0.1689 - val_acc: 0.9642\n",
      "Epoch 7/100\n",
      "48000/48000 [==============================] - 2s - loss: 0.3691 - acc: 0.8905 - val_loss: 0.1574 - val_acc: 0.9652\n",
      "Epoch 8/100\n",
      "48000/48000 [==============================] - 2s - loss: 0.3611 - acc: 0.8931 - val_loss: 0.1499 - val_acc: 0.9647\n",
      "Epoch 9/100\n",
      "48000/48000 [==============================] - 2s - loss: 0.3502 - acc: 0.8963 - val_loss: 0.1515 - val_acc: 0.9678\n",
      "Epoch 10/100\n",
      "48000/48000 [==============================] - 2s - loss: 0.3328 - acc: 0.9022 - val_loss: 0.1615 - val_acc: 0.9667\n",
      "Epoch 11/100\n",
      "48000/48000 [==============================] - 2s - loss: 0.3307 - acc: 0.9067 - val_loss: 0.1445 - val_acc: 0.9688\n",
      "Epoch 12/100\n",
      "48000/48000 [==============================] - 2s - loss: 0.3141 - acc: 0.9119 - val_loss: 0.1544 - val_acc: 0.9688\n",
      "Epoch 13/100\n",
      "48000/48000 [==============================] - 2s - loss: 0.3047 - acc: 0.9146 - val_loss: 0.1518 - val_acc: 0.9682\n",
      "Epoch 14/100\n",
      "48000/48000 [==============================] - 2s - loss: 0.3028 - acc: 0.9145 - val_loss: 0.1486 - val_acc: 0.9682\n",
      "Epoch 15/100\n",
      "48000/48000 [==============================] - 2s - loss: 0.2939 - acc: 0.9166 - val_loss: 0.1433 - val_acc: 0.9702\n",
      "Epoch 16/100\n",
      "48000/48000 [==============================] - 2s - loss: 0.2857 - acc: 0.9188 - val_loss: 0.1448 - val_acc: 0.9703\n",
      "Epoch 17/100\n",
      "48000/48000 [==============================] - 2s - loss: 0.2786 - acc: 0.9223 - val_loss: 0.1461 - val_acc: 0.9704\n",
      "Epoch 18/100\n",
      "48000/48000 [==============================] - 2s - loss: 0.2835 - acc: 0.9195 - val_loss: 0.1661 - val_acc: 0.9683\n",
      "Epoch 19/100\n",
      "48000/48000 [==============================] - 2s - loss: 0.2729 - acc: 0.9237 - val_loss: 0.1523 - val_acc: 0.9705\n",
      "Epoch 20/100\n",
      "48000/48000 [==============================] - 2s - loss: 0.2656 - acc: 0.9265 - val_loss: 0.1560 - val_acc: 0.9717\n",
      "Epoch 21/100\n",
      "48000/48000 [==============================] - 2s - loss: 0.2690 - acc: 0.9261 - val_loss: 0.1438 - val_acc: 0.9712\n",
      "Epoch 22/100\n",
      "48000/48000 [==============================] - 2s - loss: 0.2696 - acc: 0.9249 - val_loss: 0.1479 - val_acc: 0.9699\n",
      "Epoch 23/100\n",
      "48000/48000 [==============================] - 2s - loss: 0.2578 - acc: 0.9285 - val_loss: 0.1450 - val_acc: 0.9721\n",
      "Epoch 24/100\n",
      "48000/48000 [==============================] - 2s - loss: 0.2598 - acc: 0.9276 - val_loss: 0.1419 - val_acc: 0.9714\n",
      "Epoch 25/100\n",
      "48000/48000 [==============================] - 2s - loss: 0.2569 - acc: 0.9289 - val_loss: 0.1500 - val_acc: 0.9718\n",
      "Epoch 26/100\n",
      "48000/48000 [==============================] - 2s - loss: 0.2399 - acc: 0.9347 - val_loss: 0.1544 - val_acc: 0.9733\n",
      "Epoch 27/100\n",
      "48000/48000 [==============================] - 2s - loss: 0.2468 - acc: 0.9321 - val_loss: 0.1564 - val_acc: 0.9728\n",
      "Epoch 28/100\n",
      "48000/48000 [==============================] - 2s - loss: 0.2392 - acc: 0.9358 - val_loss: 0.1419 - val_acc: 0.9738\n",
      "Epoch 29/100\n",
      "48000/48000 [==============================] - 2s - loss: 0.2446 - acc: 0.9333 - val_loss: 0.1530 - val_acc: 0.9721\n",
      "Epoch 30/100\n",
      "48000/48000 [==============================] - 2s - loss: 0.2459 - acc: 0.9322 - val_loss: 0.1506 - val_acc: 0.9742\n",
      "Epoch 31/100\n",
      "48000/48000 [==============================] - 2s - loss: 0.2374 - acc: 0.9341 - val_loss: 0.1446 - val_acc: 0.9734\n",
      "Epoch 32/100\n",
      "48000/48000 [==============================] - 2s - loss: 0.2379 - acc: 0.9351 - val_loss: 0.1511 - val_acc: 0.9727\n",
      "Epoch 33/100\n",
      "48000/48000 [==============================] - 2s - loss: 0.2349 - acc: 0.9362 - val_loss: 0.1410 - val_acc: 0.9738\n",
      "Epoch 34/100\n",
      "48000/48000 [==============================] - 2s - loss: 0.2358 - acc: 0.9354 - val_loss: 0.1425 - val_acc: 0.9728\n",
      "Epoch 35/100\n",
      "48000/48000 [==============================] - 2s - loss: 0.2373 - acc: 0.9357 - val_loss: 0.1402 - val_acc: 0.9732\n",
      "Epoch 36/100\n",
      "48000/48000 [==============================] - 2s - loss: 0.2329 - acc: 0.9351 - val_loss: 0.1477 - val_acc: 0.9726\n",
      "Epoch 37/100\n",
      "48000/48000 [==============================] - 2s - loss: 0.2276 - acc: 0.9365 - val_loss: 0.1474 - val_acc: 0.9742\n",
      "Epoch 38/100\n",
      "48000/48000 [==============================] - 2s - loss: 0.2353 - acc: 0.9360 - val_loss: 0.1395 - val_acc: 0.9752\n",
      "Epoch 39/100\n",
      "48000/48000 [==============================] - 2s - loss: 0.2266 - acc: 0.9392 - val_loss: 0.1462 - val_acc: 0.9750\n",
      "Epoch 40/100\n",
      "48000/48000 [==============================] - 2s - loss: 0.2207 - acc: 0.9387 - val_loss: 0.1437 - val_acc: 0.9760\n",
      "Epoch 41/100\n",
      "48000/48000 [==============================] - 2s - loss: 0.2272 - acc: 0.9389 - val_loss: 0.1599 - val_acc: 0.9748\n",
      "Epoch 42/100\n",
      "48000/48000 [==============================] - 2s - loss: 0.2209 - acc: 0.9407 - val_loss: 0.1655 - val_acc: 0.9748\n",
      "Epoch 43/100\n",
      "48000/48000 [==============================] - 2s - loss: 0.2208 - acc: 0.9401 - val_loss: 0.1451 - val_acc: 0.9722\n",
      "Epoch 44/100\n",
      "48000/48000 [==============================] - 2s - loss: 0.2332 - acc: 0.9371 - val_loss: 0.1507 - val_acc: 0.9731\n",
      "Epoch 45/100\n",
      "48000/48000 [==============================] - 2s - loss: 0.2207 - acc: 0.9416 - val_loss: 0.1438 - val_acc: 0.9752\n",
      "Epoch 46/100\n",
      "48000/48000 [==============================] - 2s - loss: 0.2150 - acc: 0.9429 - val_loss: 0.1418 - val_acc: 0.9761\n",
      "Epoch 47/100\n",
      "48000/48000 [==============================] - 2s - loss: 0.2142 - acc: 0.9415 - val_loss: 0.1639 - val_acc: 0.9724\n",
      "Epoch 48/100\n",
      "48000/48000 [==============================] - 2s - loss: 0.2144 - acc: 0.9433 - val_loss: 0.1645 - val_acc: 0.9713\n",
      "Epoch 49/100\n",
      "48000/48000 [==============================] - 2s - loss: 0.2183 - acc: 0.9409 - val_loss: 0.1485 - val_acc: 0.9759\n",
      "Epoch 50/100\n",
      "48000/48000 [==============================] - 2s - loss: 0.2126 - acc: 0.9428 - val_loss: 0.1549 - val_acc: 0.9730\n",
      "Epoch 51/100\n",
      "48000/48000 [==============================] - 2s - loss: 0.2221 - acc: 0.9406 - val_loss: 0.1435 - val_acc: 0.9745\n",
      "Epoch 52/100\n",
      "48000/48000 [==============================] - 2s - loss: 0.2069 - acc: 0.9450 - val_loss: 0.1511 - val_acc: 0.9748\n",
      "Epoch 53/100\n",
      "48000/48000 [==============================] - 2s - loss: 0.2095 - acc: 0.9458 - val_loss: 0.1400 - val_acc: 0.9768\n",
      "Epoch 54/100\n",
      "48000/48000 [==============================] - 2s - loss: 0.2094 - acc: 0.9454 - val_loss: 0.1471 - val_acc: 0.9748\n",
      "Epoch 55/100\n",
      "48000/48000 [==============================] - 2s - loss: 0.2100 - acc: 0.9431 - val_loss: 0.1430 - val_acc: 0.9758\n",
      "Epoch 56/100\n",
      "48000/48000 [==============================] - 2s - loss: 0.1946 - acc: 0.9473 - val_loss: 0.1525 - val_acc: 0.9752\n",
      "Epoch 57/100\n",
      "48000/48000 [==============================] - 2s - loss: 0.2028 - acc: 0.9457 - val_loss: 0.1496 - val_acc: 0.9743\n",
      "Epoch 58/100\n",
      "48000/48000 [==============================] - 2s - loss: 0.2025 - acc: 0.9477 - val_loss: 0.1554 - val_acc: 0.9747\n",
      "Epoch 59/100\n",
      "48000/48000 [==============================] - 2s - loss: 0.2010 - acc: 0.9467 - val_loss: 0.1627 - val_acc: 0.9760\n",
      "Epoch 60/100\n",
      "48000/48000 [==============================] - 2s - loss: 0.2078 - acc: 0.9466 - val_loss: 0.1551 - val_acc: 0.9740\n",
      "Epoch 61/100\n",
      "48000/48000 [==============================] - 2s - loss: 0.2045 - acc: 0.9456 - val_loss: 0.1573 - val_acc: 0.9753\n",
      "Epoch 62/100\n",
      "48000/48000 [==============================] - 2s - loss: 0.1956 - acc: 0.9485 - val_loss: 0.1739 - val_acc: 0.9733\n",
      "Epoch 63/100\n",
      "48000/48000 [==============================] - 2s - loss: 0.2068 - acc: 0.9459 - val_loss: 0.1590 - val_acc: 0.9736\n",
      "Epoch 64/100\n"
     ]
    },
    {
     "name": "stdout",
     "output_type": "stream",
     "text": [
      "48000/48000 [==============================] - 2s - loss: 0.2011 - acc: 0.9479 - val_loss: 0.1526 - val_acc: 0.9738\n",
      "Epoch 65/100\n",
      "48000/48000 [==============================] - 2s - loss: 0.1980 - acc: 0.9489 - val_loss: 0.1521 - val_acc: 0.9731\n",
      "Epoch 66/100\n",
      "48000/48000 [==============================] - 2s - loss: 0.1956 - acc: 0.9482 - val_loss: 0.1452 - val_acc: 0.9748\n",
      "Epoch 67/100\n",
      "48000/48000 [==============================] - 2s - loss: 0.1972 - acc: 0.9472 - val_loss: 0.1537 - val_acc: 0.9745\n",
      "Epoch 68/100\n",
      "48000/48000 [==============================] - 2s - loss: 0.2049 - acc: 0.9467 - val_loss: 0.1756 - val_acc: 0.9710\n",
      "Epoch 69/100\n",
      "48000/48000 [==============================] - 2s - loss: 0.2041 - acc: 0.9464 - val_loss: 0.1528 - val_acc: 0.9742\n",
      "Epoch 70/100\n",
      "48000/48000 [==============================] - 2s - loss: 0.1967 - acc: 0.9483 - val_loss: 0.1659 - val_acc: 0.9748\n",
      "Epoch 71/100\n",
      "48000/48000 [==============================] - 2s - loss: 0.1979 - acc: 0.9507 - val_loss: 0.1493 - val_acc: 0.9751\n",
      "Epoch 72/100\n",
      "48000/48000 [==============================] - 2s - loss: 0.1924 - acc: 0.9495 - val_loss: 0.1518 - val_acc: 0.9749\n",
      "Epoch 73/100\n",
      "48000/48000 [==============================] - 2s - loss: 0.1998 - acc: 0.9485 - val_loss: 0.1425 - val_acc: 0.9747\n",
      "Epoch 74/100\n",
      "48000/48000 [==============================] - 2s - loss: 0.1902 - acc: 0.9493 - val_loss: 0.1492 - val_acc: 0.9749\n",
      "Epoch 75/100\n",
      "48000/48000 [==============================] - 2s - loss: 0.1914 - acc: 0.9487 - val_loss: 0.1560 - val_acc: 0.9758\n",
      "Epoch 76/100\n",
      "48000/48000 [==============================] - 2s - loss: 0.2019 - acc: 0.9466 - val_loss: 0.1455 - val_acc: 0.9735\n",
      "Epoch 77/100\n",
      "48000/48000 [==============================] - 2s - loss: 0.1925 - acc: 0.9481 - val_loss: 0.1507 - val_acc: 0.9748\n",
      "Epoch 78/100\n",
      "48000/48000 [==============================] - 2s - loss: 0.1967 - acc: 0.9491 - val_loss: 0.1424 - val_acc: 0.9732\n",
      "Epoch 79/100\n",
      "48000/48000 [==============================] - 2s - loss: 0.1972 - acc: 0.9461 - val_loss: 0.1444 - val_acc: 0.9721\n",
      "Epoch 80/100\n",
      "48000/48000 [==============================] - 2s - loss: 0.1850 - acc: 0.9514 - val_loss: 0.1602 - val_acc: 0.9752\n",
      "Epoch 81/100\n",
      "48000/48000 [==============================] - 2s - loss: 0.1947 - acc: 0.9514 - val_loss: 0.1544 - val_acc: 0.9745\n",
      "Epoch 82/100\n",
      "48000/48000 [==============================] - 2s - loss: 0.2005 - acc: 0.9494 - val_loss: 0.1528 - val_acc: 0.9749\n",
      "Epoch 83/100\n",
      "48000/48000 [==============================] - 2s - loss: 0.1878 - acc: 0.9501 - val_loss: 0.1549 - val_acc: 0.9739\n",
      "Epoch 84/100\n",
      "48000/48000 [==============================] - 2s - loss: 0.1838 - acc: 0.9541 - val_loss: 0.1568 - val_acc: 0.9754\n",
      "Epoch 85/100\n",
      "48000/48000 [==============================] - 2s - loss: 0.1906 - acc: 0.9509 - val_loss: 0.1378 - val_acc: 0.9751\n",
      "Epoch 86/100\n",
      "48000/48000 [==============================] - 2s - loss: 0.1896 - acc: 0.9525 - val_loss: 0.1427 - val_acc: 0.9743\n",
      "Epoch 87/100\n",
      "48000/48000 [==============================] - 2s - loss: 0.1877 - acc: 0.9525 - val_loss: 0.1603 - val_acc: 0.9751\n",
      "Epoch 88/100\n",
      "48000/48000 [==============================] - 2s - loss: 0.1857 - acc: 0.9539 - val_loss: 0.1654 - val_acc: 0.9752\n",
      "Epoch 89/100\n",
      "48000/48000 [==============================] - 2s - loss: 0.1944 - acc: 0.9519 - val_loss: 0.1581 - val_acc: 0.9729\n",
      "Epoch 90/100\n",
      "48000/48000 [==============================] - 2s - loss: 0.1916 - acc: 0.9521 - val_loss: 0.1636 - val_acc: 0.9758\n",
      "Epoch 91/100\n",
      "48000/48000 [==============================] - 2s - loss: 0.1832 - acc: 0.9533 - val_loss: 0.1578 - val_acc: 0.9742\n",
      "Epoch 92/100\n",
      "48000/48000 [==============================] - 2s - loss: 0.1791 - acc: 0.9538 - val_loss: 0.1520 - val_acc: 0.9742\n",
      "Epoch 93/100\n",
      "48000/48000 [==============================] - 2s - loss: 0.1782 - acc: 0.9531 - val_loss: 0.1518 - val_acc: 0.9756\n",
      "Epoch 94/100\n",
      "48000/48000 [==============================] - 2s - loss: 0.1897 - acc: 0.9515 - val_loss: 0.1409 - val_acc: 0.9753\n",
      "Epoch 95/100\n",
      "48000/48000 [==============================] - 2s - loss: 0.1843 - acc: 0.9528 - val_loss: 0.1496 - val_acc: 0.9752\n",
      "Epoch 96/100\n",
      "48000/48000 [==============================] - 2s - loss: 0.1927 - acc: 0.9523 - val_loss: 0.1564 - val_acc: 0.9747\n",
      "Epoch 97/100\n",
      "48000/48000 [==============================] - 2s - loss: 0.1932 - acc: 0.9517 - val_loss: 0.1531 - val_acc: 0.9751\n",
      "Epoch 98/100\n",
      "48000/48000 [==============================] - 2s - loss: 0.1876 - acc: 0.9539 - val_loss: 0.1631 - val_acc: 0.9736\n",
      "Epoch 99/100\n",
      "48000/48000 [==============================] - 2s - loss: 0.1842 - acc: 0.9539 - val_loss: 0.1501 - val_acc: 0.9742\n",
      "Epoch 100/100\n",
      "48000/48000 [==============================] - 2s - loss: 0.1762 - acc: 0.9542 - val_loss: 0.1391 - val_acc: 0.9749\n"
     ]
    }
   ],
   "source": [
    "history = reluu.fit(X_train,y_train,validation_split=0.2,epochs=100,batch_size=64)"
   ]
  },
  {
   "cell_type": "code",
   "execution_count": 6,
   "metadata": {
    "ExecuteTime": {
     "end_time": "2018-02-28T11:59:14.340876Z",
     "start_time": "2018-02-28T11:59:14.334980Z"
    }
   },
   "outputs": [
    {
     "name": "stdout",
     "output_type": "stream",
     "text": [
      "Acc:  0.9541875\n",
      "Val_acc:  0.974916666667\n",
      "Loss:  0.176150915953\n",
      "Val_loss:  0.139142434794\n"
     ]
    }
   ],
   "source": [
    "print(\"Acc: \",history.history['acc'][-1])\n",
    "print(\"Val_acc: \",history.history['val_acc'][-1])\n",
    "print(\"Loss: \",history.history['loss'][-1])\n",
    "print(\"Val_loss: \",history.history['val_loss'][-1])"
   ]
  },
  {
   "cell_type": "code",
   "execution_count": 7,
   "metadata": {
    "ExecuteTime": {
     "end_time": "2018-02-28T11:59:14.835506Z",
     "start_time": "2018-02-28T11:59:14.342322Z"
    }
   },
   "outputs": [
    {
     "data": {
      "image/png": "[encoded data removed]",
      "text/plain": [
       "<matplotlib.figure.Figure at 0x7f6055f11d68>"
      ]
     },
     "metadata": {},
     "output_type": "display_data"
    },
    {
     "data": {
      "image/png": "[encoded data removed]",
      "text/plain": [
       "<matplotlib.figure.Figure at 0x7f6054e24358>"
      ]
     },
     "metadata": {},
     "output_type": "display_data"
    }
   ],
   "source": [
    "import matplotlib.pyplot as plt\n",
    "plt.plot(history.history['acc'])\n",
    "\n",
    "plt.plot(history.history['val_acc'])\n",
    "\n",
    "plt.title('model accuracy')\n",
    "plt.ylabel('accuracy')\n",
    "plt.xlabel('epoch')\n",
    "plt.legend(['train', 'validation'], loc='upper left')\n",
    "plt.show()\n",
    "# summarize history for loss\n",
    "plt.plot(history.history['loss'])\n",
    "plt.plot(history.history['val_loss'])\n",
    "plt.title('model loss')\n",
    "plt.ylabel('loss')\n",
    "plt.xlabel('epoch')\n",
    "plt.legend(['train', 'validation'], loc='upper left')\n",
    "plt.show()"
   ]
  },
  {
   "cell_type": "code",
   "execution_count": 8,
   "metadata": {
    "ExecuteTime": {
     "end_time": "2018-02-28T11:59:15.431177Z",
     "start_time": "2018-02-28T11:59:14.837042Z"
    }
   },
   "outputs": [
    {
     "name": "stdout",
     "output_type": "stream",
     "text": [
      "(10000, 10)\n",
      " 9504/10000 [===========================>..] - ETA: 0s[0.14826515891756861, 0.97550000000000003]\n"
     ]
    }
   ],
   "source": [
    "#import numpy as np\n",
    "#Score = reluu.predict(X_test)\n",
    "#print(Score.shape)\n",
    "evl = reluu.evaluate(X_test,y_test,batch_size=32,verbose=1)\n",
    "print(evl)"
   ]
  },
  {
   "cell_type": "code",
   "execution_count": 9,
   "metadata": {
    "ExecuteTime": {
     "end_time": "2018-02-28T11:59:15.435840Z",
     "start_time": "2018-02-28T11:59:15.432799Z"
    }
   },
   "outputs": [
    {
     "name": "stdout",
     "output_type": "stream",
     "text": [
      "9\n"
     ]
    }
   ],
   "source": [
    "#classes = np.argmax(Score[9])\n",
    "#print(classes)"
   ]
  },
  {
   "cell_type": "code",
   "execution_count": 10,
   "metadata": {
    "ExecuteTime": {
     "end_time": "2018-02-28T11:59:15.563708Z",
     "start_time": "2018-02-28T11:59:15.437273Z"
    },
    "collapsed": true
   },
   "outputs": [],
   "source": [
    "from keras import backend as K\n",
    "from keras.utils.generic_utils import get_custom_objects\n",
    "\n",
    "def swish(x):\n",
    "    return x * K.sigmoid(x)\n",
    "\n",
    "get_custom_objects().update({'swish': Activation(swish)})"
   ]
  },
  {
   "cell_type": "code",
   "execution_count": 17,
   "metadata": {
    "ExecuteTime": {
     "end_time": "2018-02-28T12:05:40.217667Z",
     "start_time": "2018-02-28T12:05:40.161291Z"
    },
    "collapsed": true
   },
   "outputs": [],
   "source": [
    "def s_ann_model():\n",
    "    Images = Input(shape=(28,28,1))\n",
    "    flat_n = Flatten()(Images)\n",
    "    dense1 = Dense(100,activation='swish',kernel_initializer='glorot_uniform')(flat_n)\n",
    "    drp1 = Dropout(0.3)(dense1)\n",
    "    dense2 = Dense(200, activation='swish')(drp1)\n",
    "    drp2 = Dropout(0.3)(dense2)\n",
    "    dense3 = Dense(100,activation='swish')(drp2)\n",
    "    drp3 = Dropout(0.3)(dense3)\n",
    "    dense4 = Dense(10,activation='swish')(drp3)\n",
    "    dropout = Dropout(0.3)(dense4)\n",
    "    dense5 = Dense(num_classes,activation='softmax')(dropout)\n",
    "    model = Model(inputs=Images,outputs=dense5)\n",
    "    model.compile(loss='categorical_crossentropy',optimizer='adam', metrics=['accuracy'])\n",
    "    return model"
   ]
  },
  {
   "cell_type": "code",
   "execution_count": 18,
   "metadata": {
    "ExecuteTime": {
     "end_time": "2018-02-28T12:05:42.962753Z",
     "start_time": "2018-02-28T12:05:42.792346Z"
    }
   },
   "outputs": [
    {
     "name": "stdout",
     "output_type": "stream",
     "text": [
      "_________________________________________________________________\n",
      "Layer (type)                 Output Shape              Param #   \n",
      "=================================================================\n",
      "input_3 (InputLayer)         (None, 28, 28, 1)         0         \n",
      "_________________________________________________________________\n",
      "flatten_3 (Flatten)          (None, 784)               0         \n",
      "_________________________________________________________________\n",
      "dense_11 (Dense)             (None, 100)               78500     \n",
      "_________________________________________________________________\n",
      "dropout_6 (Dropout)          (None, 100)               0         \n",
      "_________________________________________________________________\n",
      "dense_12 (Dense)             (None, 200)               20200     \n",
      "_________________________________________________________________\n",
      "dropout_7 (Dropout)          (None, 200)               0         \n",
      "_________________________________________________________________\n",
      "dense_13 (Dense)             (None, 100)               20100     \n",
      "_________________________________________________________________\n",
      "dropout_8 (Dropout)          (None, 100)               0         \n",
      "_________________________________________________________________\n",
      "dense_14 (Dense)             (None, 10)                1010      \n",
      "_________________________________________________________________\n",
      "dropout_9 (Dropout)          (None, 10)                0         \n",
      "_________________________________________________________________\n",
      "dense_15 (Dense)             (None, 10)                110       \n",
      "=================================================================\n",
      "Total params: 119,920\n",
      "Trainable params: 119,920\n",
      "Non-trainable params: 0\n",
      "_________________________________________________________________\n",
      "None\n"
     ]
    }
   ],
   "source": [
    "swish = s_ann_model()\n",
    "print(swish.summary())"
   ]
  },
  {
   "cell_type": "code",
   "execution_count": 19,
   "metadata": {
    "ExecuteTime": {
     "end_time": "2018-02-28T12:10:08.887665Z",
     "start_time": "2018-02-28T12:05:45.774449Z"
    }
   },
   "outputs": [
    {
     "name": "stdout",
     "output_type": "stream",
     "text": [
      "Train on 48000 samples, validate on 12000 samples\n",
      "Epoch 1/100\n",
      "48000/48000 [==============================] - 2s - loss: 0.8550 - acc: 0.7241 - val_loss: 0.2394 - val_acc: 0.9388\n",
      "Epoch 2/100\n",
      "48000/48000 [==============================] - 2s - loss: 0.5016 - acc: 0.8445 - val_loss: 0.1659 - val_acc: 0.9558\n",
      "Epoch 3/100\n",
      "48000/48000 [==============================] - 2s - loss: 0.4163 - acc: 0.8776 - val_loss: 0.1447 - val_acc: 0.9616\n",
      "Epoch 4/100\n",
      "48000/48000 [==============================] - 2s - loss: 0.3673 - acc: 0.8940 - val_loss: 0.1380 - val_acc: 0.9649\n",
      "Epoch 5/100\n",
      "48000/48000 [==============================] - 2s - loss: 0.3345 - acc: 0.9059 - val_loss: 0.1356 - val_acc: 0.9656\n",
      "Epoch 6/100\n",
      "48000/48000 [==============================] - 2s - loss: 0.3014 - acc: 0.9151 - val_loss: 0.1228 - val_acc: 0.9698\n",
      "Epoch 7/100\n",
      "48000/48000 [==============================] - 2s - loss: 0.2765 - acc: 0.9251 - val_loss: 0.1156 - val_acc: 0.9707\n",
      "Epoch 8/100\n",
      "48000/48000 [==============================] - 2s - loss: 0.2568 - acc: 0.9316 - val_loss: 0.1171 - val_acc: 0.9698\n",
      "Epoch 9/100\n",
      "48000/48000 [==============================] - 2s - loss: 0.2453 - acc: 0.9332 - val_loss: 0.1260 - val_acc: 0.9717\n",
      "Epoch 10/100\n",
      "48000/48000 [==============================] - 2s - loss: 0.2310 - acc: 0.9378 - val_loss: 0.1249 - val_acc: 0.9720\n",
      "Epoch 11/100\n",
      "48000/48000 [==============================] - 2s - loss: 0.2226 - acc: 0.9410 - val_loss: 0.1183 - val_acc: 0.9725\n",
      "Epoch 12/100\n",
      "48000/48000 [==============================] - 2s - loss: 0.2115 - acc: 0.9440 - val_loss: 0.1189 - val_acc: 0.9720\n",
      "Epoch 13/100\n",
      "48000/48000 [==============================] - 2s - loss: 0.2032 - acc: 0.9460 - val_loss: 0.1148 - val_acc: 0.9748\n",
      "Epoch 14/100\n",
      "48000/48000 [==============================] - 2s - loss: 0.1992 - acc: 0.9475 - val_loss: 0.1155 - val_acc: 0.9748\n",
      "Epoch 15/100\n",
      "48000/48000 [==============================] - 2s - loss: 0.1886 - acc: 0.9512 - val_loss: 0.1119 - val_acc: 0.9734\n",
      "Epoch 16/100\n",
      "48000/48000 [==============================] - 2s - loss: 0.1828 - acc: 0.9522 - val_loss: 0.1142 - val_acc: 0.9729\n",
      "Epoch 17/100\n",
      "48000/48000 [==============================] - 2s - loss: 0.1774 - acc: 0.9543 - val_loss: 0.1165 - val_acc: 0.9757\n",
      "Epoch 18/100\n",
      "48000/48000 [==============================] - 2s - loss: 0.1698 - acc: 0.9573 - val_loss: 0.1237 - val_acc: 0.9750\n",
      "Epoch 19/100\n",
      "48000/48000 [==============================] - 2s - loss: 0.1711 - acc: 0.9563 - val_loss: 0.1135 - val_acc: 0.9756\n",
      "Epoch 20/100\n",
      "48000/48000 [==============================] - 2s - loss: 0.1617 - acc: 0.9587 - val_loss: 0.1207 - val_acc: 0.9759\n",
      "Epoch 21/100\n",
      "48000/48000 [==============================] - 2s - loss: 0.1625 - acc: 0.9594 - val_loss: 0.1155 - val_acc: 0.9754\n",
      "Epoch 22/100\n",
      "48000/48000 [==============================] - 2s - loss: 0.1510 - acc: 0.9616 - val_loss: 0.1314 - val_acc: 0.9762\n",
      "Epoch 23/100\n",
      "48000/48000 [==============================] - 2s - loss: 0.1519 - acc: 0.9619 - val_loss: 0.1172 - val_acc: 0.9773\n",
      "Epoch 24/100\n",
      "48000/48000 [==============================] - 2s - loss: 0.1461 - acc: 0.9636 - val_loss: 0.1177 - val_acc: 0.9772\n",
      "Epoch 25/100\n",
      "48000/48000 [==============================] - 2s - loss: 0.1419 - acc: 0.9649 - val_loss: 0.1240 - val_acc: 0.9763\n",
      "Epoch 26/100\n",
      "48000/48000 [==============================] - 2s - loss: 0.1377 - acc: 0.9660 - val_loss: 0.1277 - val_acc: 0.9752\n",
      "Epoch 27/100\n",
      "48000/48000 [==============================] - 2s - loss: 0.1412 - acc: 0.9648 - val_loss: 0.1175 - val_acc: 0.9768\n",
      "Epoch 28/100\n",
      "48000/48000 [==============================] - 2s - loss: 0.1392 - acc: 0.9670 - val_loss: 0.1119 - val_acc: 0.9773\n",
      "Epoch 29/100\n",
      "48000/48000 [==============================] - 2s - loss: 0.1305 - acc: 0.9668 - val_loss: 0.1343 - val_acc: 0.9765\n",
      "Epoch 30/100\n",
      "48000/48000 [==============================] - 2s - loss: 0.1324 - acc: 0.9676 - val_loss: 0.1170 - val_acc: 0.9777\n",
      "Epoch 31/100\n",
      "48000/48000 [==============================] - 2s - loss: 0.1222 - acc: 0.9703 - val_loss: 0.1227 - val_acc: 0.9773\n",
      "Epoch 32/100\n",
      "48000/48000 [==============================] - 2s - loss: 0.1284 - acc: 0.9694 - val_loss: 0.1266 - val_acc: 0.9773\n",
      "Epoch 33/100\n",
      "48000/48000 [==============================] - 2s - loss: 0.1282 - acc: 0.9698 - val_loss: 0.1072 - val_acc: 0.9789\n",
      "Epoch 34/100\n",
      "48000/48000 [==============================] - 2s - loss: 0.1258 - acc: 0.9684 - val_loss: 0.1191 - val_acc: 0.9784\n",
      "Epoch 35/100\n",
      "48000/48000 [==============================] - 2s - loss: 0.1184 - acc: 0.9720 - val_loss: 0.1174 - val_acc: 0.9778\n",
      "Epoch 36/100\n",
      "48000/48000 [==============================] - 2s - loss: 0.1171 - acc: 0.9721 - val_loss: 0.1099 - val_acc: 0.9791\n",
      "Epoch 37/100\n",
      "48000/48000 [==============================] - 2s - loss: 0.1193 - acc: 0.9721 - val_loss: 0.1244 - val_acc: 0.9782\n",
      "Epoch 38/100\n",
      "48000/48000 [==============================] - 2s - loss: 0.1183 - acc: 0.9714 - val_loss: 0.1213 - val_acc: 0.9791\n",
      "Epoch 39/100\n",
      "48000/48000 [==============================] - 2s - loss: 0.1103 - acc: 0.9736 - val_loss: 0.1326 - val_acc: 0.9762\n",
      "Epoch 40/100\n",
      "48000/48000 [==============================] - 2s - loss: 0.1128 - acc: 0.9728 - val_loss: 0.1300 - val_acc: 0.9754\n",
      "Epoch 41/100\n",
      "48000/48000 [==============================] - 2s - loss: 0.1098 - acc: 0.9734 - val_loss: 0.1279 - val_acc: 0.9776\n",
      "Epoch 42/100\n",
      "48000/48000 [==============================] - 2s - loss: 0.1117 - acc: 0.9733 - val_loss: 0.1271 - val_acc: 0.9762\n",
      "Epoch 43/100\n",
      "48000/48000 [==============================] - 2s - loss: 0.1120 - acc: 0.9731 - val_loss: 0.1120 - val_acc: 0.9772\n",
      "Epoch 44/100\n",
      "48000/48000 [==============================] - 2s - loss: 0.1079 - acc: 0.9743 - val_loss: 0.1216 - val_acc: 0.9766\n",
      "Epoch 45/100\n",
      "48000/48000 [==============================] - 2s - loss: 0.1076 - acc: 0.9737 - val_loss: 0.1322 - val_acc: 0.9775\n",
      "Epoch 46/100\n",
      "48000/48000 [==============================] - 2s - loss: 0.1015 - acc: 0.9752 - val_loss: 0.1170 - val_acc: 0.9790\n",
      "Epoch 47/100\n",
      "48000/48000 [==============================] - 2s - loss: 0.1045 - acc: 0.9747 - val_loss: 0.1248 - val_acc: 0.9758\n",
      "Epoch 48/100\n",
      "48000/48000 [==============================] - 2s - loss: 0.1015 - acc: 0.9752 - val_loss: 0.1249 - val_acc: 0.9782\n",
      "Epoch 49/100\n",
      "48000/48000 [==============================] - 2s - loss: 0.1007 - acc: 0.9762 - val_loss: 0.1205 - val_acc: 0.9783\n",
      "Epoch 50/100\n",
      "48000/48000 [==============================] - 2s - loss: 0.1024 - acc: 0.9751 - val_loss: 0.1236 - val_acc: 0.9778\n",
      "Epoch 51/100\n",
      "48000/48000 [==============================] - 2s - loss: 0.0981 - acc: 0.9769 - val_loss: 0.1218 - val_acc: 0.9786\n",
      "Epoch 52/100\n",
      "48000/48000 [==============================] - 2s - loss: 0.1004 - acc: 0.9750 - val_loss: 0.1299 - val_acc: 0.9788\n",
      "Epoch 53/100\n",
      "48000/48000 [==============================] - 2s - loss: 0.0981 - acc: 0.9768 - val_loss: 0.1194 - val_acc: 0.9794\n",
      "Epoch 54/100\n",
      "48000/48000 [==============================] - 2s - loss: 0.1014 - acc: 0.9764 - val_loss: 0.1249 - val_acc: 0.9793\n",
      "Epoch 55/100\n",
      "48000/48000 [==============================] - 2s - loss: 0.0988 - acc: 0.9759 - val_loss: 0.1271 - val_acc: 0.9782\n",
      "Epoch 56/100\n",
      "48000/48000 [==============================] - 2s - loss: 0.0936 - acc: 0.9771 - val_loss: 0.1331 - val_acc: 0.9780\n",
      "Epoch 57/100\n",
      "48000/48000 [==============================] - 2s - loss: 0.0944 - acc: 0.9777 - val_loss: 0.1337 - val_acc: 0.9780\n",
      "Epoch 58/100\n",
      "48000/48000 [==============================] - 2s - loss: 0.1012 - acc: 0.9774 - val_loss: 0.1180 - val_acc: 0.9773\n",
      "Epoch 59/100\n",
      "48000/48000 [==============================] - 2s - loss: 0.0911 - acc: 0.9777 - val_loss: 0.1219 - val_acc: 0.9793\n",
      "Epoch 60/100\n",
      "48000/48000 [==============================] - 2s - loss: 0.0991 - acc: 0.9773 - val_loss: 0.1099 - val_acc: 0.9806\n",
      "Epoch 61/100\n",
      "48000/48000 [==============================] - 2s - loss: 0.0947 - acc: 0.9770 - val_loss: 0.1266 - val_acc: 0.9786\n",
      "Epoch 62/100\n",
      "48000/48000 [==============================] - 2s - loss: 0.0917 - acc: 0.9783 - val_loss: 0.1232 - val_acc: 0.9782\n",
      "Epoch 63/100\n",
      "48000/48000 [==============================] - 2s - loss: 0.0924 - acc: 0.9785 - val_loss: 0.1172 - val_acc: 0.9783\n",
      "Epoch 64/100\n"
     ]
    },
    {
     "name": "stdout",
     "output_type": "stream",
     "text": [
      "48000/48000 [==============================] - 2s - loss: 0.0942 - acc: 0.9782 - val_loss: 0.1375 - val_acc: 0.9786\n",
      "Epoch 65/100\n",
      "48000/48000 [==============================] - 2s - loss: 0.0923 - acc: 0.9791 - val_loss: 0.1329 - val_acc: 0.9764\n",
      "Epoch 66/100\n",
      "48000/48000 [==============================] - 2s - loss: 0.0922 - acc: 0.9772 - val_loss: 0.1262 - val_acc: 0.9783\n",
      "Epoch 67/100\n",
      "48000/48000 [==============================] - 2s - loss: 0.0852 - acc: 0.9789 - val_loss: 0.1219 - val_acc: 0.9783\n",
      "Epoch 68/100\n",
      "48000/48000 [==============================] - 2s - loss: 0.0858 - acc: 0.9797 - val_loss: 0.1462 - val_acc: 0.9772\n",
      "Epoch 69/100\n",
      "48000/48000 [==============================] - 2s - loss: 0.0945 - acc: 0.9778 - val_loss: 0.1287 - val_acc: 0.9780\n",
      "Epoch 70/100\n",
      "48000/48000 [==============================] - 2s - loss: 0.0948 - acc: 0.9770 - val_loss: 0.1297 - val_acc: 0.9775\n",
      "Epoch 71/100\n",
      "48000/48000 [==============================] - 2s - loss: 0.0881 - acc: 0.9788 - val_loss: 0.1166 - val_acc: 0.9796\n",
      "Epoch 72/100\n",
      "48000/48000 [==============================] - 2s - loss: 0.0897 - acc: 0.9783 - val_loss: 0.1333 - val_acc: 0.9773\n",
      "Epoch 73/100\n",
      "48000/48000 [==============================] - 2s - loss: 0.0893 - acc: 0.9783 - val_loss: 0.1350 - val_acc: 0.9755\n",
      "Epoch 74/100\n",
      "48000/48000 [==============================] - 2s - loss: 0.0841 - acc: 0.9793 - val_loss: 0.1303 - val_acc: 0.9783\n",
      "Epoch 75/100\n",
      "48000/48000 [==============================] - 2s - loss: 0.0878 - acc: 0.9785 - val_loss: 0.1283 - val_acc: 0.9782\n",
      "Epoch 76/100\n",
      "48000/48000 [==============================] - 2s - loss: 0.0933 - acc: 0.9780 - val_loss: 0.1254 - val_acc: 0.9801\n",
      "Epoch 77/100\n",
      "48000/48000 [==============================] - 2s - loss: 0.0842 - acc: 0.9795 - val_loss: 0.1242 - val_acc: 0.9782\n",
      "Epoch 78/100\n",
      "48000/48000 [==============================] - 2s - loss: 0.0864 - acc: 0.9792 - val_loss: 0.1295 - val_acc: 0.9778\n",
      "Epoch 79/100\n",
      "48000/48000 [==============================] - 2s - loss: 0.0854 - acc: 0.9797 - val_loss: 0.1276 - val_acc: 0.9767\n",
      "Epoch 80/100\n",
      "48000/48000 [==============================] - 2s - loss: 0.0862 - acc: 0.9782 - val_loss: 0.1220 - val_acc: 0.9787\n",
      "Epoch 81/100\n",
      "48000/48000 [==============================] - 2s - loss: 0.0812 - acc: 0.9796 - val_loss: 0.1336 - val_acc: 0.9764\n",
      "Epoch 82/100\n",
      "48000/48000 [==============================] - 2s - loss: 0.0863 - acc: 0.9794 - val_loss: 0.1267 - val_acc: 0.9784\n",
      "Epoch 83/100\n",
      "48000/48000 [==============================] - 2s - loss: 0.0802 - acc: 0.9802 - val_loss: 0.1346 - val_acc: 0.9779\n",
      "Epoch 84/100\n",
      "48000/48000 [==============================] - 2s - loss: 0.0846 - acc: 0.9787 - val_loss: 0.1411 - val_acc: 0.9766\n",
      "Epoch 85/100\n",
      "48000/48000 [==============================] - 2s - loss: 0.0922 - acc: 0.9781 - val_loss: 0.1188 - val_acc: 0.9780\n",
      "Epoch 86/100\n",
      "48000/48000 [==============================] - 2s - loss: 0.0789 - acc: 0.9807 - val_loss: 0.1346 - val_acc: 0.9782\n",
      "Epoch 87/100\n",
      "48000/48000 [==============================] - 2s - loss: 0.0829 - acc: 0.9802 - val_loss: 0.1350 - val_acc: 0.9772\n",
      "Epoch 88/100\n",
      "48000/48000 [==============================] - 2s - loss: 0.0789 - acc: 0.9801 - val_loss: 0.1273 - val_acc: 0.9774\n",
      "Epoch 89/100\n",
      "48000/48000 [==============================] - 2s - loss: 0.0810 - acc: 0.9797 - val_loss: 0.1330 - val_acc: 0.9779\n",
      "Epoch 90/100\n",
      "48000/48000 [==============================] - 2s - loss: 0.0819 - acc: 0.9807 - val_loss: 0.1328 - val_acc: 0.9782\n",
      "Epoch 91/100\n",
      "48000/48000 [==============================] - 2s - loss: 0.0778 - acc: 0.9816 - val_loss: 0.1380 - val_acc: 0.9776\n",
      "Epoch 92/100\n",
      "48000/48000 [==============================] - 2s - loss: 0.0845 - acc: 0.9802 - val_loss: 0.1318 - val_acc: 0.9758\n",
      "Epoch 93/100\n",
      "48000/48000 [==============================] - 2s - loss: 0.0883 - acc: 0.9788 - val_loss: 0.1376 - val_acc: 0.9766\n",
      "Epoch 94/100\n",
      "48000/48000 [==============================] - 2s - loss: 0.0834 - acc: 0.9799 - val_loss: 0.1293 - val_acc: 0.9778\n",
      "Epoch 95/100\n",
      "48000/48000 [==============================] - 2s - loss: 0.0815 - acc: 0.9797 - val_loss: 0.1232 - val_acc: 0.9791\n",
      "Epoch 96/100\n",
      "48000/48000 [==============================] - 2s - loss: 0.0817 - acc: 0.9807 - val_loss: 0.1237 - val_acc: 0.9788\n",
      "Epoch 97/100\n",
      "48000/48000 [==============================] - 2s - loss: 0.0806 - acc: 0.9800 - val_loss: 0.1262 - val_acc: 0.9782\n",
      "Epoch 98/100\n",
      "48000/48000 [==============================] - 2s - loss: 0.0753 - acc: 0.9813 - val_loss: 0.1379 - val_acc: 0.9789\n",
      "Epoch 99/100\n",
      "48000/48000 [==============================] - 2s - loss: 0.0825 - acc: 0.9807 - val_loss: 0.1307 - val_acc: 0.9782\n",
      "Epoch 100/100\n",
      "48000/48000 [==============================] - 2s - loss: 0.0773 - acc: 0.9817 - val_loss: 0.1317 - val_acc: 0.9766\n"
     ]
    }
   ],
   "source": [
    "history = swish.fit(X_train,y_train,validation_split=0.2,epochs=100,batch_size=64)"
   ]
  },
  {
   "cell_type": "code",
   "execution_count": 20,
   "metadata": {
    "ExecuteTime": {
     "end_time": "2018-02-28T12:10:09.038700Z",
     "start_time": "2018-02-28T12:10:09.032870Z"
    }
   },
   "outputs": [
    {
     "name": "stdout",
     "output_type": "stream",
     "text": [
      "Acc:  0.981708333333\n",
      "Val_acc:  0.976583333333\n",
      "Loss:  0.077251359703\n",
      "Val_loss:  0.131722370075\n"
     ]
    }
   ],
   "source": [
    "print(\"Acc: \",history.history['acc'][-1])\n",
    "print(\"Val_acc: \",history.history['val_acc'][-1])\n",
    "print(\"Loss: \",history.history['loss'][-1])\n",
    "print(\"Val_loss: \",history.history['val_loss'][-1])"
   ]
  },
  {
   "cell_type": "code",
   "execution_count": 21,
   "metadata": {
    "ExecuteTime": {
     "end_time": "2018-02-28T12:10:09.458289Z",
     "start_time": "2018-02-28T12:10:09.187769Z"
    }
   },
   "outputs": [
    {
     "data": {
      "image/png": "[encoded data removed]",
      "text/plain": [
       "<matplotlib.figure.Figure at 0x7f6050068320>"
      ]
     },
     "metadata": {},
     "output_type": "display_data"
    },
    {
     "data": {
      "image/png": "[encoded data removed]",
      "text/plain": [
       "<matplotlib.figure.Figure at 0x7f604a41b4e0>"
      ]
     },
     "metadata": {},
     "output_type": "display_data"
    }
   ],
   "source": [
    "import matplotlib.pyplot as plt\n",
    "plt.plot(history.history['acc'])\n",
    "\n",
    "plt.plot(history.history['val_acc'])\n",
    "\n",
    "plt.title('model accuracy')\n",
    "plt.ylabel('accuracy')\n",
    "plt.xlabel('epoch')\n",
    "plt.legend(['train', 'validation'], loc='upper left')\n",
    "plt.show()\n",
    "# summarize history for loss\n",
    "plt.plot(history.history['loss'])\n",
    "plt.plot(history.history['val_loss'])\n",
    "plt.title('model loss')\n",
    "plt.ylabel('loss')\n",
    "plt.xlabel('epoch')\n",
    "plt.legend(['train', 'validation'], loc='upper left')\n",
    "plt.show()"
   ]
  },
  {
   "cell_type": "code",
   "execution_count": 22,
   "metadata": {
    "ExecuteTime": {
     "end_time": "2018-02-28T12:10:09.957688Z",
     "start_time": "2018-02-28T12:10:09.605209Z"
    }
   },
   "outputs": [
    {
     "name": "stdout",
     "output_type": "stream",
     "text": [
      " 8768/10000 [=========================>....] - ETA: 0s[0.12337125824114628, 0.97870000000000001]\n"
     ]
    }
   ],
   "source": [
    "#import numpy as np\n",
    "#Score = swish.predict(X_test)\n",
    "#print(Score.shape)\n",
    "evl = swish.evaluate(X_test,y_test,batch_size=32,verbose=1)\n",
    "print(evl)\n",
    "#classes = np.argmax(Score[9])\n",
    "#print(classes)"
   ]
  }
 ],
 "metadata": {
  "kernelspec": {
   "display_name": "Python 3",
   "language": "python",
   "name": "python3"
  },
  "language_info": {
   "codemirror_mode": {
    "name": "ipython",
    "version": 3
   },
   "file_extension": ".py",
   "mimetype": "text/x-python",
   "name": "python",
   "nbconvert_exporter": "python",
   "pygments_lexer": "ipython3",
   "version": "3.5.4"
  },
  "varInspector": {
   "cols": {
    "lenName": 16,
    "lenType": 16,
    "lenVar": 40
   },
   "kernels_config": {
    "python": {
     "delete_cmd_postfix": "",
     "delete_cmd_prefix": "del ",
     "library": "var_list.py",
     "varRefreshCmd": "print(var_dic_list())"
    },
    "r": {
     "delete_cmd_postfix": ") ",
     "delete_cmd_prefix": "rm(",
     "library": "var_list.r",
     "varRefreshCmd": "cat(var_dic_list()) "
    }
   },
   "types_to_exclude": [
    "module",
    "function",
    "builtin_function_or_method",
    "instance",
    "_Feature"
   ],
   "window_display": false
  }
 },
 "nbformat": 4,
 "nbformat_minor": 2
}
