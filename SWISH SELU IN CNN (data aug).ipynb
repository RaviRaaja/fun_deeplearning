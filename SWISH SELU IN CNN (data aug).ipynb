{
 "cells": [
  {
   "cell_type": "code",
   "execution_count": 1,
   "metadata": {
    "ExecuteTime": {
     "end_time": "2018-03-02T10:18:34.643624Z",
     "start_time": "2018-03-02T10:18:32.173357Z"
    }
   },
   "outputs": [
    {
     "name": "stderr",
     "output_type": "stream",
     "text": [
      "Using TensorFlow backend.\n"
     ]
    }
   ],
   "source": [
    "import pandas as pd\n",
    "import numpy as np\n",
    "import matplotlib.pyplot as plt\n",
    "import os\n",
    "import itertools\n",
    "from keras.datasets import mnist\n",
    "from keras.preprocessing.image import ImageDataGenerator\n",
    "\n",
    "from keras.models import Sequential\n",
    "from keras.layers import Dense, Dropout, Flatten, Activation,BatchNormalization\n",
    "from keras.layers.convolutional import Conv2D, MaxPooling2D\n",
    "\n",
    "from keras.utils.generic_utils import get_custom_objects\n",
    "from keras.optimizers import RMSprop, adam\n",
    "\n",
    "from keras.utils import np_utils, plot_model\n",
    "from keras.callbacks import ReduceLROnPlateau, CSVLogger,TensorBoard, ModelCheckpoint\n",
    "\n",
    "from keras import backend as K\n",
    "\n",
    "from sklearn.model_selection import train_test_split\n",
    "from sklearn.metrics import confusion_matrix"
   ]
  },
  {
   "cell_type": "code",
   "execution_count": 2,
   "metadata": {
    "ExecuteTime": {
     "end_time": "2018-03-02T10:18:40.272267Z",
     "start_time": "2018-03-02T10:18:39.941039Z"
    },
    "collapsed": true
   },
   "outputs": [],
   "source": [
    "(X_train, y_train),(X_test,y_test) = mnist.load_data()\n",
    "\n",
    "X_train = X_train.reshape(X_train.shape[0],28,28,1).astype('float32')\n",
    "X_test = X_test.reshape(X_test.shape[0],28,28,1).astype('float32')\n",
    "\n",
    "y_train = np_utils.to_categorical(y_train)\n",
    "y_test = np_utils.to_categorical(y_test)\n",
    "\n",
    "num_classes = y_test.shape[1]"
   ]
  },
  {
   "cell_type": "code",
   "execution_count": 3,
   "metadata": {
    "ExecuteTime": {
     "end_time": "2018-03-02T10:18:46.926337Z",
     "start_time": "2018-03-02T10:18:46.856261Z"
    },
    "collapsed": true
   },
   "outputs": [],
   "source": [
    "#Normalization\n",
    "X_train = X_train/255.0\n",
    "X_test = X_test/255.0"
   ]
  },
  {
   "cell_type": "code",
   "execution_count": 4,
   "metadata": {
    "ExecuteTime": {
     "end_time": "2018-03-02T10:18:54.473213Z",
     "start_time": "2018-03-02T10:18:54.469600Z"
    },
    "collapsed": true
   },
   "outputs": [],
   "source": [
    "seed = 7"
   ]
  },
  {
   "cell_type": "code",
   "execution_count": 5,
   "metadata": {
    "ExecuteTime": {
     "end_time": "2018-03-02T10:19:02.400577Z",
     "start_time": "2018-03-02T10:19:02.324584Z"
    }
   },
   "outputs": [
    {
     "name": "stdout",
     "output_type": "stream",
     "text": [
      "(48000, 28, 28, 1)\n",
      "(12000, 28, 28, 1)\n",
      "(48000, 10)\n",
      "(10000, 10)\n"
     ]
    }
   ],
   "source": [
    "X_train, X_val, y_train, y_val = train_test_split(X_train,y_train,\n",
    "                                                  test_size=0.2,                    \n",
    "                                                  random_state=seed)\n",
    "print(X_train.shape)\n",
    "print(X_val.shape)\n",
    "print(y_train.shape)\n",
    "print(y_test.shape)"
   ]
  },
  {
   "cell_type": "code",
   "execution_count": 6,
   "metadata": {
    "ExecuteTime": {
     "end_time": "2018-03-02T10:19:14.094234Z",
     "start_time": "2018-03-02T10:19:14.084427Z"
    },
    "collapsed": true
   },
   "outputs": [],
   "source": [
    "class Swish(Activation):\n",
    "    \n",
    "    def __init__(self, activation, **kwargs):\n",
    "        super(Swish, self).__init__(activation, **kwargs)\n",
    "        self.__name__ = 'Swish_s'\n",
    "\n",
    "def swish(x):\n",
    "    return K.sigmoid(x)*x"
   ]
  },
  {
   "cell_type": "code",
   "execution_count": 7,
   "metadata": {
    "ExecuteTime": {
     "end_time": "2018-03-02T10:19:24.975514Z",
     "start_time": "2018-03-02T10:19:24.918144Z"
    },
    "collapsed": true
   },
   "outputs": [],
   "source": [
    "def cnn_model():\n",
    "    model = Sequential()\n",
    "    get_custom_objects().update({'Swish_s': Swish(swish)})\n",
    "    model.add(Conv2D(32,(7,7), input_shape=(28,28,1), kernel_initializer='he_uniform',activation='Swish_s'))\n",
    "    model.add(BatchNormalization())\n",
    "    \n",
    "    model.add(MaxPooling2D(pool_size=(2,2),padding='same'))\n",
    "    \n",
    "    model.add(Conv2D(32,(5,5), kernel_initializer='he_uniform',activation='Swish_s'))\n",
    "    model.add(BatchNormalization())\n",
    "    \n",
    "    model.add(MaxPooling2D(pool_size=(2,2),padding='same'))\n",
    "    \n",
    "    model.add(Conv2D(32,(3,3), kernel_initializer='he_uniform',activation='Swish_s'))\n",
    "    model.add(BatchNormalization())\n",
    "    \n",
    "    model.add(MaxPooling2D(pool_size=(2,2),padding='same'))\n",
    "    \n",
    "    model.add(Flatten())\n",
    "    \n",
    "    model.add(Dense(128, activation='selu',kernel_initializer='he_normal'))\n",
    "    model.add(Dense(10,activation='selu',kernel_initializer='he_normal'))\n",
    "    model.add(Dense(num_classes,activation='softmax'))\n",
    "    \n",
    "    model.compile(loss='categorical_crossentropy', optimizer='adam',metrics=['accuracy'])\n",
    "    return model"
   ]
  },
  {
   "cell_type": "code",
   "execution_count": 8,
   "metadata": {
    "ExecuteTime": {
     "end_time": "2018-03-02T10:19:43.415398Z",
     "start_time": "2018-03-02T10:19:43.074498Z"
    }
   },
   "outputs": [
    {
     "name": "stdout",
     "output_type": "stream",
     "text": [
      "_________________________________________________________________\n",
      "Layer (type)                 Output Shape              Param #   \n",
      "=================================================================\n",
      "conv2d_1 (Conv2D)            (None, 22, 22, 32)        1600      \n",
      "_________________________________________________________________\n",
      "batch_normalization_1 (Batch (None, 22, 22, 32)        128       \n",
      "_________________________________________________________________\n",
      "max_pooling2d_1 (MaxPooling2 (None, 11, 11, 32)        0         \n",
      "_________________________________________________________________\n",
      "conv2d_2 (Conv2D)            (None, 7, 7, 32)          25632     \n",
      "_________________________________________________________________\n",
      "batch_normalization_2 (Batch (None, 7, 7, 32)          128       \n",
      "_________________________________________________________________\n",
      "max_pooling2d_2 (MaxPooling2 (None, 4, 4, 32)          0         \n",
      "_________________________________________________________________\n",
      "conv2d_3 (Conv2D)            (None, 2, 2, 32)          9248      \n",
      "_________________________________________________________________\n",
      "batch_normalization_3 (Batch (None, 2, 2, 32)          128       \n",
      "_________________________________________________________________\n",
      "max_pooling2d_3 (MaxPooling2 (None, 1, 1, 32)          0         \n",
      "_________________________________________________________________\n",
      "flatten_1 (Flatten)          (None, 32)                0         \n",
      "_________________________________________________________________\n",
      "dense_1 (Dense)              (None, 128)               4224      \n",
      "_________________________________________________________________\n",
      "dense_2 (Dense)              (None, 10)                1290      \n",
      "_________________________________________________________________\n",
      "dense_3 (Dense)              (None, 10)                110       \n",
      "=================================================================\n",
      "Total params: 42,488\n",
      "Trainable params: 42,296\n",
      "Non-trainable params: 192\n",
      "_________________________________________________________________\n",
      "None\n"
     ]
    }
   ],
   "source": [
    "cnn_model = cnn_model()\n",
    "print(cnn_model.summary())\n",
    "plot_model(cnn_model, to_file='swish_activation_cnn.png')"
   ]
  },
  {
   "cell_type": "code",
   "execution_count": 9,
   "metadata": {
    "ExecuteTime": {
     "end_time": "2018-03-02T10:20:40.073577Z",
     "start_time": "2018-03-02T10:20:40.051860Z"
    },
    "collapsed": true
   },
   "outputs": [],
   "source": [
    "if not (os.path.isdir(\"logs_data\")):\n",
    "    os.makedirs('logs_data')\n",
    "\n",
    "\n",
    "tb = TensorBoard(log_dir='logs', \n",
    "                 histogram_freq=0.3, \n",
    "                 batch_size=32, \n",
    "                 write_graph=True, \n",
    "                 write_grads=True, \n",
    "                 write_images=True, \n",
    "                 embeddings_freq=0, \n",
    "                 embeddings_layer_names=None, \n",
    "                 embeddings_metadata=None)\n",
    "\n",
    "csv_logger = CSVLogger('log_data_aug.csv', append=True, separator=',')\n",
    "\n",
    "checkpointer = ModelCheckpoint(filepath='swish_activation_conv2d_weights_data_augmnt.hdf5',verbose=1, save_best_only=True)\n",
    "\n",
    "learning_rate_reduction = ReduceLROnPlateau(monitor='val_acc',\n",
    "                                           patience=3,\n",
    "                                           verbose=1,\n",
    "                                           factor=0.2,\n",
    "                                           min_lr=0.001)"
   ]
  },
  {
   "cell_type": "code",
   "execution_count": 15,
   "metadata": {
    "ExecuteTime": {
     "end_time": "2018-03-02T10:33:47.004720Z",
     "start_time": "2018-03-02T10:33:46.999826Z"
    },
    "collapsed": true
   },
   "outputs": [],
   "source": [
    "batch_size = 32\n",
    "epochs = 200"
   ]
  },
  {
   "cell_type": "code",
   "execution_count": 12,
   "metadata": {
    "ExecuteTime": {
     "end_time": "2018-03-02T10:23:54.625000Z",
     "start_time": "2018-03-02T10:23:54.614308Z"
    },
    "collapsed": true
   },
   "outputs": [],
   "source": [
    "train_data_gen = ImageDataGenerator(featurewise_center = True,\n",
    "                                    samplewise_center = False,\n",
    "                                    featurewise_std_normalization = True,\n",
    "                                    samplewise_std_normalization = False,\n",
    "                                    zca_whitening = True,\n",
    "                                    rotation_range = 10,\n",
    "                                    zoom_range = 0.2,\n",
    "                                    width_shift_range = 0.15,\n",
    "                                    height_shift_range = 0.15,\n",
    "                                    horizontal_flip = False,\n",
    "                                    vertical_flip = False)\n",
    "\n",
    "val_data_gen = ImageDataGenerator(featurewise_center = True,\n",
    "                                    featurewise_std_normalization = True)"
   ]
  },
  {
   "cell_type": "code",
   "execution_count": 13,
   "metadata": {
    "ExecuteTime": {
     "end_time": "2018-03-02T10:24:35.568462Z",
     "start_time": "2018-03-02T10:24:34.949721Z"
    }
   },
   "outputs": [
    {
     "name": "stderr",
     "output_type": "stream",
     "text": [
      "/home/stan/anaconda2/envs/tensorflow/lib/python3.5/site-packages/keras/preprocessing/image.py:653: UserWarning: Expected input to be images (as Numpy array) following the data format convention \"channels_last\" (channels on axis 3), i.e. expected either 1, 3 or 4 channels on axis 3. However, it was passed an array with shape (48000, 28, 28, 1) (1 channels).\n",
      "  ' (' + str(x.shape[self.channel_axis]) + ' channels).')\n",
      "/home/stan/anaconda2/envs/tensorflow/lib/python3.5/site-packages/keras/preprocessing/image.py:653: UserWarning: Expected input to be images (as Numpy array) following the data format convention \"channels_last\" (channels on axis 3), i.e. expected either 1, 3 or 4 channels on axis 3. However, it was passed an array with shape (12000, 28, 28, 1) (1 channels).\n",
      "  ' (' + str(x.shape[self.channel_axis]) + ' channels).')\n"
     ]
    }
   ],
   "source": [
    "train_data_gen.fit(X_train)\n",
    "val_data_gen.fit(X_val)"
   ]
  },
  {
   "cell_type": "code",
   "execution_count": 17,
   "metadata": {
    "ExecuteTime": {
     "end_time": "2018-03-02T10:36:51.389079Z",
     "start_time": "2018-03-02T10:36:51.382630Z"
    }
   },
   "outputs": [],
   "source": [
    "train_generator = train_data_gen.flow(X_train,y_train, \n",
    "                               batch_size = batch_size)\n",
    "\n",
    "val_generator  = val_data_gen.flow(X_val,y_val,\n",
    "                              batch_size = batch_size)"
   ]
  },
  {
   "cell_type": "code",
   "execution_count": 22,
   "metadata": {
    "ExecuteTime": {
     "end_time": "2018-03-02T15:35:09.546985Z",
     "start_time": "2018-03-02T10:38:40.022221Z"
    }
   },
   "outputs": [
    {
     "name": "stdout",
     "output_type": "stream",
     "text": [
      "Epoch 1/200\n",
      "1498/1500 [============================>.] - ETA: 0s - loss: 1.0022 - acc: 0.6707Epoch 00000: val_loss improved from inf to 0.49117, saving model to swish_activation_conv2d_weights_data_augmnt.hdf5\n",
      "1500/1500 [==============================] - 88s - loss: 1.0015 - acc: 0.6710 - val_loss: 0.4912 - val_acc: 0.8433\n",
      "Epoch 2/200\n",
      "1498/1500 [============================>.] - ETA: 0s - loss: 0.3562 - acc: 0.8870Epoch 00001: val_loss improved from 0.49117 to 0.20100, saving model to swish_activation_conv2d_weights_data_augmnt.hdf5\n",
      "1500/1500 [==============================] - 87s - loss: 0.3563 - acc: 0.8870 - val_loss: 0.2010 - val_acc: 0.9388\n",
      "Epoch 3/200\n",
      "1498/1500 [============================>.] - ETA: 0s - loss: 0.2593 - acc: 0.9167Epoch 00002: val_loss improved from 0.20100 to 0.13322, saving model to swish_activation_conv2d_weights_data_augmnt.hdf5\n",
      "1500/1500 [==============================] - 85s - loss: 0.2591 - acc: 0.9167 - val_loss: 0.1332 - val_acc: 0.9605\n",
      "Epoch 4/200\n",
      "1499/1500 [============================>.] - ETA: 0s - loss: 0.2116 - acc: 0.9323Epoch 00003: val_loss did not improve\n",
      "1500/1500 [==============================] - 87s - loss: 0.2116 - acc: 0.9323 - val_loss: 0.1547 - val_acc: 0.9535\n",
      "Epoch 5/200\n",
      "1499/1500 [============================>.] - ETA: 0s - loss: 0.1872 - acc: 0.9411Epoch 00004: val_loss improved from 0.13322 to 0.12665, saving model to swish_activation_conv2d_weights_data_augmnt.hdf5\n",
      "1500/1500 [==============================] - 87s - loss: 0.1872 - acc: 0.9411 - val_loss: 0.1266 - val_acc: 0.9605\n",
      "Epoch 6/200\n",
      "1499/1500 [============================>.] - ETA: 0s - loss: 0.1627 - acc: 0.9485Epoch 00005: val_loss did not improve\n",
      "1500/1500 [==============================] - 87s - loss: 0.1627 - acc: 0.9485 - val_loss: 0.1374 - val_acc: 0.9596\n",
      "Epoch 7/200\n",
      "1499/1500 [============================>.] - ETA: 0s - loss: 0.1508 - acc: 0.9516Epoch 00006: val_loss improved from 0.12665 to 0.09830, saving model to swish_activation_conv2d_weights_data_augmnt.hdf5\n",
      "1500/1500 [==============================] - 86s - loss: 0.1511 - acc: 0.9516 - val_loss: 0.0983 - val_acc: 0.9715\n",
      "Epoch 8/200\n",
      "1499/1500 [============================>.] - ETA: 0s - loss: 0.1374 - acc: 0.9560Epoch 00007: val_loss improved from 0.09830 to 0.08229, saving model to swish_activation_conv2d_weights_data_augmnt.hdf5\n",
      "1500/1500 [==============================] - 86s - loss: 0.1373 - acc: 0.9560 - val_loss: 0.0823 - val_acc: 0.9760\n",
      "Epoch 9/200\n",
      "1498/1500 [============================>.] - ETA: 0s - loss: 0.1351 - acc: 0.9573Epoch 00008: val_loss did not improve\n",
      "1500/1500 [==============================] - 86s - loss: 0.1350 - acc: 0.9573 - val_loss: 0.0958 - val_acc: 0.9720\n",
      "Epoch 10/200\n",
      "1499/1500 [============================>.] - ETA: 0s - loss: 0.1245 - acc: 0.9610Epoch 00009: val_loss did not improve\n",
      "1500/1500 [==============================] - 86s - loss: 0.1244 - acc: 0.9611 - val_loss: 0.0907 - val_acc: 0.9735\n",
      "Epoch 11/200\n",
      "1498/1500 [============================>.] - ETA: 0s - loss: 0.1212 - acc: 0.9611Epoch 00010: val_loss did not improve\n",
      "1500/1500 [==============================] - 85s - loss: 0.1212 - acc: 0.9610 - val_loss: 0.0903 - val_acc: 0.9745\n",
      "Epoch 12/200\n",
      "1499/1500 [============================>.] - ETA: 0s - loss: 0.1133 - acc: 0.9637Epoch 00011: val_loss did not improve\n",
      "1500/1500 [==============================] - 87s - loss: 0.1132 - acc: 0.9637 - val_loss: 0.0921 - val_acc: 0.9738\n",
      "Epoch 13/200\n",
      "1499/1500 [============================>.] - ETA: 0s - loss: 0.1081 - acc: 0.9660Epoch 00012: val_loss did not improve\n",
      "1500/1500 [==============================] - 86s - loss: 0.1080 - acc: 0.9660 - val_loss: 0.0947 - val_acc: 0.9724\n",
      "Epoch 14/200\n",
      "1499/1500 [============================>.] - ETA: 0s - loss: 0.1070 - acc: 0.9662Epoch 00013: val_loss did not improve\n",
      "1500/1500 [==============================] - 85s - loss: 0.1070 - acc: 0.9662 - val_loss: 0.0885 - val_acc: 0.9745\n",
      "Epoch 15/200\n",
      "1499/1500 [============================>.] - ETA: 0s - loss: 0.1009 - acc: 0.9677Epoch 00014: val_loss did not improve\n",
      "1500/1500 [==============================] - 85s - loss: 0.1009 - acc: 0.9677 - val_loss: 0.0881 - val_acc: 0.9742\n",
      "Epoch 16/200\n",
      "1498/1500 [============================>.] - ETA: 0s - loss: 0.1006 - acc: 0.9691Epoch 00015: val_loss did not improve\n",
      "1500/1500 [==============================] - 86s - loss: 0.1006 - acc: 0.9691 - val_loss: 0.0943 - val_acc: 0.9712\n",
      "Epoch 17/200\n",
      "1499/1500 [============================>.] - ETA: 0s - loss: 0.1041 - acc: 0.9673Epoch 00016: val_loss did not improve\n",
      "1500/1500 [==============================] - 87s - loss: 0.1042 - acc: 0.9672 - val_loss: 0.1029 - val_acc: 0.9694\n",
      "Epoch 18/200\n",
      "1499/1500 [============================>.] - ETA: 0s - loss: 0.0948 - acc: 0.9693Epoch 00017: val_loss improved from 0.08229 to 0.08010, saving model to swish_activation_conv2d_weights_data_augmnt.hdf5\n",
      "1500/1500 [==============================] - 86s - loss: 0.0949 - acc: 0.9692 - val_loss: 0.0801 - val_acc: 0.9758\n",
      "Epoch 19/200\n",
      "1499/1500 [============================>.] - ETA: 0s - loss: 0.0958 - acc: 0.9697Epoch 00018: val_loss improved from 0.08010 to 0.07211, saving model to swish_activation_conv2d_weights_data_augmnt.hdf5\n",
      "1500/1500 [==============================] - 86s - loss: 0.0958 - acc: 0.9697 - val_loss: 0.0721 - val_acc: 0.9805\n",
      "Epoch 20/200\n",
      "1499/1500 [============================>.] - ETA: 0s - loss: 0.0941 - acc: 0.9702Epoch 00019: val_loss did not improve\n",
      "1500/1500 [==============================] - 85s - loss: 0.0940 - acc: 0.9702 - val_loss: 0.0881 - val_acc: 0.9741\n",
      "Epoch 21/200\n",
      "1499/1500 [============================>.] - ETA: 0s - loss: 0.0939 - acc: 0.9703- ETA: 0s - loss: 0.0940 - acc: 0.9Epoch 00020: val_loss did not improve\n",
      "1500/1500 [==============================] - 87s - loss: 0.0939 - acc: 0.9703 - val_loss: 0.0819 - val_acc: 0.9779\n",
      "Epoch 22/200\n",
      "1499/1500 [============================>.] - ETA: 0s - loss: 0.0916 - acc: 0.9703Epoch 00021: val_loss did not improve\n",
      "1500/1500 [==============================] - 88s - loss: 0.0916 - acc: 0.9703 - val_loss: 0.0825 - val_acc: 0.9767\n",
      "Epoch 23/200\n",
      "1499/1500 [============================>.] - ETA: 0s - loss: 0.0925 - acc: 0.9700Epoch 00022: val_loss did not improve\n",
      "1500/1500 [==============================] - 87s - loss: 0.0925 - acc: 0.9700 - val_loss: 0.1024 - val_acc: 0.9711\n",
      "Epoch 24/200\n",
      "1499/1500 [============================>.] - ETA: 0s - loss: 0.0838 - acc: 0.9734Epoch 00023: val_loss did not improve\n",
      "1500/1500 [==============================] - 87s - loss: 0.0838 - acc: 0.9734 - val_loss: 0.0827 - val_acc: 0.9782\n",
      "Epoch 25/200\n",
      "1499/1500 [============================>.] - ETA: 0s - loss: 0.0881 - acc: 0.9712Epoch 00024: val_loss improved from 0.07211 to 0.06459, saving model to swish_activation_conv2d_weights_data_augmnt.hdf5\n",
      "1500/1500 [==============================] - 86s - loss: 0.0881 - acc: 0.9712 - val_loss: 0.0646 - val_acc: 0.9825\n",
      "Epoch 26/200\n",
      "1498/1500 [============================>.] - ETA: 0s - loss: 0.0841 - acc: 0.9740Epoch 00025: val_loss did not improve\n",
      "1500/1500 [==============================] - 87s - loss: 0.0841 - acc: 0.9740 - val_loss: 0.0769 - val_acc: 0.9771\n",
      "Epoch 27/200\n",
      "1498/1500 [============================>.] - ETA: 0s - loss: 0.0829 - acc: 0.9738Epoch 00026: val_loss did not improve\n",
      "1500/1500 [==============================] - 86s - loss: 0.0828 - acc: 0.9738 - val_loss: 0.0768 - val_acc: 0.9808\n",
      "Epoch 28/200\n",
      "1499/1500 [============================>.] - ETA: 0s - loss: 0.0825 - acc: 0.9739Epoch 00027: val_loss did not improve\n",
      "1500/1500 [==============================] - 86s - loss: 0.0825 - acc: 0.9739 - val_loss: 0.0735 - val_acc: 0.9774\n",
      "Epoch 29/200\n",
      "1499/1500 [============================>.] - ETA: 0s - loss: 0.0818 - acc: 0.9740Epoch 00028: val_loss did not improve\n",
      "1500/1500 [==============================] - 86s - loss: 0.0818 - acc: 0.9740 - val_loss: 0.0849 - val_acc: 0.9770\n",
      "Epoch 30/200\n",
      "1499/1500 [============================>.] - ETA: 0s - loss: 0.0770 - acc: 0.9751Epoch 00029: val_loss did not improve\n",
      "1500/1500 [==============================] - 86s - loss: 0.0770 - acc: 0.9751 - val_loss: 0.0737 - val_acc: 0.9796\n",
      "Epoch 31/200\n"
     ]
    },
    {
     "name": "stdout",
     "output_type": "stream",
     "text": [
      "1499/1500 [============================>.] - ETA: 0s - loss: 0.0843 - acc: 0.9736Epoch 00030: val_loss did not improve\n",
      "1500/1500 [==============================] - 86s - loss: 0.0843 - acc: 0.9736 - val_loss: 0.0741 - val_acc: 0.9808\n",
      "Epoch 32/200\n",
      "1499/1500 [============================>.] - ETA: 0s - loss: 0.0812 - acc: 0.9743Epoch 00031: val_loss improved from 0.06459 to 0.05398, saving model to swish_activation_conv2d_weights_data_augmnt.hdf5\n",
      "1500/1500 [==============================] - 85s - loss: 0.0812 - acc: 0.9742 - val_loss: 0.0540 - val_acc: 0.9858\n",
      "Epoch 33/200\n",
      "1499/1500 [============================>.] - ETA: 0s - loss: 0.0796 - acc: 0.9745Epoch 00032: val_loss did not improve\n",
      "1500/1500 [==============================] - 85s - loss: 0.0796 - acc: 0.9745 - val_loss: 0.0739 - val_acc: 0.9798\n",
      "Epoch 34/200\n",
      "1499/1500 [============================>.] - ETA: 0s - loss: 0.0786 - acc: 0.9753Epoch 00033: val_loss did not improve\n",
      "1500/1500 [==============================] - 86s - loss: 0.0786 - acc: 0.9754 - val_loss: 0.0737 - val_acc: 0.9798\n",
      "Epoch 35/200\n",
      "1499/1500 [============================>.] - ETA: 0s - loss: 0.0782 - acc: 0.9742Epoch 00034: val_loss did not improve\n",
      "1500/1500 [==============================] - 85s - loss: 0.0783 - acc: 0.9742 - val_loss: 0.0651 - val_acc: 0.9815\n",
      "Epoch 36/200\n",
      "1498/1500 [============================>.] - ETA: 0s - loss: 0.0757 - acc: 0.9763Epoch 00035: val_loss did not improve\n",
      "1500/1500 [==============================] - 86s - loss: 0.0757 - acc: 0.9763 - val_loss: 0.0621 - val_acc: 0.9832\n",
      "Epoch 37/200\n",
      "1498/1500 [============================>.] - ETA: 0s - loss: 0.0763 - acc: 0.9754Epoch 00036: val_loss did not improve\n",
      "1500/1500 [==============================] - 86s - loss: 0.0764 - acc: 0.9754 - val_loss: 0.0682 - val_acc: 0.9807\n",
      "Epoch 38/200\n",
      "1499/1500 [============================>.] - ETA: 0s - loss: 0.0791 - acc: 0.9744Epoch 00037: val_loss did not improve\n",
      "1500/1500 [==============================] - 87s - loss: 0.0791 - acc: 0.9744 - val_loss: 0.0716 - val_acc: 0.9805\n",
      "Epoch 39/200\n",
      "1498/1500 [============================>.] - ETA: 0s - loss: 0.0743 - acc: 0.9767Epoch 00038: val_loss did not improve\n",
      "1500/1500 [==============================] - 86s - loss: 0.0743 - acc: 0.9767 - val_loss: 0.0667 - val_acc: 0.9830\n",
      "Epoch 40/200\n",
      "1499/1500 [============================>.] - ETA: 0s - loss: 0.0741 - acc: 0.9762Epoch 00039: val_loss did not improve\n",
      "1500/1500 [==============================] - 86s - loss: 0.0741 - acc: 0.9762 - val_loss: 0.0711 - val_acc: 0.9807\n",
      "Epoch 41/200\n",
      "1499/1500 [============================>.] - ETA: 0s - loss: 0.0717 - acc: 0.9773Epoch 00040: val_loss did not improve\n",
      "1500/1500 [==============================] - 87s - loss: 0.0717 - acc: 0.9772 - val_loss: 0.0658 - val_acc: 0.9823\n",
      "Epoch 42/200\n",
      "1499/1500 [============================>.] - ETA: 0s - loss: 0.0752 - acc: 0.9763Epoch 00041: val_loss did not improve\n",
      "1500/1500 [==============================] - 91s - loss: 0.0751 - acc: 0.9763 - val_loss: 0.0617 - val_acc: 0.9836\n",
      "Epoch 43/200\n",
      "1499/1500 [============================>.] - ETA: 0s - loss: 0.0744 - acc: 0.9760Epoch 00042: val_loss did not improve\n",
      "1500/1500 [==============================] - 90s - loss: 0.0744 - acc: 0.9760 - val_loss: 0.0645 - val_acc: 0.9827\n",
      "Epoch 44/200\n",
      "1498/1500 [============================>.] - ETA: 0s - loss: 0.0734 - acc: 0.9769Epoch 00043: val_loss did not improve\n",
      "1500/1500 [==============================] - 88s - loss: 0.0733 - acc: 0.9769 - val_loss: 0.0641 - val_acc: 0.9838\n",
      "Epoch 45/200\n",
      "1499/1500 [============================>.] - ETA: 0s - loss: 0.0725 - acc: 0.9773Epoch 00044: val_loss did not improve\n",
      "1500/1500 [==============================] - 86s - loss: 0.0725 - acc: 0.9773 - val_loss: 0.0598 - val_acc: 0.9815\n",
      "Epoch 46/200\n",
      "1499/1500 [============================>.] - ETA: 0s - loss: 0.0706 - acc: 0.9779Epoch 00045: val_loss did not improve\n",
      "1500/1500 [==============================] - 85s - loss: 0.0706 - acc: 0.9779 - val_loss: 0.0776 - val_acc: 0.9790\n",
      "Epoch 47/200\n",
      "1498/1500 [============================>.] - ETA: 0s - loss: 0.0691 - acc: 0.9776Epoch 00046: val_loss did not improve\n",
      "1500/1500 [==============================] - 84s - loss: 0.0693 - acc: 0.9775 - val_loss: 0.0646 - val_acc: 0.9818\n",
      "Epoch 48/200\n",
      "1499/1500 [============================>.] - ETA: 0s - loss: 0.0713 - acc: 0.9768Epoch 00047: val_loss did not improve\n",
      "1500/1500 [==============================] - 87s - loss: 0.0712 - acc: 0.9768 - val_loss: 0.0704 - val_acc: 0.9813\n",
      "Epoch 49/200\n",
      "1499/1500 [============================>.] - ETA: 0s - loss: 0.0694 - acc: 0.9778Epoch 00048: val_loss did not improve\n",
      "1500/1500 [==============================] - 84s - loss: 0.0694 - acc: 0.9778 - val_loss: 0.0565 - val_acc: 0.9846\n",
      "Epoch 50/200\n",
      "1499/1500 [============================>.] - ETA: 0s - loss: 0.0682 - acc: 0.9782- ETA: 1s - Epoch 00049: val_loss did not improve\n",
      "1500/1500 [==============================] - 85s - loss: 0.0682 - acc: 0.9782 - val_loss: 0.0574 - val_acc: 0.9827\n",
      "Epoch 51/200\n",
      "1498/1500 [============================>.] - ETA: 0s - loss: 0.0666 - acc: 0.9778Epoch 00050: val_loss did not improve\n",
      "1500/1500 [==============================] - 84s - loss: 0.0666 - acc: 0.9778 - val_loss: 0.0556 - val_acc: 0.9865\n",
      "Epoch 52/200\n",
      "1499/1500 [============================>.] - ETA: 0s - loss: 0.0673 - acc: 0.9786Epoch 00051: val_loss did not improve\n",
      "1500/1500 [==============================] - 86s - loss: 0.0672 - acc: 0.9786 - val_loss: 0.0622 - val_acc: 0.9834\n",
      "Epoch 53/200\n",
      "1499/1500 [============================>.] - ETA: 0s - loss: 0.0667 - acc: 0.9789Epoch 00052: val_loss did not improve\n",
      "1500/1500 [==============================] - 87s - loss: 0.0667 - acc: 0.9789 - val_loss: 0.0564 - val_acc: 0.9850\n",
      "Epoch 54/200\n",
      "1499/1500 [============================>.] - ETA: 0s - loss: 0.0684 - acc: 0.9787Epoch 00053: val_loss did not improve\n",
      "1500/1500 [==============================] - 84s - loss: 0.0684 - acc: 0.9787 - val_loss: 0.0575 - val_acc: 0.9840\n",
      "Epoch 55/200\n",
      "1499/1500 [============================>.] - ETA: 0s - loss: 0.0676 - acc: 0.9784Epoch 00054: val_loss improved from 0.05398 to 0.05309, saving model to swish_activation_conv2d_weights_data_augmnt.hdf5\n",
      "1500/1500 [==============================] - 85s - loss: 0.0676 - acc: 0.9784 - val_loss: 0.0531 - val_acc: 0.9855\n",
      "Epoch 56/200\n",
      "1499/1500 [============================>.] - ETA: 0s - loss: 0.0643 - acc: 0.9798Epoch 00055: val_loss did not improve\n",
      "1500/1500 [==============================] - 87s - loss: 0.0643 - acc: 0.9798 - val_loss: 0.0583 - val_acc: 0.9850\n",
      "Epoch 57/200\n",
      "1499/1500 [============================>.] - ETA: 0s - loss: 0.0662 - acc: 0.9797Epoch 00056: val_loss did not improve\n",
      "1500/1500 [==============================] - 89s - loss: 0.0663 - acc: 0.9797 - val_loss: 0.0584 - val_acc: 0.9843\n",
      "Epoch 58/200\n",
      "1499/1500 [============================>.] - ETA: 0s - loss: 0.0646 - acc: 0.9796Epoch 00057: val_loss improved from 0.05309 to 0.05167, saving model to swish_activation_conv2d_weights_data_augmnt.hdf5\n",
      "1500/1500 [==============================] - 87s - loss: 0.0645 - acc: 0.9796 - val_loss: 0.0517 - val_acc: 0.9858\n",
      "Epoch 59/200\n",
      "1499/1500 [============================>.] - ETA: 0s - loss: 0.0673 - acc: 0.9788Epoch 00058: val_loss did not improve\n",
      "1500/1500 [==============================] - 87s - loss: 0.0673 - acc: 0.9788 - val_loss: 0.0541 - val_acc: 0.9854\n",
      "Epoch 60/200\n",
      "1499/1500 [============================>.] - ETA: 0s - loss: 0.0641 - acc: 0.9798Epoch 00059: val_loss did not improve\n",
      "1500/1500 [==============================] - 86s - loss: 0.0643 - acc: 0.9798 - val_loss: 0.0626 - val_acc: 0.9835\n",
      "Epoch 61/200\n",
      "1498/1500 [============================>.] - ETA: 0s - loss: 0.0621 - acc: 0.9796Epoch 00060: val_loss did not improve\n",
      "1500/1500 [==============================] - 86s - loss: 0.0622 - acc: 0.9796 - val_loss: 0.0687 - val_acc: 0.9816\n",
      "Epoch 62/200\n",
      "1499/1500 [============================>.] - ETA: 0s - loss: 0.0662 - acc: 0.9787Epoch 00061: val_loss did not improve\n",
      "1500/1500 [==============================] - 87s - loss: 0.0664 - acc: 0.9787 - val_loss: 0.0552 - val_acc: 0.9842\n",
      "Epoch 63/200\n"
     ]
    },
    {
     "name": "stdout",
     "output_type": "stream",
     "text": [
      "1499/1500 [============================>.] - ETA: 0s - loss: 0.0650 - acc: 0.9799Epoch 00062: val_loss improved from 0.05167 to 0.04691, saving model to swish_activation_conv2d_weights_data_augmnt.hdf5\n",
      "1500/1500 [==============================] - 88s - loss: 0.0650 - acc: 0.9799 - val_loss: 0.0469 - val_acc: 0.9879\n",
      "Epoch 64/200\n",
      "1499/1500 [============================>.] - ETA: 0s - loss: 0.0648 - acc: 0.9792Epoch 00063: val_loss did not improve\n",
      "1500/1500 [==============================] - 87s - loss: 0.0648 - acc: 0.9792 - val_loss: 0.0606 - val_acc: 0.9853\n",
      "Epoch 65/200\n",
      "1499/1500 [============================>.] - ETA: 0s - loss: 0.0653 - acc: 0.9795Epoch 00064: val_loss did not improve\n",
      "1500/1500 [==============================] - 85s - loss: 0.0653 - acc: 0.9795 - val_loss: 0.0599 - val_acc: 0.9848\n",
      "Epoch 66/200\n",
      "1499/1500 [============================>.] - ETA: 0s - loss: 0.0652 - acc: 0.9789Epoch 00065: val_loss did not improve\n",
      "1500/1500 [==============================] - 84s - loss: 0.0652 - acc: 0.9789 - val_loss: 0.0591 - val_acc: 0.9836\n",
      "Epoch 67/200\n",
      "1499/1500 [============================>.] - ETA: 0s - loss: 0.0621 - acc: 0.9801Epoch 00066: val_loss did not improve\n",
      "1500/1500 [==============================] - 85s - loss: 0.0622 - acc: 0.9801 - val_loss: 0.0535 - val_acc: 0.9851\n",
      "Epoch 68/200\n",
      "1499/1500 [============================>.] - ETA: 0s - loss: 0.0611 - acc: 0.9807Epoch 00067: val_loss did not improve\n",
      "1500/1500 [==============================] - 86s - loss: 0.0611 - acc: 0.9807 - val_loss: 0.0678 - val_acc: 0.9832\n",
      "Epoch 69/200\n",
      "1498/1500 [============================>.] - ETA: 0s - loss: 0.0638 - acc: 0.9798Epoch 00068: val_loss did not improve\n",
      "1500/1500 [==============================] - 85s - loss: 0.0638 - acc: 0.9799 - val_loss: 0.0581 - val_acc: 0.9837\n",
      "Epoch 70/200\n",
      "1499/1500 [============================>.] - ETA: 0s - loss: 0.0622 - acc: 0.9799Epoch 00069: val_loss did not improve\n",
      "1500/1500 [==============================] - 87s - loss: 0.0622 - acc: 0.9799 - val_loss: 0.0741 - val_acc: 0.9807\n",
      "Epoch 71/200\n",
      "1499/1500 [============================>.] - ETA: 0s - loss: 0.0664 - acc: 0.9797Epoch 00070: val_loss did not improve\n",
      "1500/1500 [==============================] - 86s - loss: 0.0665 - acc: 0.9796 - val_loss: 0.0502 - val_acc: 0.9871\n",
      "Epoch 72/200\n",
      "1499/1500 [============================>.] - ETA: 0s - loss: 0.0612 - acc: 0.9811Epoch 00071: val_loss did not improve\n",
      "1500/1500 [==============================] - 120s - loss: 0.0612 - acc: 0.9811 - val_loss: 0.0570 - val_acc: 0.9853\n",
      "Epoch 73/200\n",
      "1498/1500 [============================>.] - ETA: 0s - loss: 0.0637 - acc: 0.9797Epoch 00072: val_loss did not improve\n",
      "1500/1500 [==============================] - 88s - loss: 0.0636 - acc: 0.9797 - val_loss: 0.0562 - val_acc: 0.9849\n",
      "Epoch 74/200\n",
      "1498/1500 [============================>.] - ETA: 0s - loss: 0.0641 - acc: 0.9793Epoch 00073: val_loss did not improve\n",
      "1500/1500 [==============================] - 87s - loss: 0.0641 - acc: 0.9794 - val_loss: 0.0490 - val_acc: 0.9858\n",
      "Epoch 75/200\n",
      "1499/1500 [============================>.] - ETA: 0s - loss: 0.0606 - acc: 0.9807Epoch 00074: val_loss did not improve\n",
      "1500/1500 [==============================] - 85s - loss: 0.0606 - acc: 0.9806 - val_loss: 0.0570 - val_acc: 0.9840\n",
      "Epoch 76/200\n",
      "1498/1500 [============================>.] - ETA: 0s - loss: 0.0621 - acc: 0.9801Epoch 00075: val_loss did not improve\n",
      "1500/1500 [==============================] - 86s - loss: 0.0621 - acc: 0.9800 - val_loss: 0.0512 - val_acc: 0.9861\n",
      "Epoch 77/200\n",
      "1498/1500 [============================>.] - ETA: 0s - loss: 0.0597 - acc: 0.9805Epoch 00076: val_loss did not improve\n",
      "1500/1500 [==============================] - 86s - loss: 0.0597 - acc: 0.9805 - val_loss: 0.0577 - val_acc: 0.9844\n",
      "Epoch 78/200\n",
      "1499/1500 [============================>.] - ETA: 0s - loss: 0.0604 - acc: 0.9816- ETEpoch 00077: val_loss did not improve\n",
      "1500/1500 [==============================] - 86s - loss: 0.0604 - acc: 0.9816 - val_loss: 0.0513 - val_acc: 0.9859\n",
      "Epoch 79/200\n",
      "1499/1500 [============================>.] - ETA: 0s - loss: 0.0576 - acc: 0.9820Epoch 00078: val_loss did not improve\n",
      "1500/1500 [==============================] - 87s - loss: 0.0577 - acc: 0.9820 - val_loss: 0.0558 - val_acc: 0.9848\n",
      "Epoch 80/200\n",
      "1498/1500 [============================>.] - ETA: 0s - loss: 0.0603 - acc: 0.9810Epoch 00079: val_loss did not improve\n",
      "1500/1500 [==============================] - 85s - loss: 0.0603 - acc: 0.9809 - val_loss: 0.0584 - val_acc: 0.9847\n",
      "Epoch 81/200\n",
      "1499/1500 [============================>.] - ETA: 0s - loss: 0.0594 - acc: 0.9814Epoch 00080: val_loss did not improve\n",
      "1500/1500 [==============================] - 85s - loss: 0.0594 - acc: 0.9813 - val_loss: 0.0528 - val_acc: 0.9863\n",
      "Epoch 82/200\n",
      "1499/1500 [============================>.] - ETA: 0s - loss: 0.0594 - acc: 0.9814Epoch 00081: val_loss did not improve\n",
      "1500/1500 [==============================] - 85s - loss: 0.0595 - acc: 0.9814 - val_loss: 0.0596 - val_acc: 0.9846\n",
      "Epoch 83/200\n",
      "1499/1500 [============================>.] - ETA: 0s - loss: 0.0595 - acc: 0.9813Epoch 00082: val_loss did not improve\n",
      "1500/1500 [==============================] - 86s - loss: 0.0594 - acc: 0.9813 - val_loss: 0.0564 - val_acc: 0.9853\n",
      "Epoch 84/200\n",
      "1499/1500 [============================>.] - ETA: 0s - loss: 0.0617 - acc: 0.9805Epoch 00083: val_loss did not improve\n",
      "1500/1500 [==============================] - 86s - loss: 0.0616 - acc: 0.9805 - val_loss: 0.0572 - val_acc: 0.9859\n",
      "Epoch 85/200\n",
      "1499/1500 [============================>.] - ETA: 0s - loss: 0.0571 - acc: 0.9819Epoch 00084: val_loss did not improve\n",
      "1500/1500 [==============================] - 86s - loss: 0.0571 - acc: 0.9820 - val_loss: 0.0548 - val_acc: 0.9867\n",
      "Epoch 86/200\n",
      "1499/1500 [============================>.] - ETA: 0s - loss: 0.0594 - acc: 0.9814- ETA: 0s - loss: 0.0594 - acc: 0.981Epoch 00085: val_loss improved from 0.04691 to 0.04405, saving model to swish_activation_conv2d_weights_data_augmnt.hdf5\n",
      "1500/1500 [==============================] - 86s - loss: 0.0595 - acc: 0.9814 - val_loss: 0.0441 - val_acc: 0.9876\n",
      "Epoch 87/200\n",
      "1499/1500 [============================>.] - ETA: 0s - loss: 0.0564 - acc: 0.9825Epoch 00086: val_loss did not improve\n",
      "1500/1500 [==============================] - 86s - loss: 0.0564 - acc: 0.9825 - val_loss: 0.0585 - val_acc: 0.9865\n",
      "Epoch 88/200\n",
      "1499/1500 [============================>.] - ETA: 0s - loss: 0.0571 - acc: 0.9820Epoch 00087: val_loss did not improve\n",
      "1500/1500 [==============================] - 86s - loss: 0.0571 - acc: 0.9820 - val_loss: 0.0562 - val_acc: 0.9866\n",
      "Epoch 89/200\n",
      "1499/1500 [============================>.] - ETA: 0s - loss: 0.0585 - acc: 0.9814Epoch 00088: val_loss did not improve\n",
      "1500/1500 [==============================] - 87s - loss: 0.0585 - acc: 0.9814 - val_loss: 0.0543 - val_acc: 0.9856\n",
      "Epoch 90/200\n",
      "1498/1500 [============================>.] - ETA: 0s - loss: 0.0586 - acc: 0.9818Epoch 00089: val_loss did not improve\n",
      "1500/1500 [==============================] - 88s - loss: 0.0586 - acc: 0.9818 - val_loss: 0.0454 - val_acc: 0.9887\n",
      "Epoch 91/200\n",
      "1498/1500 [============================>.] - ETA: 0s - loss: 0.0590 - acc: 0.9810Epoch 00090: val_loss did not improve\n",
      "1500/1500 [==============================] - 87s - loss: 0.0591 - acc: 0.9809 - val_loss: 0.0521 - val_acc: 0.9862\n",
      "Epoch 92/200\n",
      "1499/1500 [============================>.] - ETA: 0s - loss: 0.0591 - acc: 0.9812Epoch 00091: val_loss did not improve\n",
      "1500/1500 [==============================] - 87s - loss: 0.0592 - acc: 0.9812 - val_loss: 0.0591 - val_acc: 0.9853\n",
      "Epoch 93/200\n",
      "1499/1500 [============================>.] - ETA: 0s - loss: 0.0574 - acc: 0.9820Epoch 00092: val_loss did not improve\n",
      "1500/1500 [==============================] - 86s - loss: 0.0574 - acc: 0.9820 - val_loss: 0.0466 - val_acc: 0.9870\n",
      "Epoch 94/200\n",
      "1498/1500 [============================>.] - ETA: 0s - loss: 0.0570 - acc: 0.9817Epoch 00093: val_loss did not improve\n",
      "1500/1500 [==============================] - 85s - loss: 0.0570 - acc: 0.9817 - val_loss: 0.0493 - val_acc: 0.9868\n",
      "Epoch 95/200\n"
     ]
    },
    {
     "name": "stdout",
     "output_type": "stream",
     "text": [
      "1499/1500 [============================>.] - ETA: 0s - loss: 0.0593 - acc: 0.9822Epoch 00094: val_loss did not improve\n",
      "1500/1500 [==============================] - 85s - loss: 0.0593 - acc: 0.9822 - val_loss: 0.0571 - val_acc: 0.9846\n",
      "Epoch 96/200\n",
      "1499/1500 [============================>.] - ETA: 0s - loss: 0.0582 - acc: 0.9819Epoch 00095: val_loss did not improve\n",
      "1500/1500 [==============================] - 85s - loss: 0.0582 - acc: 0.9819 - val_loss: 0.0515 - val_acc: 0.9861\n",
      "Epoch 97/200\n",
      "1499/1500 [============================>.] - ETA: 0s - loss: 0.0543 - acc: 0.9824Epoch 00096: val_loss did not improve\n",
      "1500/1500 [==============================] - 85s - loss: 0.0543 - acc: 0.9824 - val_loss: 0.0470 - val_acc: 0.9878\n",
      "Epoch 98/200\n",
      "1499/1500 [============================>.] - ETA: 0s - loss: 0.0580 - acc: 0.9821Epoch 00097: val_loss did not improve\n",
      "1500/1500 [==============================] - 85s - loss: 0.0581 - acc: 0.9821 - val_loss: 0.0519 - val_acc: 0.9860\n",
      "Epoch 99/200\n",
      "1499/1500 [============================>.] - ETA: 0s - loss: 0.0560 - acc: 0.9821Epoch 00098: val_loss did not improve\n",
      "1500/1500 [==============================] - 85s - loss: 0.0560 - acc: 0.9821 - val_loss: 0.0495 - val_acc: 0.9866\n",
      "Epoch 100/200\n",
      "1499/1500 [============================>.] - ETA: 0s - loss: 0.0544 - acc: 0.9832Epoch 00099: val_loss did not improve\n",
      "1500/1500 [==============================] - 85s - loss: 0.0544 - acc: 0.9832 - val_loss: 0.0595 - val_acc: 0.9852\n",
      "Epoch 101/200\n",
      "1499/1500 [============================>.] - ETA: 0s - loss: 0.0555 - acc: 0.9826Epoch 00100: val_loss did not improve\n",
      "1500/1500 [==============================] - 85s - loss: 0.0555 - acc: 0.9826 - val_loss: 0.0598 - val_acc: 0.9838\n",
      "Epoch 102/200\n",
      "1499/1500 [============================>.] - ETA: 0s - loss: 0.0541 - acc: 0.9828Epoch 00101: val_loss did not improve\n",
      "1500/1500 [==============================] - 85s - loss: 0.0541 - acc: 0.9828 - val_loss: 0.0545 - val_acc: 0.9858\n",
      "Epoch 103/200\n",
      "1498/1500 [============================>.] - ETA: 0s - loss: 0.0563 - acc: 0.9817Epoch 00102: val_loss did not improve\n",
      "1500/1500 [==============================] - 85s - loss: 0.0562 - acc: 0.9817 - val_loss: 0.0526 - val_acc: 0.9858\n",
      "Epoch 104/200\n",
      "1499/1500 [============================>.] - ETA: 0s - loss: 0.0568 - acc: 0.9824Epoch 00103: val_loss did not improve\n",
      "1500/1500 [==============================] - 87s - loss: 0.0568 - acc: 0.9824 - val_loss: 0.0632 - val_acc: 0.9827\n",
      "Epoch 105/200\n",
      "1499/1500 [============================>.] - ETA: 0s - loss: 0.0565 - acc: 0.9819Epoch 00104: val_loss did not improve\n",
      "1500/1500 [==============================] - 85s - loss: 0.0565 - acc: 0.9820 - val_loss: 0.0525 - val_acc: 0.9872\n",
      "Epoch 106/200\n",
      "1499/1500 [============================>.] - ETA: 0s - loss: 0.0562 - acc: 0.9818Epoch 00105: val_loss did not improve\n",
      "1500/1500 [==============================] - 85s - loss: 0.0562 - acc: 0.9819 - val_loss: 0.0486 - val_acc: 0.9864\n",
      "Epoch 107/200\n",
      "1499/1500 [============================>.] - ETA: 0s - loss: 0.0552 - acc: 0.9826Epoch 00106: val_loss did not improve\n",
      "1500/1500 [==============================] - 175s - loss: 0.0551 - acc: 0.9826 - val_loss: 0.0495 - val_acc: 0.9872\n",
      "Epoch 108/200\n",
      "1499/1500 [============================>.] - ETA: 0s - loss: 0.0555 - acc: 0.9822Epoch 00107: val_loss did not improve\n",
      "1500/1500 [==============================] - 330s - loss: 0.0554 - acc: 0.9823 - val_loss: 0.0551 - val_acc: 0.9862\n",
      "Epoch 109/200\n",
      "1499/1500 [============================>.] - ETA: 0s - loss: 0.0563 - acc: 0.9814Epoch 00108: val_loss did not improve\n",
      "1500/1500 [==============================] - 280s - loss: 0.0563 - acc: 0.9814 - val_loss: 0.0522 - val_acc: 0.9862\n",
      "Epoch 110/200\n",
      "1499/1500 [============================>.] - ETA: 0s - loss: 0.0553 - acc: 0.9824Epoch 00109: val_loss did not improve\n",
      "1500/1500 [==============================] - 87s - loss: 0.0553 - acc: 0.9824 - val_loss: 0.0570 - val_acc: 0.9851\n",
      "Epoch 111/200\n",
      "1498/1500 [============================>.] - ETA: 0s - loss: 0.0548 - acc: 0.9823Epoch 00110: val_loss did not improve\n",
      "1500/1500 [==============================] - 85s - loss: 0.0548 - acc: 0.9823 - val_loss: 0.0490 - val_acc: 0.9865\n",
      "Epoch 112/200\n",
      "1499/1500 [============================>.] - ETA: 0s - loss: 0.0550 - acc: 0.9825Epoch 00111: val_loss did not improve\n",
      "1500/1500 [==============================] - 88s - loss: 0.0550 - acc: 0.9825 - val_loss: 0.0508 - val_acc: 0.9875\n",
      "Epoch 113/200\n",
      "1499/1500 [============================>.] - ETA: 0s - loss: 0.0555 - acc: 0.9822Epoch 00112: val_loss did not improve\n",
      "1500/1500 [==============================] - 86s - loss: 0.0555 - acc: 0.9823 - val_loss: 0.0464 - val_acc: 0.9888\n",
      "Epoch 114/200\n",
      "1499/1500 [============================>.] - ETA: 0s - loss: 0.0577 - acc: 0.9814Epoch 00113: val_loss did not improve\n",
      "1500/1500 [==============================] - 87s - loss: 0.0576 - acc: 0.9814 - val_loss: 0.0541 - val_acc: 0.9871\n",
      "Epoch 115/200\n",
      "1499/1500 [============================>.] - ETA: 0s - loss: 0.0532 - acc: 0.9829Epoch 00114: val_loss did not improve\n",
      "1500/1500 [==============================] - 86s - loss: 0.0532 - acc: 0.9829 - val_loss: 0.0526 - val_acc: 0.9862\n",
      "Epoch 116/200\n",
      "1499/1500 [============================>.] - ETA: 0s - loss: 0.0559 - acc: 0.9819Epoch 00115: val_loss did not improve\n",
      "1500/1500 [==============================] - 85s - loss: 0.0558 - acc: 0.9819 - val_loss: 0.0491 - val_acc: 0.9865\n",
      "Epoch 117/200\n",
      "1498/1500 [============================>.] - ETA: 0s - loss: 0.0536 - acc: 0.9829Epoch 00116: val_loss did not improve\n",
      "1500/1500 [==============================] - 85s - loss: 0.0535 - acc: 0.9829 - val_loss: 0.0461 - val_acc: 0.9890\n",
      "Epoch 118/200\n",
      "1499/1500 [============================>.] - ETA: 0s - loss: 0.0527 - acc: 0.9827Epoch 00117: val_loss did not improve\n",
      "1500/1500 [==============================] - 85s - loss: 0.0527 - acc: 0.9827 - val_loss: 0.0497 - val_acc: 0.9866\n",
      "Epoch 119/200\n",
      "1499/1500 [============================>.] - ETA: 0s - loss: 0.0548 - acc: 0.9831Epoch 00118: val_loss did not improve\n",
      "1500/1500 [==============================] - 85s - loss: 0.0548 - acc: 0.9831 - val_loss: 0.0548 - val_acc: 0.9858\n",
      "Epoch 120/200\n",
      "1499/1500 [============================>.] - ETA: 0s - loss: 0.0523 - acc: 0.9827Epoch 00119: val_loss did not improve\n",
      "1500/1500 [==============================] - 86s - loss: 0.0523 - acc: 0.9827 - val_loss: 0.0504 - val_acc: 0.9876\n",
      "Epoch 121/200\n",
      "1499/1500 [============================>.] - ETA: 0s - loss: 0.0537 - acc: 0.9834Epoch 00120: val_loss did not improve\n",
      "1500/1500 [==============================] - 85s - loss: 0.0537 - acc: 0.9834 - val_loss: 0.0567 - val_acc: 0.9865\n",
      "Epoch 122/200\n",
      "1499/1500 [============================>.] - ETA: 0s - loss: 0.0518 - acc: 0.9833Epoch 00121: val_loss did not improve\n",
      "1500/1500 [==============================] - 87s - loss: 0.0518 - acc: 0.9833 - val_loss: 0.0569 - val_acc: 0.9868\n",
      "Epoch 123/200\n",
      "1499/1500 [============================>.] - ETA: 0s - loss: 0.0540 - acc: 0.9826Epoch 00122: val_loss did not improve\n",
      "1500/1500 [==============================] - 86s - loss: 0.0540 - acc: 0.9826 - val_loss: 0.0552 - val_acc: 0.9852\n",
      "Epoch 124/200\n",
      "1499/1500 [============================>.] - ETA: 0s - loss: 0.0521 - acc: 0.9832Epoch 00123: val_loss did not improve\n",
      "1500/1500 [==============================] - 85s - loss: 0.0521 - acc: 0.9832 - val_loss: 0.0576 - val_acc: 0.9850\n",
      "Epoch 125/200\n",
      "1498/1500 [============================>.] - ETA: 0s - loss: 0.0526 - acc: 0.9837Epoch 00124: val_loss did not improve\n",
      "1500/1500 [==============================] - 85s - loss: 0.0525 - acc: 0.9837 - val_loss: 0.0500 - val_acc: 0.9873\n",
      "Epoch 126/200\n",
      "1499/1500 [============================>.] - ETA: 0s - loss: 0.0550 - acc: 0.9828Epoch 00125: val_loss did not improve\n",
      "1500/1500 [==============================] - 86s - loss: 0.0550 - acc: 0.9828 - val_loss: 0.0443 - val_acc: 0.9888\n",
      "Epoch 127/200\n",
      "1499/1500 [============================>.] - ETA: 0s - loss: 0.0518 - acc: 0.9837Epoch 00126: val_loss did not improve\n",
      "1500/1500 [==============================] - 85s - loss: 0.0518 - acc: 0.9837 - val_loss: 0.0466 - val_acc: 0.9879\n",
      "Epoch 128/200\n"
     ]
    },
    {
     "name": "stdout",
     "output_type": "stream",
     "text": [
      "1499/1500 [============================>.] - ETA: 0s - loss: 0.0545 - acc: 0.9834Epoch 00127: val_loss did not improve\n",
      "1500/1500 [==============================] - 84s - loss: 0.0544 - acc: 0.9834 - val_loss: 0.0540 - val_acc: 0.9858\n",
      "Epoch 129/200\n",
      "1499/1500 [============================>.] - ETA: 0s - loss: 0.0523 - acc: 0.9832Epoch 00128: val_loss did not improve\n",
      "1500/1500 [==============================] - 83s - loss: 0.0523 - acc: 0.9832 - val_loss: 0.0459 - val_acc: 0.9885\n",
      "Epoch 130/200\n",
      "1499/1500 [============================>.] - ETA: 0s - loss: 0.0510 - acc: 0.9839Epoch 00129: val_loss did not improve\n",
      "1500/1500 [==============================] - 84s - loss: 0.0510 - acc: 0.9839 - val_loss: 0.0551 - val_acc: 0.9860\n",
      "Epoch 131/200\n",
      "1499/1500 [============================>.] - ETA: 0s - loss: 0.0532 - acc: 0.9836Epoch 00130: val_loss did not improve\n",
      "1500/1500 [==============================] - 85s - loss: 0.0532 - acc: 0.9836 - val_loss: 0.0445 - val_acc: 0.9882\n",
      "Epoch 132/200\n",
      "1499/1500 [============================>.] - ETA: 0s - loss: 0.0535 - acc: 0.9833Epoch 00131: val_loss did not improve\n",
      "1500/1500 [==============================] - 88s - loss: 0.0536 - acc: 0.9833 - val_loss: 0.0555 - val_acc: 0.9861\n",
      "Epoch 133/200\n",
      "1499/1500 [============================>.] - ETA: 0s - loss: 0.0524 - acc: 0.9833Epoch 00132: val_loss did not improve\n",
      "1500/1500 [==============================] - 85s - loss: 0.0524 - acc: 0.9833 - val_loss: 0.0487 - val_acc: 0.9871\n",
      "Epoch 134/200\n",
      "1499/1500 [============================>.] - ETA: 0s - loss: 0.0537 - acc: 0.9829Epoch 00133: val_loss did not improve\n",
      "1500/1500 [==============================] - 86s - loss: 0.0537 - acc: 0.9829 - val_loss: 0.0532 - val_acc: 0.9858\n",
      "Epoch 135/200\n",
      "1499/1500 [============================>.] - ETA: 0s - loss: 0.0528 - acc: 0.9836Epoch 00134: val_loss did not improve\n",
      "1500/1500 [==============================] - 87s - loss: 0.0528 - acc: 0.9836 - val_loss: 0.0547 - val_acc: 0.9851\n",
      "Epoch 136/200\n",
      "1499/1500 [============================>.] - ETA: 0s - loss: 0.0505 - acc: 0.9840Epoch 00135: val_loss did not improve\n",
      "1500/1500 [==============================] - 86s - loss: 0.0505 - acc: 0.9840 - val_loss: 0.0487 - val_acc: 0.9881\n",
      "Epoch 137/200\n",
      "1498/1500 [============================>.] - ETA: 0s - loss: 0.0511 - acc: 0.9843Epoch 00136: val_loss did not improve\n",
      "1500/1500 [==============================] - 85s - loss: 0.0512 - acc: 0.9842 - val_loss: 0.0488 - val_acc: 0.9872\n",
      "Epoch 138/200\n",
      "1498/1500 [============================>.] - ETA: 0s - loss: 0.0543 - acc: 0.9828Epoch 00137: val_loss did not improve\n",
      "1500/1500 [==============================] - 84s - loss: 0.0542 - acc: 0.9828 - val_loss: 0.0516 - val_acc: 0.9886\n",
      "Epoch 139/200\n",
      "1499/1500 [============================>.] - ETA: 0s - loss: 0.0533 - acc: 0.9834Epoch 00138: val_loss did not improve\n",
      "1500/1500 [==============================] - 85s - loss: 0.0534 - acc: 0.9834 - val_loss: 0.0490 - val_acc: 0.9868\n",
      "Epoch 140/200\n",
      "1499/1500 [============================>.] - ETA: 0s - loss: 0.0530 - acc: 0.9828Epoch 00139: val_loss did not improve\n",
      "1500/1500 [==============================] - 85s - loss: 0.0530 - acc: 0.9829 - val_loss: 0.0525 - val_acc: 0.9862\n",
      "Epoch 141/200\n",
      "1498/1500 [============================>.] - ETA: 0s - loss: 0.0525 - acc: 0.9835Epoch 00140: val_loss improved from 0.04405 to 0.04389, saving model to swish_activation_conv2d_weights_data_augmnt.hdf5\n",
      "1500/1500 [==============================] - 84s - loss: 0.0524 - acc: 0.9835 - val_loss: 0.0439 - val_acc: 0.9878\n",
      "Epoch 142/200\n",
      "1498/1500 [============================>.] - ETA: 0s - loss: 0.0521 - acc: 0.9835Epoch 00141: val_loss did not improve\n",
      "1500/1500 [==============================] - 85s - loss: 0.0521 - acc: 0.9835 - val_loss: 0.0659 - val_acc: 0.9857\n",
      "Epoch 143/200\n",
      "1498/1500 [============================>.] - ETA: 0s - loss: 0.0493 - acc: 0.9840Epoch 00142: val_loss did not improve\n",
      "1500/1500 [==============================] - 84s - loss: 0.0493 - acc: 0.9840 - val_loss: 0.0487 - val_acc: 0.9874\n",
      "Epoch 144/200\n",
      "1499/1500 [============================>.] - ETA: 0s - loss: 0.0513 - acc: 0.9838Epoch 00143: val_loss did not improve\n",
      "1500/1500 [==============================] - 85s - loss: 0.0513 - acc: 0.9838 - val_loss: 0.0574 - val_acc: 0.9860\n",
      "Epoch 145/200\n",
      "1499/1500 [============================>.] - ETA: 0s - loss: 0.0524 - acc: 0.9835Epoch 00144: val_loss did not improve\n",
      "1500/1500 [==============================] - 85s - loss: 0.0526 - acc: 0.9835 - val_loss: 0.0552 - val_acc: 0.9859\n",
      "Epoch 146/200\n",
      "1498/1500 [============================>.] - ETA: 0s - loss: 0.0515 - acc: 0.9842Epoch 00145: val_loss did not improve\n",
      "1500/1500 [==============================] - 84s - loss: 0.0515 - acc: 0.9842 - val_loss: 0.0478 - val_acc: 0.9875\n",
      "Epoch 147/200\n",
      "1499/1500 [============================>.] - ETA: 0s - loss: 0.0518 - acc: 0.9838Epoch 00146: val_loss did not improve\n",
      "1500/1500 [==============================] - 86s - loss: 0.0518 - acc: 0.9838 - val_loss: 0.0576 - val_acc: 0.9860\n",
      "Epoch 148/200\n",
      "1498/1500 [============================>.] - ETA: 0s - loss: 0.0500 - acc: 0.9842Epoch 00147: val_loss did not improve\n",
      "1500/1500 [==============================] - 86s - loss: 0.0501 - acc: 0.9842 - val_loss: 0.0526 - val_acc: 0.9873\n",
      "Epoch 149/200\n",
      "1499/1500 [============================>.] - ETA: 0s - loss: 0.0514 - acc: 0.9833Epoch 00148: val_loss did not improve\n",
      "1500/1500 [==============================] - 84s - loss: 0.0515 - acc: 0.9832 - val_loss: 0.0578 - val_acc: 0.9847\n",
      "Epoch 150/200\n",
      "1499/1500 [============================>.] - ETA: 0s - loss: 0.0530 - acc: 0.9835Epoch 00149: val_loss did not improve\n",
      "1500/1500 [==============================] - 85s - loss: 0.0529 - acc: 0.9835 - val_loss: 0.0545 - val_acc: 0.9858\n",
      "Epoch 151/200\n",
      "1499/1500 [============================>.] - ETA: 0s - loss: 0.0508 - acc: 0.9837- ETA: Epoch 00150: val_loss did not improve\n",
      "1500/1500 [==============================] - 84s - loss: 0.0508 - acc: 0.9837 - val_loss: 0.0521 - val_acc: 0.9869\n",
      "Epoch 152/200\n",
      "1498/1500 [============================>.] - ETA: 0s - loss: 0.0509 - acc: 0.9836Epoch 00151: val_loss did not improve\n",
      "1500/1500 [==============================] - 85s - loss: 0.0509 - acc: 0.9836 - val_loss: 0.0557 - val_acc: 0.9862\n",
      "Epoch 153/200\n",
      "1499/1500 [============================>.] - ETA: 0s - loss: 0.0507 - acc: 0.9845Epoch 00152: val_loss did not improve\n",
      "1500/1500 [==============================] - 85s - loss: 0.0507 - acc: 0.9845 - val_loss: 0.0575 - val_acc: 0.9855\n",
      "Epoch 154/200\n",
      "1499/1500 [============================>.] - ETA: 0s - loss: 0.0493 - acc: 0.9844Epoch 00153: val_loss did not improve\n",
      "1500/1500 [==============================] - 85s - loss: 0.0494 - acc: 0.9844 - val_loss: 0.0489 - val_acc: 0.9890\n",
      "Epoch 155/200\n",
      "1499/1500 [============================>.] - ETA: 0s - loss: 0.0508 - acc: 0.9839Epoch 00154: val_loss did not improve\n",
      "1500/1500 [==============================] - 85s - loss: 0.0509 - acc: 0.9839 - val_loss: 0.0484 - val_acc: 0.9881\n",
      "Epoch 156/200\n",
      "1499/1500 [============================>.] - ETA: 0s - loss: 0.0483 - acc: 0.9838Epoch 00155: val_loss did not improve\n",
      "1500/1500 [==============================] - 84s - loss: 0.0483 - acc: 0.9838 - val_loss: 0.0601 - val_acc: 0.9851\n",
      "Epoch 157/200\n",
      "1499/1500 [============================>.] - ETA: 0s - loss: 0.0473 - acc: 0.9839Epoch 00156: val_loss did not improve\n",
      "1500/1500 [==============================] - 84s - loss: 0.0474 - acc: 0.9839 - val_loss: 0.0517 - val_acc: 0.9879\n",
      "Epoch 158/200\n",
      "1498/1500 [============================>.] - ETA: 0s - loss: 0.0525 - acc: 0.9825Epoch 00157: val_loss did not improve\n",
      "1500/1500 [==============================] - 84s - loss: 0.0524 - acc: 0.9825 - val_loss: 0.0538 - val_acc: 0.9868\n",
      "Epoch 159/200\n",
      "1498/1500 [============================>.] - ETA: 0s - loss: 0.0480 - acc: 0.9850Epoch 00158: val_loss did not improve\n",
      "1500/1500 [==============================] - 85s - loss: 0.0482 - acc: 0.9849 - val_loss: 0.0632 - val_acc: 0.9827\n",
      "Epoch 160/200\n",
      "1499/1500 [============================>.] - ETA: 0s - loss: 0.0491 - acc: 0.9840Epoch 00159: val_loss did not improve\n"
     ]
    },
    {
     "name": "stdout",
     "output_type": "stream",
     "text": [
      "1500/1500 [==============================] - 85s - loss: 0.0491 - acc: 0.9840 - val_loss: 0.0544 - val_acc: 0.9866\n",
      "Epoch 161/200\n",
      "1499/1500 [============================>.] - ETA: 0s - loss: 0.0504 - acc: 0.9842Epoch 00160: val_loss did not improve\n",
      "1500/1500 [==============================] - 84s - loss: 0.0504 - acc: 0.9842 - val_loss: 0.0594 - val_acc: 0.9855\n",
      "Epoch 162/200\n",
      "1499/1500 [============================>.] - ETA: 0s - loss: 0.0498 - acc: 0.9841Epoch 00161: val_loss did not improve\n",
      "1500/1500 [==============================] - 84s - loss: 0.0498 - acc: 0.9841 - val_loss: 0.0499 - val_acc: 0.9881\n",
      "Epoch 163/200\n",
      "1499/1500 [============================>.] - ETA: 0s - loss: 0.0499 - acc: 0.9836Epoch 00162: val_loss did not improve\n",
      "1500/1500 [==============================] - 85s - loss: 0.0498 - acc: 0.9836 - val_loss: 0.0480 - val_acc: 0.9880\n",
      "Epoch 164/200\n",
      "1499/1500 [============================>.] - ETA: 0s - loss: 0.0489 - acc: 0.9848Epoch 00163: val_loss did not improve\n",
      "1500/1500 [==============================] - 84s - loss: 0.0489 - acc: 0.9848 - val_loss: 0.0470 - val_acc: 0.9878\n",
      "Epoch 165/200\n",
      "1499/1500 [============================>.] - ETA: 0s - loss: 0.0477 - acc: 0.9843Epoch 00164: val_loss did not improve\n",
      "1500/1500 [==============================] - 84s - loss: 0.0477 - acc: 0.9843 - val_loss: 0.0529 - val_acc: 0.9883\n",
      "Epoch 166/200\n",
      "1499/1500 [============================>.] - ETA: 0s - loss: 0.0465 - acc: 0.9852Epoch 00165: val_loss did not improve\n",
      "1500/1500 [==============================] - 85s - loss: 0.0465 - acc: 0.9852 - val_loss: 0.0572 - val_acc: 0.9861\n",
      "Epoch 167/200\n",
      "1499/1500 [============================>.] - ETA: 0s - loss: 0.0493 - acc: 0.9842Epoch 00166: val_loss did not improve\n",
      "1500/1500 [==============================] - 85s - loss: 0.0493 - acc: 0.9842 - val_loss: 0.0583 - val_acc: 0.9851\n",
      "Epoch 168/200\n",
      "1498/1500 [============================>.] - ETA: 0s - loss: 0.0512 - acc: 0.9839Epoch 00167: val_loss did not improve\n",
      "1500/1500 [==============================] - 85s - loss: 0.0511 - acc: 0.9839 - val_loss: 0.0546 - val_acc: 0.9864\n",
      "Epoch 169/200\n",
      "1499/1500 [============================>.] - ETA: 0s - loss: 0.0517 - acc: 0.9833Epoch 00168: val_loss did not improve\n",
      "1500/1500 [==============================] - 85s - loss: 0.0517 - acc: 0.9833 - val_loss: 0.0599 - val_acc: 0.9845\n",
      "Epoch 170/200\n",
      "1499/1500 [============================>.] - ETA: 0s - loss: 0.0510 - acc: 0.9835Epoch 00169: val_loss did not improve\n",
      "1500/1500 [==============================] - 84s - loss: 0.0510 - acc: 0.9835 - val_loss: 0.0510 - val_acc: 0.9866\n",
      "Epoch 171/200\n",
      "1499/1500 [============================>.] - ETA: 0s - loss: 0.0497 - acc: 0.9840Epoch 00170: val_loss did not improve\n",
      "1500/1500 [==============================] - 85s - loss: 0.0497 - acc: 0.9840 - val_loss: 0.0523 - val_acc: 0.9873\n",
      "Epoch 172/200\n",
      "1499/1500 [============================>.] - ETA: 0s - loss: 0.0483 - acc: 0.9841Epoch 00171: val_loss did not improve\n",
      "1500/1500 [==============================] - 84s - loss: 0.0483 - acc: 0.9840 - val_loss: 0.0567 - val_acc: 0.9863\n",
      "Epoch 173/200\n",
      "1499/1500 [============================>.] - ETA: 0s - loss: 0.0481 - acc: 0.9846Epoch 00172: val_loss did not improve\n",
      "1500/1500 [==============================] - 84s - loss: 0.0481 - acc: 0.9846 - val_loss: 0.0539 - val_acc: 0.9879\n",
      "Epoch 174/200\n",
      "1499/1500 [============================>.] - ETA: 0s - loss: 0.0496 - acc: 0.9840Epoch 00173: val_loss did not improve\n",
      "1500/1500 [==============================] - 85s - loss: 0.0496 - acc: 0.9840 - val_loss: 0.0449 - val_acc: 0.9876\n",
      "Epoch 175/200\n",
      "1499/1500 [============================>.] - ETA: 0s - loss: 0.0484 - acc: 0.9844Epoch 00174: val_loss did not improve\n",
      "1500/1500 [==============================] - 85s - loss: 0.0483 - acc: 0.9844 - val_loss: 0.0620 - val_acc: 0.9852\n",
      "Epoch 176/200\n",
      "1499/1500 [============================>.] - ETA: 0s - loss: 0.0491 - acc: 0.9847Epoch 00175: val_loss did not improve\n",
      "1500/1500 [==============================] - 85s - loss: 0.0491 - acc: 0.9847 - val_loss: 0.0511 - val_acc: 0.9861\n",
      "Epoch 177/200\n",
      "1499/1500 [============================>.] - ETA: 0s - loss: 0.0489 - acc: 0.9848Epoch 00176: val_loss did not improve\n",
      "1500/1500 [==============================] - 85s - loss: 0.0488 - acc: 0.9848 - val_loss: 0.0524 - val_acc: 0.9870\n",
      "Epoch 178/200\n",
      "1498/1500 [============================>.] - ETA: 0s - loss: 0.0482 - acc: 0.9850Epoch 00177: val_loss did not improve\n",
      "1500/1500 [==============================] - 84s - loss: 0.0482 - acc: 0.9850 - val_loss: 0.0589 - val_acc: 0.9834\n",
      "Epoch 179/200\n",
      "1499/1500 [============================>.] - ETA: 0s - loss: 0.0485 - acc: 0.9847Epoch 00178: val_loss did not improve\n",
      "1500/1500 [==============================] - 85s - loss: 0.0485 - acc: 0.9848 - val_loss: 0.0520 - val_acc: 0.9878\n",
      "Epoch 180/200\n",
      "1498/1500 [============================>.] - ETA: 0s - loss: 0.0517 - acc: 0.9841Epoch 00179: val_loss did not improve\n",
      "1500/1500 [==============================] - 85s - loss: 0.0516 - acc: 0.9841 - val_loss: 0.0502 - val_acc: 0.9877\n",
      "Epoch 181/200\n",
      "1499/1500 [============================>.] - ETA: 0s - loss: 0.0481 - acc: 0.9845Epoch 00180: val_loss did not improve\n",
      "1500/1500 [==============================] - 85s - loss: 0.0481 - acc: 0.9845 - val_loss: 0.0503 - val_acc: 0.9877\n",
      "Epoch 182/200\n",
      "1499/1500 [============================>.] - ETA: 0s - loss: 0.0496 - acc: 0.9842Epoch 00181: val_loss improved from 0.04389 to 0.03943, saving model to swish_activation_conv2d_weights_data_augmnt.hdf5\n",
      "1500/1500 [==============================] - 86s - loss: 0.0497 - acc: 0.9842 - val_loss: 0.0394 - val_acc: 0.9899\n",
      "Epoch 183/200\n",
      "1499/1500 [============================>.] - ETA: 0s - loss: 0.0480 - acc: 0.9849Epoch 00182: val_loss did not improve\n",
      "1500/1500 [==============================] - 87s - loss: 0.0481 - acc: 0.9849 - val_loss: 0.0553 - val_acc: 0.9874\n",
      "Epoch 184/200\n",
      "1498/1500 [============================>.] - ETA: 0s - loss: 0.0478 - acc: 0.9843- EEpoch 00183: val_loss did not improve\n",
      "1500/1500 [==============================] - 85s - loss: 0.0479 - acc: 0.9843 - val_loss: 0.0562 - val_acc: 0.9861\n",
      "Epoch 185/200\n",
      "1499/1500 [============================>.] - ETA: 0s - loss: 0.0479 - acc: 0.9848Epoch 00184: val_loss did not improve\n",
      "1500/1500 [==============================] - 84s - loss: 0.0479 - acc: 0.9848 - val_loss: 0.0481 - val_acc: 0.9879\n",
      "Epoch 186/200\n",
      "1498/1500 [============================>.] - ETA: 0s - loss: 0.0493 - acc: 0.9838Epoch 00185: val_loss improved from 0.03943 to 0.03794, saving model to swish_activation_conv2d_weights_data_augmnt.hdf5\n",
      "1500/1500 [==============================] - 85s - loss: 0.0493 - acc: 0.9838 - val_loss: 0.0379 - val_acc: 0.9904\n",
      "Epoch 187/200\n",
      "1499/1500 [============================>.] - ETA: 0s - loss: 0.0492 - acc: 0.9847Epoch 00186: val_loss did not improve\n",
      "1500/1500 [==============================] - 86s - loss: 0.0493 - acc: 0.9847 - val_loss: 0.0505 - val_acc: 0.9880\n",
      "Epoch 188/200\n",
      "1499/1500 [============================>.] - ETA: 0s - loss: 0.0493 - acc: 0.9843Epoch 00187: val_loss did not improve\n",
      "1500/1500 [==============================] - 85s - loss: 0.0493 - acc: 0.9844 - val_loss: 0.0439 - val_acc: 0.9889\n",
      "Epoch 189/200\n",
      "1499/1500 [============================>.] - ETA: 0s - loss: 0.0485 - acc: 0.9842- ETA: 0s - loss: 0.0486 - accEpoch 00188: val_loss did not improve\n",
      "1500/1500 [==============================] - 86s - loss: 0.0485 - acc: 0.9842 - val_loss: 0.0469 - val_acc: 0.9888\n",
      "Epoch 190/200\n",
      "1499/1500 [============================>.] - ETA: 0s - loss: 0.0472 - acc: 0.9853Epoch 00189: val_loss did not improve\n",
      "1500/1500 [==============================] - 86s - loss: 0.0472 - acc: 0.9853 - val_loss: 0.0521 - val_acc: 0.9865\n",
      "Epoch 191/200\n",
      "1499/1500 [============================>.] - ETA: 0s - loss: 0.0490 - acc: 0.9843Epoch 00190: val_loss did not improve\n",
      "1500/1500 [==============================] - 85s - loss: 0.0490 - acc: 0.9843 - val_loss: 0.0502 - val_acc: 0.9878\n",
      "Epoch 192/200\n",
      "1499/1500 [============================>.] - ETA: 0s - loss: 0.0467 - acc: 0.9851Epoch 00191: val_loss did not improve\n"
     ]
    },
    {
     "name": "stdout",
     "output_type": "stream",
     "text": [
      "1500/1500 [==============================] - 85s - loss: 0.0466 - acc: 0.9851 - val_loss: 0.0492 - val_acc: 0.9877\n",
      "Epoch 193/200\n",
      "1498/1500 [============================>.] - ETA: 0s - loss: 0.0488 - acc: 0.9842Epoch 00192: val_loss did not improve\n",
      "1500/1500 [==============================] - 84s - loss: 0.0488 - acc: 0.9842 - val_loss: 0.0516 - val_acc: 0.9873\n",
      "Epoch 194/200\n",
      "1499/1500 [============================>.] - ETA: 0s - loss: 0.0478 - acc: 0.9850Epoch 00193: val_loss did not improve\n",
      "1500/1500 [==============================] - 84s - loss: 0.0478 - acc: 0.9850 - val_loss: 0.0484 - val_acc: 0.9875\n",
      "Epoch 195/200\n",
      "1499/1500 [============================>.] - ETA: 0s - loss: 0.0472 - acc: 0.9850Epoch 00194: val_loss did not improve\n",
      "1500/1500 [==============================] - 84s - loss: 0.0472 - acc: 0.9850 - val_loss: 0.0505 - val_acc: 0.9874\n",
      "Epoch 196/200\n",
      "1499/1500 [============================>.] - ETA: 0s - loss: 0.0485 - acc: 0.9853Epoch 00195: val_loss did not improve\n",
      "1500/1500 [==============================] - 85s - loss: 0.0485 - acc: 0.9853 - val_loss: 0.0524 - val_acc: 0.9868\n",
      "Epoch 197/200\n",
      "1499/1500 [============================>.] - ETA: 0s - loss: 0.0464 - acc: 0.9852Epoch 00196: val_loss did not improve\n",
      "1500/1500 [==============================] - 84s - loss: 0.0464 - acc: 0.9852 - val_loss: 0.0630 - val_acc: 0.9852\n",
      "Epoch 198/200\n",
      "1499/1500 [============================>.] - ETA: 0s - loss: 0.0459 - acc: 0.9856Epoch 00197: val_loss did not improve\n",
      "1500/1500 [==============================] - 85s - loss: 0.0459 - acc: 0.9856 - val_loss: 0.0534 - val_acc: 0.9866\n",
      "Epoch 199/200\n",
      "1499/1500 [============================>.] - ETA: 0s - loss: 0.0484 - acc: 0.9851Epoch 00198: val_loss did not improve\n",
      "1500/1500 [==============================] - 84s - loss: 0.0484 - acc: 0.9851 - val_loss: 0.0519 - val_acc: 0.9870\n",
      "Epoch 200/200\n",
      "1499/1500 [============================>.] - ETA: 0s - loss: 0.0484 - acc: 0.9854Epoch 00199: val_loss did not improve\n",
      "1500/1500 [==============================] - 84s - loss: 0.0484 - acc: 0.9855 - val_loss: 0.0549 - val_acc: 0.9856\n"
     ]
    }
   ],
   "source": [
    "history = cnn_model.fit_generator(train_generator,\n",
    "                              epochs = epochs,\n",
    "                              validation_data = val_generator,\n",
    "                              verbose = 1,\n",
    "                              steps_per_epoch = X_train.shape[0]//batch_size,\n",
    "                              validation_steps = X_val.shape[0] // batch_size,\n",
    "                              callbacks=[csv_logger,tb,checkpointer,learning_rate_reduction])"
   ]
  },
  {
   "cell_type": "code",
   "execution_count": 23,
   "metadata": {
    "ExecuteTime": {
     "end_time": "2018-03-02T16:18:23.299995Z",
     "start_time": "2018-03-02T16:18:22.934547Z"
    }
   },
   "outputs": [
    {
     "data": {
      "image/png": "[encoded data removed]",
      "text/plain": [
       "<matplotlib.figure.Figure at 0x7f4a59ffbd68>"
      ]
     },
     "metadata": {},
     "output_type": "display_data"
    },
    {
     "data": {
      "image/png": "[encoded data removed]",
      "text/plain": [
       "<matplotlib.figure.Figure at 0x7f4a58e2a668>"
      ]
     },
     "metadata": {},
     "output_type": "display_data"
    }
   ],
   "source": [
    "plt.plot(history.history['acc'],color='r')\n",
    "plt.plot(history.history['val_acc'],color='g')\n",
    "plt.title('model accuracy')\n",
    "plt.ylabel('accuracy')\n",
    "plt.xlabel('epoch')\n",
    "plt.legend(['train', 'validation'], loc='upper left')\n",
    "plt.show()\n",
    "\n",
    "plt.plot(history.history['loss'],color='r')\n",
    "plt.plot(history.history['val_loss'],color='g')\n",
    "plt.title('model loss')\n",
    "plt.ylabel('loss')\n",
    "plt.xlabel('epoch')\n",
    "plt.legend(['train', 'validation'], loc='upper left')\n",
    "plt.show()"
   ]
  },
  {
   "cell_type": "code",
   "execution_count": 24,
   "metadata": {
    "ExecuteTime": {
     "end_time": "2018-03-02T16:18:31.900495Z",
     "start_time": "2018-03-02T16:18:28.764902Z"
    }
   },
   "outputs": [
    {
     "name": "stdout",
     "output_type": "stream",
     "text": [
      "(12000, 28, 28, 1) (12000,) (12000,)\n"
     ]
    }
   ],
   "source": [
    "y_pred_onehotencoded = cnn_model.predict(X_val)\n",
    "y_pred = np.argmax(y_pred_onehotencoded,axis=1)\n",
    "y_true = np.argmax(y_val,axis=1)\n",
    "print(X_val.shape,y_pred.shape,y_true.shape)"
   ]
  },
  {
   "cell_type": "code",
   "execution_count": 25,
   "metadata": {
    "ExecuteTime": {
     "end_time": "2018-03-02T16:18:31.951168Z",
     "start_time": "2018-03-02T16:18:31.936218Z"
    }
   },
   "outputs": [
    {
     "name": "stdout",
     "output_type": "stream",
     "text": [
      "[[1050   89    0    0    0    0    4    1    0    0]\n",
      " [   0 1342    0    1    0    0    0    0    0    0]\n",
      " [  50  625  425    0    0    0    0   28    0    1]\n",
      " [   0  165    3 1020    0    7    0   33    0   16]\n",
      " [   2  174    0    0  999    0    7   10    0    6]\n",
      " [  17  146    0    1    1  918    8    8    0   12]\n",
      " [   7  192    0    0    1    0 1001    0    0    0]\n",
      " [   0  180    0    0    1    0    0 1111    0    1]\n",
      " [  30  728    0    0   12    0    7   11  382   31]\n",
      " [  12   93    0    0   37    0    2   42    0  950]]\n"
     ]
    }
   ],
   "source": [
    "confusion_mtx = confusion_matrix(y_true,y_pred)\n",
    "print (confusion_mtx)"
   ]
  },
  {
   "cell_type": "code",
   "execution_count": 26,
   "metadata": {
    "ExecuteTime": {
     "end_time": "2018-03-02T16:18:34.370040Z",
     "start_time": "2018-03-02T16:18:31.987365Z"
    }
   },
   "outputs": [
    {
     "name": "stdout",
     "output_type": "stream",
     "text": [
      "[[ 888   85    0    0    0    0    5    2    0    0]\n",
      " [   0 1135    0    0    0    0    0    0    0    0]\n",
      " [  54  589  371    0    0    0    0   18    0    0]\n",
      " [   1   98    1  871    0    3    0   27    0    9]\n",
      " [   0  121    0    0  839    0    9    5    0    8]\n",
      " [  15  104    0    6    0  745    4    8    0   10]\n",
      " [   8  108    0    0    0    0  842    0    0    0]\n",
      " [   0  143    0    0    0    0    0  885    0    0]\n",
      " [  39  544    0    0   10    0    8   16  325   32]\n",
      " [  18   61    0    0   37    0    3   24    0  866]]\n"
     ]
    }
   ],
   "source": [
    "results = cnn_model.predict(X_test)\n",
    "results = np.argmax(results, axis=1)\n",
    "y_test_ = np.argmax(y_test,axis=1)\n",
    "res_confusion_mtx = confusion_matrix(y_test_,results)\n",
    "print(res_confusion_mtx)"
   ]
  },
  {
   "cell_type": "code",
   "execution_count": 27,
   "metadata": {
    "ExecuteTime": {
     "end_time": "2018-03-02T16:18:39.217525Z",
     "start_time": "2018-03-02T16:18:36.761677Z"
    }
   },
   "outputs": [
    {
     "name": "stdout",
     "output_type": "stream",
     "text": [
      " 9984/10000 [============================>.] - ETA: 0s\n",
      "TEST ACCURACY IS 77.66999999999999%\n"
     ]
    }
   ],
   "source": [
    "print(\"\\nTEST ACCURACY IS {}%\".format(cnn_model.evaluate(X_test,y_test)[1]*100))"
   ]
  }
 ],
 "metadata": {
  "kernelspec": {
   "display_name": "Python 3",
   "language": "python",
   "name": "python3"
  },
  "language_info": {
   "codemirror_mode": {
    "name": "ipython",
    "version": 3
   },
   "file_extension": ".py",
   "mimetype": "text/x-python",
   "name": "python",
   "nbconvert_exporter": "python",
   "pygments_lexer": "ipython3",
   "version": "3.5.4"
  },
  "varInspector": {
   "cols": {
    "lenName": 16,
    "lenType": 16,
    "lenVar": 40
   },
   "kernels_config": {
    "python": {
     "delete_cmd_postfix": "",
     "delete_cmd_prefix": "del ",
     "library": "var_list.py",
     "varRefreshCmd": "print(var_dic_list())"
    },
    "r": {
     "delete_cmd_postfix": ") ",
     "delete_cmd_prefix": "rm(",
     "library": "var_list.r",
     "varRefreshCmd": "cat(var_dic_list()) "
    }
   },
   "types_to_exclude": [
    "module",
    "function",
    "builtin_function_or_method",
    "instance",
    "_Feature"
   ],
   "window_display": false
  }
 },
 "nbformat": 4,
 "nbformat_minor": 2
}
