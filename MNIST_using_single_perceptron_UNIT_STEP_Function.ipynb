{
 "cells": [
  {
   "cell_type": "code",
   "execution_count": 1,
   "metadata": {},
   "outputs": [],
   "source": [
    "import glob\n",
    "import numpy as np\n",
    "from PIL import Image"
   ]
  },
  {
   "cell_type": "code",
   "execution_count": 2,
   "metadata": {},
   "outputs": [],
   "source": [
    "#Function for initializing random weights\n",
    "def init_weights():\n",
    "    W = np.random.rand(1,784)*0.01\n",
    "    b = 0\n",
    "    return W, b"
   ]
  },
  {
   "cell_type": "code",
   "execution_count": 3,
   "metadata": {},
   "outputs": [],
   "source": [
    "def load_dataset(validation=False):\n",
    "    if (validation):\n",
    "        filelist_1 = glob.glob('test/1/*.jpg')\n",
    "        x_test_1 = np.array([np.array(Image.open(fname)) for fname in filelist_1])\n",
    "        y_test_1 = np.ones((500,1))\n",
    "        flatten = x_test_1.shape[1]*x_test_1.shape[2]\n",
    "        x_test_1 = x_test_1.reshape(x_test_1.shape[0], flatten)\n",
    "        filelist_0 = glob.glob('test/0/*.jpg')\n",
    "        x_test_0 = np.array([np.array(Image.open(fname)) for fname in filelist_0])\n",
    "        y_test_0 = np.zeros((500,1))\n",
    "        flatten = x_test_0.shape[1]*x_test_0.shape[2]\n",
    "        x_test_0 = x_test_0.reshape(x_test_0.shape[0], flatten)\n",
    "        x_test = np.concatenate((x_test_0,x_test_1))\n",
    "        y_test = np.concatenate((y_test_0,y_test_1))\n",
    "        return x_test,y_test\n",
    "    else:\n",
    "        filelist_1 = glob.glob('train/1/*.jpg')\n",
    "        x_train_1 = np.array([np.array(Image.open(fname)) for fname in filelist_1])\n",
    "        y_train_1 = np.ones((500,1))\n",
    "        flatten = x_train_1.shape[1]*x_train_1.shape[2]\n",
    "        x_train_1 = x_train_1.reshape(x_train_1.shape[0], flatten)\n",
    "        filelist_0 = glob.glob('train/0/*.jpg')\n",
    "        x_train_0 = np.array([np.array(Image.open(fname)) for fname in filelist_0])\n",
    "        y_train_0 = np.zeros((500,1))\n",
    "        flatten = x_train_0.shape[1]*x_train_0.shape[2]\n",
    "        x_train_0 = x_train_0.reshape(x_train_0.shape[0], flatten)\n",
    "        x_train = np.concatenate((x_train_0,x_train_1))\n",
    "        y_train = np.concatenate((y_train_0,y_train_1))\n",
    "        return x_train, y_train"
   ]
  },
  {
   "cell_type": "code",
   "execution_count": 4,
   "metadata": {},
   "outputs": [],
   "source": [
    "def step(z):\n",
    "    return 1 * (z > 0)"
   ]
  },
  {
   "cell_type": "code",
   "execution_count": 5,
   "metadata": {},
   "outputs": [],
   "source": [
    "def propagate(W,b,X,Y):\n",
    "\n",
    "    A = step(np.dot(X,W.T) + b)\n",
    "    Error = Y - A\n",
    "    return Error"
   ]
  },
  {
   "cell_type": "code",
   "execution_count": 6,
   "metadata": {},
   "outputs": [],
   "source": [
    "def optimize(W,b,X,Y,num_iterations, learning_rate):\n",
    "    for i in range(num_iterations):\n",
    "        Error = propagate(W,b,X,Y)\n",
    "        if (i%10 == 0):\n",
    "            print (\"Error is {} for iteration {}\".format(np.mean(Error), i+1))\n",
    "        W = W + np.multiply(learning_rate , (np.dot(Error.T,X))) \n",
    "        b = b + np.multiply(learning_rate ,np.mean( Error))\n",
    "    params = {\"W\" : W, \"b\" : b}\n",
    "    return params"
   ]
  },
  {
   "cell_type": "code",
   "execution_count": 7,
   "metadata": {},
   "outputs": [],
   "source": [
    "def model(X,Y,num_iterations,learning_rate):\n",
    "    W, b = init_weights()\n",
    "    #print (\"Initial W is {} and b is {}\".format(W,b))\n",
    "    params = optimize(W,b,X,Y,num_iterations, learning_rate)\n",
    "    #print (\"Final updated W and b are\")\n",
    "    #print (\"W is\" ,params[\"W\"])\n",
    "    #print (\"b is \",params[\"b\"])\n",
    "    return params  "
   ]
  },
  {
   "cell_type": "code",
   "execution_count": 8,
   "metadata": {},
   "outputs": [],
   "source": [
    "def main():\n",
    "    #INPUT\n",
    "    X ,Y= load_dataset()\n",
    "\n",
    "    #set learning rate and iterations for which our model should be trained\n",
    "    learning_rate = 0.2\n",
    "    num_of_interations = 150\n",
    "    \n",
    "\n",
    "    params = model(X, Y ,num_of_interations,learning_rate)\n",
    "    return params"
   ]
  },
  {
   "cell_type": "code",
   "execution_count": 9,
   "metadata": {},
   "outputs": [
    {
     "name": "stdout",
     "output_type": "stream",
     "text": [
      "Error is -0.5 for iteration 1\n",
      "Error is 0.001 for iteration 11\n",
      "Error is 0.005 for iteration 21\n",
      "Error is 0.004 for iteration 31\n",
      "Error is -0.001 for iteration 41\n",
      "Error is -0.005 for iteration 51\n",
      "Error is 0.004 for iteration 61\n",
      "Error is 0.001 for iteration 71\n",
      "Error is -0.001 for iteration 81\n",
      "Error is -0.003 for iteration 91\n",
      "Error is 0.0 for iteration 101\n",
      "Error is 0.0 for iteration 111\n",
      "Error is 0.0 for iteration 121\n",
      "Error is 0.0 for iteration 131\n",
      "Error is 0.0 for iteration 141\n"
     ]
    }
   ],
   "source": [
    "params = main()"
   ]
  },
  {
   "cell_type": "code",
   "execution_count": 10,
   "metadata": {},
   "outputs": [],
   "source": [
    "def validation(X,params):\n",
    "    W = params[\"W\"]\n",
    "    b = params[\"b\"]\n",
    "    A = step(np.dot(X,W.T) + b)\n",
    "    return  A"
   ]
  },
  {
   "cell_type": "code",
   "execution_count": 11,
   "metadata": {},
   "outputs": [],
   "source": [
    "x_test , y_test = load_dataset(validation=True)"
   ]
  },
  {
   "cell_type": "code",
   "execution_count": 12,
   "metadata": {},
   "outputs": [
    {
     "name": "stdout",
     "output_type": "stream",
     "text": [
      "Single perceptron accuracy is 49.3%\n"
     ]
    }
   ],
   "source": [
    "yhat = validation(x_test,params)\n",
    "acc = np.mean(y_test==yhat)\n",
    "print (\"Single perceptron accuracy is {}%\".format(acc*100))"
   ]
  }
 ],
 "metadata": {
  "kernelspec": {
   "display_name": "Python 2",
   "language": "python",
   "name": "python2"
  },
  "language_info": {
   "codemirror_mode": {
    "name": "ipython",
    "version": 2
   },
   "file_extension": ".py",
   "mimetype": "text/x-python",
   "name": "python",
   "nbconvert_exporter": "python",
   "pygments_lexer": "ipython2",
   "version": "2.7.14"
  }
 },
 "nbformat": 4,
 "nbformat_minor": 2
}
