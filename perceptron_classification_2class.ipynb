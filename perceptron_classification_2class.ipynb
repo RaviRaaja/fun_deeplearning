{
 "cells": [
  {
   "cell_type": "code",
   "execution_count": 6,
   "metadata": {},
   "outputs": [],
   "source": [
    "from pylab import rand,plot,show,norm\n",
    "import matplotlib.pyplot as plt\n",
    "import numpy as np"
   ]
  },
  {
   "cell_type": "code",
   "execution_count": 37,
   "metadata": {},
   "outputs": [],
   "source": [
    "def generateData(n):\n",
    "    xb = (rand(n)*2-1)/2-0.5\n",
    "    yb = (rand(n)*2-1)/2+0.5\n",
    "    xr = (rand(n)*2-1)/2+0.5\n",
    "    yr = (rand(n)*2-1)/2-0.5\n",
    "    inputs = []\n",
    "    for i in range(len(xb)):\n",
    "        inputs.append([xb[i],yb[i],1])\n",
    "        inputs.append([xr[i],yr[i],-1])\n",
    "    #print inputs\n",
    "    return (inputs)"
   ]
  },
  {
   "cell_type": "code",
   "execution_count": 38,
   "metadata": {},
   "outputs": [
    {
     "data": {
      "image/png": "[encoded data removed]",
      "text/plain": [
       "<matplotlib.figure.Figure at 0x7febb2997210>"
      ]
     },
     "metadata": {},
     "output_type": "display_data"
    }
   ],
   "source": [
    "#Visualization of dataset\n",
    "A = np.asarray(generateData(50))\n",
    "x = []\n",
    "y = []\n",
    "for i in range(A.shape[0]):\n",
    "    x.append(A[i,0])\n",
    "    y.append(A[i,1])\n",
    "plt.scatter(x,y)\n",
    "plt.show()"
   ]
  },
  {
   "cell_type": "code",
   "execution_count": 39,
   "metadata": {},
   "outputs": [],
   "source": [
    "class Perceptron:\n",
    "    def __init__(self):\n",
    "        self.w = rand(2)*2-1 #weights\n",
    "        self.learning_rate = 0.1\n",
    "    \n",
    "    def response(self,x):\n",
    "        y = x[0]*self.w[0]+x[1]*self.w[1]\n",
    "        if y>=0:\n",
    "            return 1\n",
    "        else:\n",
    "            return -1\n",
    "    \n",
    "    def updateWeights(self,x,iterError):\n",
    "        self.w[0] += self.learning_rate*iterError*x[0]\n",
    "        self.w[1] += self.learning_rate*iterError*x[1]\n",
    "    \n",
    "    def train(self,data):\n",
    "        learned = False\n",
    "        iteration = 0\n",
    "        while not learned:\n",
    "            globalError = 0.0\n",
    "            for x in data:\n",
    "                r = self.response(x)\n",
    "                if x[2] != r:\n",
    "                    iterError = x[2]-r\n",
    "                    self.updateWeights(x,iterError)\n",
    "                    globalError += abs(iterError)\n",
    "            iteration += 1\n",
    "            if globalError == 0.0 or iteration >=100:\n",
    "                print \"iterations\", iteration\n",
    "                learned = True"
   ]
  },
  {
   "cell_type": "code",
   "execution_count": 35,
   "metadata": {},
   "outputs": [
    {
     "name": "stdout",
     "output_type": "stream",
     "text": [
      "iterations 2\n"
     ]
    }
   ],
   "source": [
    "trainset = generateData(80) # train set generation\n",
    "perceptron = Perceptron()   # perceptron instance\n",
    "perceptron.train(trainset)  # training\n",
    "testset = generateData(20)  # test set generation"
   ]
  },
  {
   "cell_type": "code",
   "execution_count": 40,
   "metadata": {},
   "outputs": [
    {
     "data": {
      "image/png": "[encoded data removed]",
      "text/plain": [
       "<matplotlib.figure.Figure at 0x7febb2e188d0>"
      ]
     },
     "metadata": {},
     "output_type": "display_data"
    }
   ],
   "source": [
    "# Perceptron test\n",
    "for x in testset:\n",
    "    r = perceptron.response(x)\n",
    "    if r != x[2]: # if the response is not correct\n",
    "        print 'error'\n",
    "    if r == 1:\n",
    "        plot(x[0],x[1],'ob')  \n",
    "    else:\n",
    "        plot(x[0],x[1],'or')\n",
    "#plotting seperation line\n",
    "n = norm(perceptron.w)#Frobenius norm\n",
    "ww = perceptron.w/n\n",
    "ww1 = [ww[1],-ww[0]]\n",
    "#print ww1\n",
    "ww2 = [-ww[1],ww[0]]\n",
    "#print ww2\n",
    "plot([ww1[0], ww2[0]],[ww1[1], ww2[1]],'--k')\n",
    "show()"
   ]
  }
 ],
 "metadata": {
  "kernelspec": {
   "display_name": "Python 2",
   "language": "python",
   "name": "python2"
  },
  "language_info": {
   "codemirror_mode": {
    "name": "ipython",
    "version": 2
   },
   "file_extension": ".py",
   "mimetype": "text/x-python",
   "name": "python",
   "nbconvert_exporter": "python",
   "pygments_lexer": "ipython2",
   "version": "2.7.14"
  }
 },
 "nbformat": 4,
 "nbformat_minor": 2
}
