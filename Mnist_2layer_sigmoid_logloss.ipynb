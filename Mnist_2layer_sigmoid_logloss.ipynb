{
 "cells": [
  {
   "cell_type": "code",
   "execution_count": 3,
   "metadata": {},
   "outputs": [],
   "source": [
    "import glob\n",
    "import numpy as np\n",
    "from PIL import Image\n",
    "from sklearn.preprocessing import StandardScaler\n",
    "import matplotlib.pyplot as plt"
   ]
  },
  {
   "cell_type": "code",
   "execution_count": 4,
   "metadata": {},
   "outputs": [],
   "source": [
    "def load_dataset(validation=False):\n",
    "    if (validation):\n",
    "        filelist_1 = glob.glob('test/1/*.jpg')\n",
    "        x_test_1 = np.array([np.array(Image.open(fname)) for fname in filelist_1])\n",
    "        y_test_1 = np.ones((500,1))\n",
    "        flatten = x_test_1.shape[1]*x_test_1.shape[2]\n",
    "        x_test_1 = x_test_1.reshape(x_test_1.shape[0], flatten)\n",
    "        filelist_0 = glob.glob('test/0/*.jpg')\n",
    "        x_test_0 = np.array([np.array(Image.open(fname)) for fname in filelist_0])\n",
    "        y_test_0 = np.ones((500,1))\n",
    "        flatten = x_test_0.shape[1]*x_test_0.shape[2]\n",
    "        x_test_0 = x_test_0.reshape(x_test_0.shape[0], flatten)\n",
    "        x_test = np.concatenate((x_test_0,x_test_1))\n",
    "        y_test = np.concatenate((y_test_0,y_test_1))\n",
    "        return x_test,y_test\n",
    "    else:\n",
    "        filelist_1 = glob.glob('train/1/*.jpg')\n",
    "        x_train_1 = np.array([np.array(Image.open(fname)) for fname in filelist_1])\n",
    "        y_train_1 = np.ones((500,1))\n",
    "        flatten = x_train_1.shape[1]*x_train_1.shape[2]\n",
    "        x_train_1 = x_train_1.reshape(x_train_1.shape[0], flatten)\n",
    "        filelist_0 = glob.glob('train/0/*.jpg')\n",
    "        x_train_0 = np.array([np.array(Image.open(fname)) for fname in filelist_0])\n",
    "        y_train_0 = np.zeros((500,1))\n",
    "        flatten = x_train_0.shape[1]*x_train_0.shape[2]\n",
    "        x_train_0 = x_train_0.reshape(x_train_0.shape[0], flatten)\n",
    "        x_train = np.concatenate((x_train_0,x_train_1))\n",
    "        y_train = np.concatenate((y_train_0,y_train_1))\n",
    "        return x_train, y_train"
   ]
  },
  {
   "cell_type": "code",
   "execution_count": 6,
   "metadata": {},
   "outputs": [],
   "source": [
    "def normalize_data(X):\n",
    "    sc = StandardScaler()\n",
    "    return sc.fit_transform(X)"
   ]
  },
  {
   "cell_type": "code",
   "execution_count": 4,
   "metadata": {
    "collapsed": true
   },
   "outputs": [],
   "source": [
    "def sigmoid(x,derivative=False):\n",
    "    if(derivative):\n",
    "        return x*(1-x)\n",
    "    return 1./(1+np.exp(-x))"
   ]
  },
  {
   "cell_type": "code",
   "execution_count": 5,
   "metadata": {
    "collapsed": true
   },
   "outputs": [],
   "source": [
    "def init_weights(n_x,n_h,n_y):\n",
    "    \n",
    "    W1 = np.random.randn(n_h, n_x) * 0.01\n",
    "    b1 = np.zeros(shape=(n_h, 1))\n",
    "    W2 = np.random.randn(n_y, n_h) * 0.01\n",
    "    b2 = np.zeros(shape=(n_y, 1))\n",
    "    return W1, W2, b1, b2"
   ]
  },
  {
   "cell_type": "code",
   "execution_count": 6,
   "metadata": {
    "collapsed": true
   },
   "outputs": [],
   "source": [
    "def compute_cost(A2, Y):\n",
    "    m = Y.shape[1]\n",
    "    logprobs = np.multiply(np.log(A2),Y) + np.multiply(np.log(1-A2),(1-Y))\n",
    "    cost = -(1.0/m) * np.sum(logprobs)\n",
    "    cost = np.squeeze(cost)\n",
    "    assert(isinstance(cost, float))\n",
    "    \n",
    "    return cost"
   ]
  },
  {
   "cell_type": "code",
   "execution_count": 7,
   "metadata": {
    "collapsed": true
   },
   "outputs": [],
   "source": [
    "def compute_grad(X,A2,A1,Y,W1,W2):\n",
    "    m = Y.shape[1]\n",
    "    l2_error = A2-Y\n",
    "    dW2 = (1.0/m) * np.dot(l2_error,A1.T)\n",
    "    db2 = (1.0/m) * np.sum(l2_error, axis=1, keepdims=True)\n",
    "    l1_error = np.multiply(np.dot(W2.T, l2_error), (A1*(1-A1)))\n",
    "    #l1_error = np.multiply(np.dot(W2.T, l2_error),1 - np.power(A1, 2))\n",
    "    dW1 = (1.0/m) * np.dot(l1_error, X.T)\n",
    "    db1 = (1.0/m) * np.sum(l1_error, axis=1, keepdims=True)\n",
    "    \n",
    "    return dW1,dW2,db1,db2"
   ]
  },
  {
   "cell_type": "code",
   "execution_count": 8,
   "metadata": {
    "collapsed": true
   },
   "outputs": [],
   "source": [
    "def update_parameters(W1,W2,b1,b2,dW1,dW2,db1,db2,lr):\n",
    "    W1 -= lr*dW1\n",
    "    W2 -= lr*dW2\n",
    "    b1 -= lr*db1\n",
    "    b2 -= lr*db2\n",
    "    return W1,W2,b1,b2"
   ]
  },
  {
   "cell_type": "code",
   "execution_count": 9,
   "metadata": {
    "collapsed": true
   },
   "outputs": [],
   "source": [
    "def main(X,y,no_of_iter=1000):\n",
    "    n_x = X.shape[0] #784\n",
    "    n_h = 2 #number of nodes in hidden layer\n",
    "    n_y = 1 #number of nodes in output layer\n",
    "    lr = 0.2\n",
    "    W1, W2, b1, b2 = init_weights(n_x,n_h,n_y)\n",
    "    l_cost = []\n",
    "    \n",
    "    \n",
    "    for i in range(no_of_iter):\n",
    "        A0 = X\n",
    "        A1 = sigmoid(np.dot(W1,A0)+b1)\n",
    "        A2 = sigmoid(np.dot(W2,A1)+b2)\n",
    "        cost_ = compute_cost(A2,y)\n",
    "        l_cost.append(cost_)\n",
    "        \n",
    "        if (i%1000 is 0):\n",
    "            print (\"cost is {}\".format(cost_))\n",
    "        \n",
    "        dW1,dW2,db1,db2 = compute_grad(X,A2,A1,y,W1,W2)\n",
    "        W1,W2,b1,b2 = update_parameters(W1,W2,b1,b2,dW1,dW2,db1,db2,lr)\n",
    "\n",
    "    return W1, W2, b1, b2,l_cost   "
   ]
  },
  {
   "cell_type": "code",
   "execution_count": 10,
   "metadata": {
    "collapsed": true
   },
   "outputs": [],
   "source": [
    "def validation(W1,W2,b1,b2,X):\n",
    "    A0 = X\n",
    "    A1 = sigmoid(np.dot(W1,A0)+b1)\n",
    "    #A1 = np.tanh(np.dot(W1,A0)+b1)\n",
    "    A2 = sigmoid(np.dot(W2,A1)+b2)\n",
    "    y_hat = np.round(A2)\n",
    "    return y_hat"
   ]
  },
  {
   "cell_type": "markdown",
   "metadata": {},
   "source": [
    "**TRAINING MNIST DATASET**"
   ]
  },
  {
   "cell_type": "code",
   "execution_count": 7,
   "metadata": {},
   "outputs": [
    {
     "name": "stderr",
     "output_type": "stream",
     "text": [
      "/home/stan/anaconda2/lib/python2.7/site-packages/sklearn/utils/validation.py:475: DataConversionWarning: Data with input dtype uint8 was converted to float64 by StandardScaler.\n",
      "  warnings.warn(msg, DataConversionWarning)\n"
     ]
    }
   ],
   "source": [
    "X, y = load_dataset()\n",
    "X = normalize_data(X).T\n",
    "y = y.T"
   ]
  },
  {
   "cell_type": "code",
   "execution_count": 18,
   "metadata": {},
   "outputs": [
    {
     "name": "stdout",
     "output_type": "stream",
     "text": [
      "cost is 0.6931120018062136\n",
      "cost is 0.01127938240103691\n",
      "cost is 0.005355361824878315\n",
      "cost is 0.0035038489938892187\n",
      "cost is 0.002601978955351762\n",
      "cost is 0.0020687319480381934\n",
      "cost is 0.0017166004268970468\n",
      "cost is 0.0014667641962996742\n",
      "cost is 0.0012803277898372838\n",
      "cost is 0.0011358893088321464\n"
     ]
    },
    {
     "data": {
      "image/png": "[encoded data removed]",
      "text/plain": [
       "<matplotlib.figure.Figure at 0x7f62457bbe10>"
      ]
     },
     "metadata": {},
     "output_type": "display_data"
    }
   ],
   "source": [
    "final_W1, final_W2, final_b1, final_b2 ,l_cost= main(X,y,10000)\n",
    "plt.title(\"Cost Graph\")\n",
    "plt.xlabel(\"Number of iterations\")\n",
    "plt.ylabel(\"cost\")\n",
    "plt.plot(l_cost)\n",
    "plt.show()"
   ]
  },
  {
   "cell_type": "markdown",
   "metadata": {},
   "source": [
    "**VALIADTION OF MNIST**"
   ]
  },
  {
   "cell_type": "code",
   "execution_count": 19,
   "metadata": {},
   "outputs": [
    {
     "name": "stdout",
     "output_type": "stream",
     "text": [
      "Accuracy is 49.6%\n"
     ]
    },
    {
     "name": "stderr",
     "output_type": "stream",
     "text": [
      "/home/stan/anaconda2/envs/tensorflow/lib/python3.5/site-packages/sklearn/utils/validation.py:475: DataConversionWarning: Data with input dtype uint8 was converted to float64 by StandardScaler.\n",
      "  warnings.warn(msg, DataConversionWarning)\n"
     ]
    }
   ],
   "source": [
    "x_test, y_test = load_dataset(validation=True)\n",
    "x_test = normalize_data(x_test).T\n",
    "y_test = y_test.T\n",
    "predictions = validation(final_W1, final_W2, final_b1, final_b2 ,x_test)\n",
    "acc = np.mean(y_test==predictions)\n",
    "print (\"Accuracy is {}%\".format(acc*100))"
   ]
  },
  {
   "cell_type": "markdown",
   "metadata": {},
   "source": [
    "**Cross validation of accuracy with sklearn MLP Classifier library**"
   ]
  },
  {
   "cell_type": "code",
   "execution_count": 27,
   "metadata": {},
   "outputs": [],
   "source": [
    "from sklearn.neural_network import MLPClassifier\n",
    "clf = MLPClassifier(activation='logistic',solver='lbfgs', alpha=1e-5,hidden_layer_sizes=(2,), random_state=1)"
   ]
  },
  {
   "cell_type": "code",
   "execution_count": 28,
   "metadata": {},
   "outputs": [
    {
     "data": {
      "text/plain": [
       "MLPClassifier(activation='logistic', alpha=1e-05, batch_size='auto',\n",
       "       beta_1=0.9, beta_2=0.999, early_stopping=False, epsilon=1e-08,\n",
       "       hidden_layer_sizes=(2,), learning_rate='constant',\n",
       "       learning_rate_init=0.001, max_iter=200, momentum=0.9,\n",
       "       nesterovs_momentum=True, power_t=0.5, random_state=1, shuffle=True,\n",
       "       solver='lbfgs', tol=0.0001, validation_fraction=0.1, verbose=False,\n",
       "       warm_start=False)"
      ]
     },
     "execution_count": 28,
     "metadata": {},
     "output_type": "execute_result"
    }
   ],
   "source": [
    "clf.fit(X.T,y.T)"
   ]
  },
  {
   "cell_type": "code",
   "execution_count": 29,
   "metadata": {},
   "outputs": [],
   "source": [
    "x_test, y_test = load_dataset(validation=True)\n",
    "x_test = normalize_data(x_test)\n",
    "x_test = x_test.T\n",
    "y_test = y_test.T"
   ]
  },
  {
   "cell_type": "code",
   "execution_count": 30,
   "metadata": {},
   "outputs": [
    {
     "name": "stdout",
     "output_type": "stream",
     "text": [
      "0.49\n"
     ]
    }
   ],
   "source": [
    "prediction = (clf.predict(x_test.T).reshape(1000,1).T)\n",
    "acc = np.mean(prediction==y_test)\n",
    "print (acc)"
   ]
  }
 ],
 "metadata": {
  "kernelspec": {
   "display_name": "Python 2",
   "language": "python",
   "name": "python2"
  },
  "language_info": {
   "codemirror_mode": {
    "name": "ipython",
    "version": 2
   },
   "file_extension": ".py",
   "mimetype": "text/x-python",
   "name": "python",
   "nbconvert_exporter": "python",
   "pygments_lexer": "ipython2",
   "version": "2.7.14"
  }
 },
 "nbformat": 4,
 "nbformat_minor": 2
}
