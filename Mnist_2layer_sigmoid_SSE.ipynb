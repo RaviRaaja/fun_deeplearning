{
 "cells": [
  {
   "cell_type": "code",
   "execution_count": 1,
   "metadata": {},
   "outputs": [],
   "source": [
    "import glob\n",
    "import numpy as np\n",
    "from PIL import Image\n",
    "from sklearn.preprocessing import StandardScaler\n",
    "import matplotlib.pyplot as plt"
   ]
  },
  {
   "cell_type": "code",
   "execution_count": 2,
   "metadata": {},
   "outputs": [],
   "source": [
    "def load_dataset(validation=False):\n",
    "    if (validation):\n",
    "        filelist_1 = glob.glob('test/1/*.jpg')\n",
    "        x_test_1 = np.array([np.array(Image.open(fname)) for fname in filelist_1])\n",
    "        y_test_1 = np.ones((500,1))\n",
    "        flatten = x_test_1.shape[1]*x_test_1.shape[2]\n",
    "        x_test_1 = x_test_1.reshape(x_test_1.shape[0], flatten)\n",
    "        filelist_0 = glob.glob('test/0/*.jpg')\n",
    "        x_test_0 = np.array([np.array(Image.open(fname)) for fname in filelist_0])\n",
    "        y_test_0 = np.ones((500,1))\n",
    "        flatten = x_test_0.shape[1]*x_test_0.shape[2]\n",
    "        x_test_0 = x_test_0.reshape(x_test_0.shape[0], flatten)\n",
    "        x_test = np.concatenate((x_test_0,x_test_1))\n",
    "        y_test = np.concatenate((y_test_0,y_test_1))\n",
    "        return x_test,y_test\n",
    "    else:\n",
    "        filelist_1 = glob.glob('train/1/*.jpg')\n",
    "        x_train_1 = np.array([np.array(Image.open(fname)) for fname in filelist_1])\n",
    "        y_train_1 = np.ones((500,1))\n",
    "        flatten = x_train_1.shape[1]*x_train_1.shape[2]\n",
    "        x_train_1 = x_train_1.reshape(x_train_1.shape[0], flatten)\n",
    "        filelist_0 = glob.glob('train/0/*.jpg')\n",
    "        x_train_0 = np.array([np.array(Image.open(fname)) for fname in filelist_0])\n",
    "        y_train_0 = np.zeros((500,1))\n",
    "        flatten = x_train_0.shape[1]*x_train_0.shape[2]\n",
    "        x_train_0 = x_train_0.reshape(x_train_0.shape[0], flatten)\n",
    "        x_train = np.concatenate((x_train_0,x_train_1))\n",
    "        y_train = np.concatenate((y_train_0,y_train_1))\n",
    "        return x_train, y_train"
   ]
  },
  {
   "cell_type": "code",
   "execution_count": 3,
   "metadata": {},
   "outputs": [],
   "source": [
    "def normalize_data(X):\n",
    "    sc = StandardScaler()\n",
    "    return sc.fit_transform(X)"
   ]
  },
  {
   "cell_type": "code",
   "execution_count": 4,
   "metadata": {},
   "outputs": [],
   "source": [
    "def sigmoid(x,derivative=False):\n",
    "    if(derivative):\n",
    "        return x*(1-x)\n",
    "    return 1./(1+np.exp(-x))"
   ]
  },
  {
   "cell_type": "code",
   "execution_count": 5,
   "metadata": {},
   "outputs": [],
   "source": [
    "def init_weights(n_x,n_h,n_y):\n",
    "    \n",
    "    W1 = np.random.randn(n_h, n_x) * 0.01\n",
    "    b1 = np.zeros(shape=(n_h, 1))\n",
    "    W2 = np.random.randn(n_y, n_h) * 0.01\n",
    "    b2 = np.zeros(shape=(n_y, 1))\n",
    "    return W1, W2, b1, b2"
   ]
  },
  {
   "cell_type": "code",
   "execution_count": 6,
   "metadata": {},
   "outputs": [],
   "source": [
    "def compute_cost(A2,Y):\n",
    "    m = Y.shape[1]\n",
    "    cost = (1.0/m)*np.sum((Y-A2)**2)\n",
    "    return cost"
   ]
  },
  {
   "cell_type": "code",
   "execution_count": 7,
   "metadata": {},
   "outputs": [],
   "source": [
    "def compute_grad(X,A2,A1,Y,W1,W2):\n",
    "    m = Y.shape[1]\n",
    "    l2_error = -(Y-A2) * A2 * (1-A2)\n",
    "    dW2 = (1.0/m) * np.dot(l2_error,A1.T)\n",
    "    db2 = (1.0/m) * np.sum(l2_error, axis=1, keepdims=True)\n",
    "    \n",
    "    l1_error = np.multiply(np.dot(W2.T, l2_error), (A1*(1-A1)))\n",
    "    dW1 = (1.0/m) * np.dot(l1_error, X.T)\n",
    "    db1 = (1.0/m) * np.sum(l1_error, axis=1, keepdims=True)\n",
    "    \n",
    "    return dW1,dW2,db1,db2"
   ]
  },
  {
   "cell_type": "code",
   "execution_count": 8,
   "metadata": {},
   "outputs": [],
   "source": [
    "def update_parameters(W1,W2,b1,b2,dW1,dW2,db1,db2,lr):\n",
    "    W1 -= lr*dW1\n",
    "    W2 -= lr*dW2\n",
    "    b1 -= lr*db1\n",
    "    b2 -= lr*db2\n",
    "    return W1,W2,b1,b2"
   ]
  },
  {
   "cell_type": "code",
   "execution_count": 18,
   "metadata": {},
   "outputs": [],
   "source": [
    "def main(X,y,no_of_iter=1000):\n",
    "    n_x = X.shape[0] #784\n",
    "    n_h = 100 #number of nodes in hidden layer\n",
    "    n_y = 1 #number of nodes in output layer\n",
    "    lr = 0.2\n",
    "    W1, W2, b1, b2 = init_weights(n_x,n_h,n_y)\n",
    "    l_cost = []\n",
    "    \n",
    "    \n",
    "    for i in range(no_of_iter):\n",
    "        A0 = X\n",
    "        A1 = sigmoid(np.dot(W1,A0)+b1)\n",
    "        A2 = sigmoid(np.dot(W2,A1)+b2)\n",
    "        cost_ = compute_cost(A2,y)\n",
    "        l_cost.append(cost_)\n",
    "        \n",
    "        if (i%1000 is 0):\n",
    "            print (\"cost is {}\".format(cost_))\n",
    "        \n",
    "        dW1,dW2,db1,db2 = compute_grad(X,A2,A1,y,W1,W2)\n",
    "        W1,W2,b1,b2 = update_parameters(W1,W2,b1,b2,dW1,dW2,db1,db2,lr)\n",
    "\n",
    "    return W1, W2, b1, b2,l_cost\n",
    "        \n",
    "        #print (X.shape, W1.shape, W2.shape, b1.shape, b2.shape)\n",
    "        \n",
    "    "
   ]
  },
  {
   "cell_type": "code",
   "execution_count": 10,
   "metadata": {},
   "outputs": [],
   "source": [
    "def validation(W1,W2,b1,b2,X):\n",
    "    A0 = X\n",
    "    A1 = sigmoid(np.dot(W1,A0)+b1)\n",
    "    A2 = sigmoid(np.dot(W2,A1)+b2)\n",
    "    y_hat = np.round(A2)\n",
    "    return y_hat"
   ]
  },
  {
   "cell_type": "markdown",
   "metadata": {},
   "source": [
    "**TRAINING MNIST DATASET**"
   ]
  },
  {
   "cell_type": "code",
   "execution_count": 11,
   "metadata": {},
   "outputs": [
    {
     "name": "stderr",
     "output_type": "stream",
     "text": [
      "/home/stan/anaconda2/lib/python2.7/site-packages/sklearn/utils/validation.py:475: DataConversionWarning: Data with input dtype uint8 was converted to float64 by StandardScaler.\n",
      "  warnings.warn(msg, DataConversionWarning)\n"
     ]
    }
   ],
   "source": [
    "X, y = load_dataset()\n",
    "X = normalize_data(X).T\n",
    "y = y.T"
   ]
  },
  {
   "cell_type": "code",
   "execution_count": 19,
   "metadata": {},
   "outputs": [
    {
     "name": "stdout",
     "output_type": "stream",
     "text": [
      "cost is 0.250518438575\n",
      "cost is 0.00565496194993\n",
      "cost is 0.00210247574582\n",
      "cost is 0.00110561670036\n",
      "cost is 0.000706640391839\n",
      "cost is 0.000503863426434\n",
      "cost is 0.000384643655353\n",
      "cost is 0.000307516964358\n",
      "cost is 0.000254151138342\n",
      "cost is 0.00021534340554\n"
     ]
    },
    {
     "data": {
      "image/png": "[encoded data removed]",
      "text/plain": [
       "<matplotlib.figure.Figure at 0x7f2016fa7790>"
      ]
     },
     "metadata": {},
     "output_type": "display_data"
    }
   ],
   "source": [
    "final_W1, final_W2, final_b1, final_b2 ,l_cost= main(X,y,10000)\n",
    "plt.title(\"Cost Graph\")\n",
    "plt.xlabel(\"Number of iterations\")\n",
    "plt.ylabel(\"cost\")\n",
    "plt.plot(l_cost[:1000])\n",
    "plt.show()"
   ]
  },
  {
   "cell_type": "markdown",
   "metadata": {},
   "source": [
    "**VALIADTION OF MNIST**"
   ]
  },
  {
   "cell_type": "code",
   "execution_count": 20,
   "metadata": {},
   "outputs": [
    {
     "name": "stdout",
     "output_type": "stream",
     "text": [
      "Accuracy is 49.8%\n"
     ]
    }
   ],
   "source": [
    "x_test, y_test = load_dataset(validation=True)\n",
    "x_test = normalize_data(x_test).T\n",
    "y_test = y_test.T\n",
    "predictions = validation(final_W1, final_W2, final_b1, final_b2 ,x_test)\n",
    "acc = np.mean(y_test==predictions)\n",
    "print (\"Accuracy is {}%\".format(acc*100))"
   ]
  }
 ],
 "metadata": {
  "kernelspec": {
   "display_name": "Python 2",
   "language": "python",
   "name": "python2"
  },
  "language_info": {
   "codemirror_mode": {
    "name": "ipython",
    "version": 2
   },
   "file_extension": ".py",
   "mimetype": "text/x-python",
   "name": "python",
   "nbconvert_exporter": "python",
   "pygments_lexer": "ipython2",
   "version": "2.7.14"
  }
 },
 "nbformat": 4,
 "nbformat_minor": 2
}
