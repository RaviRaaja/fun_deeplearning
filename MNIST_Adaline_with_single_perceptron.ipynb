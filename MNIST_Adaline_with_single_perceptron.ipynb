{
 "cells": [
  {
   "cell_type": "code",
   "execution_count": 1,
   "metadata": {
    "collapsed": true
   },
   "outputs": [],
   "source": [
    "import glob\n",
    "import numpy as np\n",
    "from PIL import Image\n",
    "from sklearn.preprocessing import StandardScaler\n",
    "import matplotlib.pyplot as plt"
   ]
  },
  {
   "cell_type": "code",
   "execution_count": 2,
   "metadata": {
    "collapsed": true
   },
   "outputs": [],
   "source": [
    "def load_dataset(validation=False):\n",
    "    if (validation):\n",
    "        filelist_1 = glob.glob('test/1/*.jpg')\n",
    "        x_test_1 = np.array([np.array(Image.open(fname)) for fname in filelist_1])\n",
    "        y_test_1 = np.ones((500,1))\n",
    "        flatten = x_test_1.shape[1]*x_test_1.shape[2]\n",
    "        x_test_1 = x_test_1.reshape(x_test_1.shape[0], flatten)\n",
    "        filelist_0 = glob.glob('test/0/*.jpg')\n",
    "        x_test_0 = np.array([np.array(Image.open(fname)) for fname in filelist_0])\n",
    "        y_test_0 = np.ones((500,1))\n",
    "        flatten = x_test_0.shape[1]*x_test_0.shape[2]\n",
    "        x_test_0 = x_test_0.reshape(x_test_0.shape[0], flatten)\n",
    "        x_test = np.concatenate((x_test_0,x_test_1))\n",
    "        y_test = np.concatenate((y_test_0,y_test_1))\n",
    "        return x_test,y_test\n",
    "    else:\n",
    "        filelist_1 = glob.glob('train/1/*.jpg')\n",
    "        x_train_1 = np.array([np.array(Image.open(fname)) for fname in filelist_1])\n",
    "        y_train_1 = np.ones((500,1))\n",
    "        flatten = x_train_1.shape[1]*x_train_1.shape[2]\n",
    "        x_train_1 = x_train_1.reshape(x_train_1.shape[0], flatten)\n",
    "        filelist_0 = glob.glob('train/0/*.jpg')\n",
    "        x_train_0 = np.array([np.array(Image.open(fname)) for fname in filelist_0])\n",
    "        y_train_0 = np.zeros((500,1))\n",
    "        flatten = x_train_0.shape[1]*x_train_0.shape[2]\n",
    "        x_train_0 = x_train_0.reshape(x_train_0.shape[0], flatten)\n",
    "        x_train = np.concatenate((x_train_0,x_train_1))\n",
    "        y_train = np.concatenate((y_train_0,y_train_1))\n",
    "        return x_train, y_train"
   ]
  },
  {
   "cell_type": "code",
   "execution_count": 3,
   "metadata": {
    "collapsed": true
   },
   "outputs": [],
   "source": [
    "def normalize_data(X):\n",
    "    sc = StandardScaler()\n",
    "    return sc.fit_transform(X)"
   ]
  },
  {
   "cell_type": "code",
   "execution_count": 4,
   "metadata": {
    "collapsed": true
   },
   "outputs": [],
   "source": [
    "#Function for initializing random weights\n",
    "def init_weights(X):\n",
    "    W = np.random.rand(1,X.shape[1])*0.01\n",
    "    b = 0\n",
    "    return W, b"
   ]
  },
  {
   "cell_type": "code",
   "execution_count": 5,
   "metadata": {
    "collapsed": true
   },
   "outputs": [],
   "source": [
    "def linear_forward(X,W,b):\n",
    "    Z = np.dot(X,W.T) + b\n",
    "    return Z"
   ]
  },
  {
   "cell_type": "code",
   "execution_count": 6,
   "metadata": {
    "collapsed": true
   },
   "outputs": [],
   "source": [
    "def compute_cost(Y_hat,Y):\n",
    "    m = Y.shape[0]\n",
    "    cost = (1/m)*np.sum((Y-Y_hat)**2)\n",
    "    return cost"
   ]
  },
  {
   "cell_type": "code",
   "execution_count": 7,
   "metadata": {
    "collapsed": true
   },
   "outputs": [],
   "source": [
    "def compute_grad(X,Y_hat,Y):\n",
    "    m = Y.shape[0]\n",
    "    dW = (-1/m)*(np.dot((Y-Y_hat).T,X))\n",
    "    db = (-1/m)*np.sum((Y-Y_hat))\n",
    "    return dW,db    "
   ]
  },
  {
   "cell_type": "code",
   "execution_count": 8,
   "metadata": {
    "collapsed": true
   },
   "outputs": [],
   "source": [
    "def update_parameters(W,b,dW,db,eta):\n",
    "    W -= eta*dW\n",
    "    b -= eta*db\n",
    "    return W,b"
   ]
  },
  {
   "cell_type": "code",
   "execution_count": 9,
   "metadata": {
    "collapsed": true
   },
   "outputs": [],
   "source": [
    "def validation(W,b,x_test):\n",
    "    yhat = step(linear_forward(x_test,W,b))\n",
    "    return yhat"
   ]
  },
  {
   "cell_type": "code",
   "execution_count": 10,
   "metadata": {
    "collapsed": true
   },
   "outputs": [],
   "source": [
    "def step(z):\n",
    "    return 1 * (z > 0)"
   ]
  },
  {
   "cell_type": "code",
   "execution_count": 11,
   "metadata": {
    "collapsed": true
   },
   "outputs": [],
   "source": [
    "def main(X,Y):\n",
    "    W ,b = init_weights(X)\n",
    "    l_cost = []\n",
    "    num_iterations =1000\n",
    "    eta = 0.001 \n",
    "    for i in range(1,num_iterations):\n",
    "        Y_hat = linear_forward(X,W,b)\n",
    "        cost_ = compute_cost(Y_hat,Y)\n",
    "        l_cost.append(cost_)\n",
    "        if i%100==0:\n",
    "            print (\"cost is {} \".format(cost_))\n",
    "        \n",
    "        dW, db = compute_grad(X,Y_hat,Y)\n",
    "        W, b = update_parameters(W,b,dW,db,eta)\n",
    "    return W,b,l_cost"
   ]
  },
  {
   "cell_type": "markdown",
   "metadata": {},
   "source": [
    "**Training**"
   ]
  },
  {
   "cell_type": "code",
   "execution_count": 12,
   "metadata": {},
   "outputs": [
    {
     "name": "stderr",
     "output_type": "stream",
     "text": [
      "/home/stan/anaconda2/envs/tensorflow/lib/python3.5/site-packages/sklearn/utils/validation.py:475: DataConversionWarning: Data with input dtype uint8 was converted to float64 by StandardScaler.\n",
      "  warnings.warn(msg, DataConversionWarning)\n"
     ]
    }
   ],
   "source": [
    "#load_dataset\n",
    "x_train, y_train = load_dataset()\n",
    "x_train = normalize_data(x_train)"
   ]
  },
  {
   "cell_type": "code",
   "execution_count": 13,
   "metadata": {
    "scrolled": true
   },
   "outputs": [
    {
     "name": "stdout",
     "output_type": "stream",
     "text": [
      "cost is 0.2543628169736468 \n",
      "cost is 0.20612900156540512 \n",
      "cost is 0.17131016307041394 \n",
      "cost is 0.1436903689398724 \n",
      "cost is 0.12140517834523905 \n",
      "cost is 0.10329275718415776 \n",
      "cost is 0.08851047776897236 \n",
      "cost is 0.07641244167110837 \n",
      "cost is 0.066490259202223 \n"
     ]
    }
   ],
   "source": [
    "final_W, final_b , l_cost= main(x_train,y_train)"
   ]
  },
  {
   "cell_type": "markdown",
   "metadata": {},
   "source": [
    "**COST CURVE**"
   ]
  },
  {
   "cell_type": "code",
   "execution_count": 14,
   "metadata": {},
   "outputs": [
    {
     "data": {
      "image/png": "[encoded data removed]",
      "text/plain": [
       "<matplotlib.figure.Figure at 0x7f55b4871a90>"
      ]
     },
     "metadata": {},
     "output_type": "display_data"
    }
   ],
   "source": [
    "%matplotlib inline\n",
    "plt.plot(range(1,1000),l_cost)\n",
    "plt.show()"
   ]
  },
  {
   "cell_type": "markdown",
   "metadata": {},
   "source": [
    "**Validation**"
   ]
  },
  {
   "cell_type": "code",
   "execution_count": 18,
   "metadata": {
    "collapsed": true
   },
   "outputs": [],
   "source": [
    "x_test, y_test = load_dataset(validation=True)\n",
    "predictions = validation(final_W,final_b,x_test)\n",
    "acc = np.mean(y_test==predictions)"
   ]
  },
  {
   "cell_type": "code",
   "execution_count": 19,
   "metadata": {},
   "outputs": [
    {
     "name": "stdout",
     "output_type": "stream",
     "text": [
      "Accuracy is 48.199999999999996%\n"
     ]
    }
   ],
   "source": [
    "print (\"Accuracy is {}%\".format(acc*100))"
   ]
  }
 ],
 "metadata": {
  "kernelspec": {
   "display_name": "Python 3",
   "language": "python",
   "name": "python3"
  },
  "language_info": {
   "codemirror_mode": {
    "name": "ipython",
    "version": 3
   },
   "file_extension": ".py",
   "mimetype": "text/x-python",
   "name": "python",
   "nbconvert_exporter": "python",
   "pygments_lexer": "ipython3",
   "version": "3.5.4"
  }
 },
 "nbformat": 4,
 "nbformat_minor": 2
}
