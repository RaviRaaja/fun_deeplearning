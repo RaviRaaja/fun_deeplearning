{
 "cells": [
  {
   "cell_type": "code",
   "execution_count": 1,
   "metadata": {},
   "outputs": [
    {
     "name": "stderr",
     "output_type": "stream",
     "text": [
      "Using Theano backend.\n"
     ]
    }
   ],
   "source": [
    "import tensorflow as tf\n",
    "import keras\n",
    "import numpy as np"
   ]
  },
  {
   "cell_type": "code",
   "execution_count": 3,
   "metadata": {},
   "outputs": [
    {
     "name": "stdout",
     "output_type": "stream",
     "text": [
      "[[0 0]\n",
      " [0 1]\n",
      " [1 0]\n",
      " [1 1]]\n"
     ]
    }
   ],
   "source": [
    "data_in = np.array([[0,0],[0,1],[1,0],[1,1]])\n",
    "print (data_in)"
   ]
  },
  {
   "cell_type": "code",
   "execution_count": 4,
   "metadata": {
    "collapsed": true
   },
   "outputs": [],
   "source": [
    "logic_and = np.array([[0],[0],[0],[1]])\n",
    "logic_or = np.array([[0],[1],[1],[1]])\n",
    "logic_xor = np.array([[0],[1],[1],[0]])"
   ]
  },
  {
   "cell_type": "code",
   "execution_count": 14,
   "metadata": {
    "collapsed": true
   },
   "outputs": [],
   "source": [
    "#single perceptron for AND and OR\n",
    "model = keras.models.Sequential(layers=[\n",
    "    keras.layers.Dense(input_dim=2, units=1),\n",
    "    keras.layers.Activation(keras.activations.sigmoid)\n",
    "])\n",
    "model.compile(optimizer=keras.optimizers.SGD(lr=0.5), loss='mse' )"
   ]
  },
  {
   "cell_type": "code",
   "execution_count": 15,
   "metadata": {
    "collapsed": true
   },
   "outputs": [],
   "source": [
    "#multipllayer perceptron for XOR\n",
    "model_xor = keras.models.Sequential(layers=[\n",
    "    keras.layers.Dense(input_dim=2, units=2),\n",
    "    keras.layers.Activation(keras.activations.sigmoid),\n",
    "    keras.layers.Dense(units=1),\n",
    "    keras.layers.Activation(keras.activations.sigmoid)\n",
    "])\n",
    "\n",
    "model_xor.compile(optimizer=keras.optimizers.SGD(lr=0.5), loss='mse' )"
   ]
  },
  {
   "cell_type": "code",
   "execution_count": 16,
   "metadata": {},
   "outputs": [
    {
     "name": "stdout",
     "output_type": "stream",
     "text": [
      "[[-0.51886934  1.21101582]\n",
      " [-0.2389825   0.34911227]]\n",
      "[ 0.  0.]\n",
      "[[ 0.12827718]\n",
      " [ 0.56995821]]\n",
      "[ 0.]\n"
     ]
    }
   ],
   "source": [
    "print (keras.backend.eval(model_xor.weights[0])) #weights layer1\n",
    "print (keras.backend.eval(model_xor.weights[1])) #bias\n",
    "print (keras.backend.eval(model_xor.weights[2])) #weights layer2\n",
    "print (keras.backend.eval(model_xor.weights[3])) #bias"
   ]
  },
  {
   "cell_type": "code",
   "execution_count": 20,
   "metadata": {},
   "outputs": [
    {
     "data": {
      "text/plain": [
       "<keras.callbacks.History at 0x7fd3e9e5a240>"
      ]
     },
     "execution_count": 20,
     "metadata": {},
     "output_type": "execute_result"
    }
   ],
   "source": [
    "model_xor.fit(data_in, logic_xor, epochs =10000, verbose=False)"
   ]
  },
  {
   "cell_type": "code",
   "execution_count": 21,
   "metadata": {},
   "outputs": [
    {
     "name": "stdout",
     "output_type": "stream",
     "text": [
      "[[ 0.00938519]]\n",
      "[[ 0.9919076]]\n",
      "[[ 0.99191016]]\n",
      "[[ 0.00967643]]\n"
     ]
    }
   ],
   "source": [
    "print (model_xor.predict(np.array([[0,0]])))\n",
    "print (model_xor.predict(np.array([[0,1]])))\n",
    "print (model_xor.predict(np.array([[1,0]])))\n",
    "print (model_xor.predict(np.array([[1,1]])))"
   ]
  }
 ],
 "metadata": {
  "kernelspec": {
   "display_name": "Python 3",
   "language": "python",
   "name": "python3"
  },
  "language_info": {
   "codemirror_mode": {
    "name": "ipython",
    "version": 3
   },
   "file_extension": ".py",
   "mimetype": "text/x-python",
   "name": "python",
   "nbconvert_exporter": "python",
   "pygments_lexer": "ipython3",
   "version": "3.5.4"
  }
 },
 "nbformat": 4,
 "nbformat_minor": 2
}
